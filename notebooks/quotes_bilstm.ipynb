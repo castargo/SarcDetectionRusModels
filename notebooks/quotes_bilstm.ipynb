{
 "cells": [
  {
   "cell_type": "markdown",
   "metadata": {},
   "source": [
    "# BiLSTM"
   ]
  },
  {
   "cell_type": "code",
   "execution_count": 1,
   "metadata": {},
   "outputs": [],
   "source": [
    "import json\n",
    "import os\n",
    "import pandas as pd"
   ]
  },
  {
   "cell_type": "markdown",
   "metadata": {},
   "source": [
    "### Results"
   ]
  },
  {
   "cell_type": "code",
   "execution_count": 2,
   "metadata": {},
   "outputs": [],
   "source": [
    "result_path = '../results/quotes/bilstm'"
   ]
  },
  {
   "cell_type": "code",
   "execution_count": 3,
   "metadata": {},
   "outputs": [],
   "source": [
    "unsorted_scores = []\n",
    "\n",
    "for filename in os.listdir(result_path):\n",
    "    if filename.endswith('.json'):\n",
    "        with open(os.path.join(result_path, filename)) as f:\n",
    "            unsorted_scores.append(json.loads(f.read()))"
   ]
  },
  {
   "cell_type": "code",
   "execution_count": 4,
   "metadata": {},
   "outputs": [],
   "source": [
    "scores_df = pd.io.json.json_normalize(unsorted_scores)\n",
    "scores_df.rename(columns={\n",
    "    'results.precision': 'precision', 'results.recall': 'recall', 'results.F1': 'F1', \n",
    "    'results.PR AUC': 'PR_AUC', 'results.ROC AUC': 'ROC_AUC'}, inplace=True\n",
    "    )\n",
    "scores_df.drop(columns=['seed', 'test samples', 'extra_features'], axis=1, inplace=True)"
   ]
  },
  {
   "cell_type": "code",
   "execution_count": 5,
   "metadata": {},
   "outputs": [
    {
     "data": {
      "text/html": [
       "<div>\n",
       "<style scoped>\n",
       "    .dataframe tbody tr th:only-of-type {\n",
       "        vertical-align: middle;\n",
       "    }\n",
       "\n",
       "    .dataframe tbody tr th {\n",
       "        vertical-align: top;\n",
       "    }\n",
       "\n",
       "    .dataframe thead th {\n",
       "        text-align: right;\n",
       "    }\n",
       "</style>\n",
       "<table border=\"1\" class=\"dataframe\">\n",
       "  <thead>\n",
       "    <tr style=\"text-align: right;\">\n",
       "      <th></th>\n",
       "      <th>embedding</th>\n",
       "      <th>model</th>\n",
       "      <th>precision</th>\n",
       "      <th>recall</th>\n",
       "      <th>F1</th>\n",
       "      <th>PR_AUC</th>\n",
       "      <th>ROC_AUC</th>\n",
       "    </tr>\n",
       "  </thead>\n",
       "  <tbody>\n",
       "    <tr>\n",
       "      <th>0</th>\n",
       "      <td>NatashaGlove</td>\n",
       "      <td>BiLSTM</td>\n",
       "      <td>0.147869</td>\n",
       "      <td>0.605856</td>\n",
       "      <td>0.237719</td>\n",
       "      <td>0.163541</td>\n",
       "      <td>0.743935</td>\n",
       "    </tr>\n",
       "    <tr>\n",
       "      <th>1</th>\n",
       "      <td>Word2Vec</td>\n",
       "      <td>BiLSTM</td>\n",
       "      <td>0.147667</td>\n",
       "      <td>0.562357</td>\n",
       "      <td>0.233911</td>\n",
       "      <td>0.151524</td>\n",
       "      <td>0.735478</td>\n",
       "    </tr>\n",
       "  </tbody>\n",
       "</table>\n",
       "</div>"
      ],
      "text/plain": [
       "      embedding   model  precision    recall        F1    PR_AUC   ROC_AUC\n",
       "0  NatashaGlove  BiLSTM  0.147869   0.605856  0.237719  0.163541  0.743935\n",
       "1  Word2Vec      BiLSTM  0.147667   0.562357  0.233911  0.151524  0.735478"
      ]
     },
     "execution_count": 5,
     "metadata": {},
     "output_type": "execute_result"
    }
   ],
   "source": [
    "pd.set_option('display.max_colwidth', scores_df.shape[0] + 1)\n",
    "scores_df.sort_values(by=['precision'], ascending=False).head(15)"
   ]
  }
 ],
 "metadata": {
  "kernelspec": {
   "display_name": "Python 3",
   "language": "python",
   "name": "python3"
  },
  "language_info": {
   "codemirror_mode": {
    "name": "ipython",
    "version": 3
   },
   "file_extension": ".py",
   "mimetype": "text/x-python",
   "name": "python",
   "nbconvert_exporter": "python",
   "pygments_lexer": "ipython3",
   "version": "3.6.9"
  }
 },
 "nbformat": 4,
 "nbformat_minor": 4
}
