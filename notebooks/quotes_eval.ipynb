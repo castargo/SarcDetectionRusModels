{
 "cells": [
  {
   "cell_type": "markdown",
   "metadata": {},
   "source": [
    "# Comparison of results"
   ]
  },
  {
   "cell_type": "code",
   "execution_count": 1,
   "metadata": {},
   "outputs": [
    {
     "name": "stderr",
     "output_type": "stream",
     "text": [
      "[nltk_data] Downloading package punkt to /home/kate/nltk_data...\n",
      "[nltk_data]   Package punkt is already up-to-date!\n",
      "[nltk_data] Downloading package stopwords to /home/kate/nltk_data...\n",
      "[nltk_data]   Package stopwords is already up-to-date!\n",
      "[nltk_data] Downloading package perluniprops to\n",
      "[nltk_data]     /home/kate/nltk_data...\n",
      "[nltk_data]   Package perluniprops is already up-to-date!\n",
      "[nltk_data] Downloading package nonbreaking_prefixes to\n",
      "[nltk_data]     /home/kate/nltk_data...\n",
      "[nltk_data]   Package nonbreaking_prefixes is already up-to-date!\n"
     ]
    }
   ],
   "source": [
    "import os\n",
    "import pickle\n",
    "\n",
    "import numpy as np\n",
    "import pandas as pd\n",
    "\n",
    "from deeppavlov.core.common.file import read_json\n",
    "from deeppavlov import build_model, configs, train_model\n",
    "from deeppavlov.models.torch_bert.torch_transformers_classifier import TorchTransformersClassifierModel\n",
    "from deeppavlov.models.preprocessors.torch_transformers_preprocessor import TorchTransformersPreprocessor\n",
    "from joblib import load\n",
    "from scipy.sparse import hstack\n",
    "from scipy.sparse.csr import csr_matrix\n",
    "from sklearn.model_selection import train_test_split\n",
    "from sklearn.utils import shuffle\n",
    "from tensorflow.keras.models import load_model\n",
    "\n",
    "from sarcsdet.embeddings.gensim_word2vec_ruscorp import GensimWord2VecRUSEmbeddingVectorizer\n",
    "from sarcsdet.embeddings.NatashaGlove import NatashaGloVeEmbeddingVectorizer\n",
    "from sarcsdet.models.bilstm import BiLSTMClassifier\n",
    "from sarcsdet.models.count_model_metrics import *\n",
    "from sarcsdet.utils.train_utils import *"
   ]
  },
  {
   "cell_type": "markdown",
   "metadata": {},
   "source": [
    "## Get data"
   ]
  },
  {
   "cell_type": "code",
   "execution_count": 2,
   "metadata": {},
   "outputs": [],
   "source": [
    "with open(os.path.join('../data/Quotes', 'quotes_ling_feats.pickle'), 'rb') as f:\n",
    "    df = shuffle(pickle.load(f), random_state=8)"
   ]
  },
  {
   "cell_type": "code",
   "execution_count": 3,
   "metadata": {},
   "outputs": [],
   "source": [
    "_, test_df = train_test_split(df, test_size=0.3, random_state=8)"
   ]
  },
  {
   "cell_type": "markdown",
   "metadata": {},
   "source": [
    "## Logistic Regression"
   ]
  },
  {
   "cell_type": "code",
   "execution_count": 4,
   "metadata": {},
   "outputs": [],
   "source": [
    "tfidf = load('../data/Models/quotes/tfidf_lr/tfidf.joblib')\n",
    "estimator = load('../data/Models/quotes/tfidf_lr/LogisticRegression_plain.joblib')"
   ]
  },
  {
   "cell_type": "code",
   "execution_count": 5,
   "metadata": {},
   "outputs": [],
   "source": [
    "x = tfidf.transform(test_df['quote_tokenized'].values)\n",
    "preds = estimator.predict_proba(x)\n",
    "lr_preds = (preds[:, 1] > 0.5).astype(int)"
   ]
  },
  {
   "cell_type": "code",
   "execution_count": 6,
   "metadata": {},
   "outputs": [],
   "source": [
    "lr_test_metrics = get_test_classification_metrics(\n",
    "    test_df.target.values, (preds[:, 1] > 0.5).astype(int), preds[:, 1])"
   ]
  },
  {
   "cell_type": "markdown",
   "metadata": {},
   "source": [
    "## BiLSTM"
   ]
  },
  {
   "cell_type": "code",
   "execution_count": 7,
   "metadata": {
    "collapsed": true,
    "jupyter": {
     "outputs_hidden": true
    }
   },
   "outputs": [
    {
     "name": "stdout",
     "output_type": "stream",
     "text": [
      "WARNING:tensorflow:From /home/kate/.local/lib/python3.6/site-packages/tensorflow_core/python/ops/init_ops.py:97: calling GlorotUniform.__init__ (from tensorflow.python.ops.init_ops) with dtype is deprecated and will be removed in a future version.\n",
      "Instructions for updating:\n",
      "Call initializer instance with the dtype argument instead of passing it to the constructor\n",
      "WARNING:tensorflow:From /home/kate/.local/lib/python3.6/site-packages/tensorflow_core/python/ops/init_ops.py:97: calling Orthogonal.__init__ (from tensorflow.python.ops.init_ops) with dtype is deprecated and will be removed in a future version.\n",
      "Instructions for updating:\n",
      "Call initializer instance with the dtype argument instead of passing it to the constructor\n",
      "WARNING:tensorflow:From /home/kate/.local/lib/python3.6/site-packages/tensorflow_core/python/ops/init_ops.py:97: calling Zeros.__init__ (from tensorflow.python.ops.init_ops) with dtype is deprecated and will be removed in a future version.\n",
      "Instructions for updating:\n",
      "Call initializer instance with the dtype argument instead of passing it to the constructor\n",
      "WARNING:tensorflow:From /home/kate/.local/lib/python3.6/site-packages/tensorflow_core/python/ops/resource_variable_ops.py:1630: calling BaseResourceVariable.__init__ (from tensorflow.python.ops.resource_variable_ops) with constraint is deprecated and will be removed in a future version.\n",
      "Instructions for updating:\n",
      "If using Keras pass *_constraint arguments to layers.\n",
      "WARNING:tensorflow:Large dropout rate: 0.75 (>0.5). In TensorFlow 2.x, dropout() uses dropout rate instead of keep_prob. Please ensure that this is intended.\n",
      "WARNING:tensorflow:Large dropout rate: 0.75 (>0.5). In TensorFlow 2.x, dropout() uses dropout rate instead of keep_prob. Please ensure that this is intended.\n",
      "WARNING:tensorflow:Large dropout rate: 0.75 (>0.5). In TensorFlow 2.x, dropout() uses dropout rate instead of keep_prob. Please ensure that this is intended.\n",
      "WARNING:tensorflow:From /home/kate/.local/lib/python3.6/site-packages/tensorflow_core/python/ops/nn_impl.py:183: where (from tensorflow.python.ops.array_ops) is deprecated and will be removed in a future version.\n",
      "Instructions for updating:\n",
      "Use tf.where in 2.0, which has the same broadcast rule as np.where\n",
      "WARNING:tensorflow:Large dropout rate: 0.75 (>0.5). In TensorFlow 2.x, dropout() uses dropout rate instead of keep_prob. Please ensure that this is intended.\n",
      "WARNING:tensorflow:Large dropout rate: 0.75 (>0.5). In TensorFlow 2.x, dropout() uses dropout rate instead of keep_prob. Please ensure that this is intended.\n"
     ]
    }
   ],
   "source": [
    "model = BiLSTMClassifier((30, 300))\n",
    "model.model = load_model('../data/Models/quotes/bilstm/NatashaGlove_BiLSTM.h5')"
   ]
  },
  {
   "cell_type": "code",
   "execution_count": 8,
   "metadata": {},
   "outputs": [],
   "source": [
    "embedding_model = NatashaGloVeEmbeddingVectorizer(\n",
    "    False, '../data/Embeddings/navec_hudlit_v1_12B_500K_300d_100q.tar')"
   ]
  },
  {
   "cell_type": "code",
   "execution_count": 9,
   "metadata": {},
   "outputs": [],
   "source": [
    "x = embedding_model.transform(test_df['quote_tokenized'])"
   ]
  },
  {
   "cell_type": "code",
   "execution_count": 10,
   "metadata": {},
   "outputs": [],
   "source": [
    "preds = model.predict_proba(x)\n",
    "bilstm_preds = preds"
   ]
  },
  {
   "cell_type": "code",
   "execution_count": 11,
   "metadata": {},
   "outputs": [],
   "source": [
    "bilstm_test_metrics = get_test_classification_metrics(\n",
    "    test_df.target.values, (preds > 0.6).astype(int), preds)"
   ]
  },
  {
   "cell_type": "markdown",
   "metadata": {},
   "source": [
    "## RuBert DeepPavlov"
   ]
  },
  {
   "cell_type": "code",
   "execution_count": 12,
   "metadata": {},
   "outputs": [],
   "source": [
    "bert_config = read_json(configs.classifiers.rusentiment_bert)\n",
    "\n",
    "bert_config['dataset_reader']['x'] = 'quote'\n",
    "bert_config['dataset_reader']['y'] = 'target'\n",
    "bert_config['dataset_reader']['data_path'] = './'\n",
    "bert_config['dataset_reader']['train'] = 'train.csv'\n",
    "bert_config['dataset_reader']['valid'] = 'valid.csv'\n",
    "bert_config['dataset_reader']['test'] = 'test.csv'\n",
    "\n",
    "del bert_config['dataset_iterator']['split_seed']\n",
    "del bert_config['dataset_iterator']['field_to_split']\n",
    "del bert_config['dataset_iterator']['split_fields']\n",
    "del bert_config['dataset_iterator']['split_proportions']\n",
    "\n",
    "bert_config['metadata']['variables']['MODEL_PATH'] = '../data/Models/quotes/rubert/'\n",
    "\n",
    "del bert_config['chainer']['pipe'][-2:]\n",
    "del bert_config['chainer']['pipe'][1]\n",
    "bert_config['chainer']['pipe'][1]['in'] = 'y'\n",
    "bert_config['chainer']['pipe'][1]['depth'] = 2\n",
    "bert_config['chainer']['pipe'][2]['n_classes'] = 2\n",
    "bert_config['train']['metrics'] = [bert_config['train']['metrics'][-1]]\n",
    "bert_config['chainer']['out'] = ['y_pred_probas']\n",
    "bert_config['train']['epochs'] = 2\n",
    "bert_config['train']['batch_size'] = 32\n",
    "bert_config['train']['show_examples'] = True\n",
    "\n",
    "vocab_file = '{DOWNLOADS_PATH}/bert_models/rubert_cased_L-12_H-768_A-12_v1/vocab.txt'\n",
    "bert_config_file = \"{DOWNLOADS_PATH}/bert_models/rubert_cased_L-12_H-768_A-12_v1/bert_config.json\"\n",
    "pretrained_bert = \"{DOWNLOADS_PATH}/bert_models/rubert_cased_L-12_H-768_A-12_v1/bert_model.ckpt\"\n",
    "\n",
    "bert_config['chainer']['pipe'][0]['vocab_file'] = vocab_file\n",
    "bert_config['chainer']['pipe'][1]['bert_config_file'] = bert_config_file\n",
    "bert_config['chainer']['pipe'][1]['pretrained_bert'] = pretrained_bert\n",
    "\n",
    "bert_config['chainer']['pipe'][2]['bert_config_file'] = bert_config_file\n",
    "bert_config['chainer']['pipe'][2]['pretrained_bert'] = pretrained_bert"
   ]
  },
  {
   "cell_type": "code",
   "execution_count": 13,
   "metadata": {
    "collapsed": true,
    "jupyter": {
     "outputs_hidden": true
    }
   },
   "outputs": [
    {
     "name": "stdout",
     "output_type": "stream",
     "text": [
      "WARNING:tensorflow:From /home/kate/.local/lib/python3.6/site-packages/bert_dp/tokenization.py:125: The name tf.gfile.GFile is deprecated. Please use tf.io.gfile.GFile instead.\n",
      "\n",
      "WARNING:tensorflow:From /home/kate/.local/lib/python3.6/site-packages/deeppavlov/core/models/tf_model.py:37: The name tf.Session is deprecated. Please use tf.compat.v1.Session instead.\n",
      "\n",
      "WARNING:tensorflow:From /home/kate/.local/lib/python3.6/site-packages/deeppavlov/core/models/tf_model.py:222: The name tf.placeholder is deprecated. Please use tf.compat.v1.placeholder instead.\n",
      "\n",
      "WARNING:tensorflow:From /home/kate/.local/lib/python3.6/site-packages/deeppavlov/core/models/tf_model.py:222: The name tf.train.Optimizer is deprecated. Please use tf.compat.v1.train.Optimizer instead.\n",
      "\n",
      "WARNING:tensorflow:From /home/kate/.local/lib/python3.6/site-packages/deeppavlov/core/models/tf_model.py:193: The name tf.train.AdamOptimizer is deprecated. Please use tf.compat.v1.train.AdamOptimizer instead.\n",
      "\n",
      "WARNING:tensorflow:From /home/kate/.local/lib/python3.6/site-packages/deeppavlov/models/bert/bert_classifier.py:84: The name tf.ConfigProto is deprecated. Please use tf.compat.v1.ConfigProto instead.\n",
      "\n",
      "WARNING:tensorflow:From /home/kate/.local/lib/python3.6/site-packages/deeppavlov/models/bert/bert_classifier.py:161: The name tf.placeholder_with_default is deprecated. Please use tf.compat.v1.placeholder_with_default instead.\n",
      "\n",
      "WARNING:tensorflow:From /home/kate/.local/lib/python3.6/site-packages/bert_dp/modeling.py:178: The name tf.variable_scope is deprecated. Please use tf.compat.v1.variable_scope instead.\n",
      "\n",
      "WARNING:tensorflow:From /home/kate/.local/lib/python3.6/site-packages/bert_dp/modeling.py:418: The name tf.get_variable is deprecated. Please use tf.compat.v1.get_variable instead.\n",
      "\n",
      "WARNING:tensorflow:From /home/kate/.local/lib/python3.6/site-packages/bert_dp/modeling.py:499: The name tf.assert_less_equal is deprecated. Please use tf.compat.v1.assert_less_equal instead.\n",
      "\n",
      "WARNING:tensorflow:\n",
      "The TensorFlow contrib module will not be included in TensorFlow 2.0.\n",
      "For more information, please see:\n",
      "  * https://github.com/tensorflow/community/blob/master/rfcs/20180907-contrib-sunset.md\n",
      "  * https://github.com/tensorflow/addons\n",
      "  * https://github.com/tensorflow/io (for I/O related ops)\n",
      "If you depend on functionality not listed there, please file an issue.\n",
      "\n",
      "WARNING:tensorflow:From /home/kate/.local/lib/python3.6/site-packages/bert_dp/modeling.py:366: calling dropout (from tensorflow.python.ops.nn_ops) with keep_prob is deprecated and will be removed in a future version.\n",
      "Instructions for updating:\n",
      "Please use `rate` instead of `keep_prob`. Rate should be set to `rate = 1 - keep_prob`.\n",
      "WARNING:tensorflow:From /home/kate/.local/lib/python3.6/site-packages/bert_dp/modeling.py:680: dense (from tensorflow.python.layers.core) is deprecated and will be removed in a future version.\n",
      "Instructions for updating:\n",
      "Use keras.layers.Dense instead.\n",
      "WARNING:tensorflow:From /home/kate/.local/lib/python3.6/site-packages/tensorflow_core/python/layers/core.py:187: Layer.apply (from tensorflow.python.keras.engine.base_layer) is deprecated and will be removed in a future version.\n",
      "Instructions for updating:\n",
      "Please use `layer.__call__` method instead.\n",
      "WARNING:tensorflow:From /home/kate/.local/lib/python3.6/site-packages/bert_dp/modeling.py:283: The name tf.erf is deprecated. Please use tf.math.erf instead.\n",
      "\n",
      "WARNING:tensorflow:From /home/kate/.local/lib/python3.6/site-packages/deeppavlov/core/models/tf_model.py:234: The name tf.train.AdadeltaOptimizer is deprecated. Please use tf.compat.v1.train.AdadeltaOptimizer instead.\n",
      "\n",
      "WARNING:tensorflow:From /home/kate/.local/lib/python3.6/site-packages/deeppavlov/core/models/tf_model.py:127: The name tf.get_collection is deprecated. Please use tf.compat.v1.get_collection instead.\n",
      "\n",
      "WARNING:tensorflow:From /home/kate/.local/lib/python3.6/site-packages/deeppavlov/core/models/tf_model.py:127: The name tf.GraphKeys is deprecated. Please use tf.compat.v1.GraphKeys instead.\n",
      "\n",
      "WARNING:tensorflow:From /home/kate/.local/lib/python3.6/site-packages/deeppavlov/models/bert/bert_classifier.py:92: The name tf.global_variables_initializer is deprecated. Please use tf.compat.v1.global_variables_initializer instead.\n",
      "\n",
      "WARNING:tensorflow:From /home/kate/.local/lib/python3.6/site-packages/deeppavlov/models/bert/bert_classifier.py:97: checkpoint_exists (from tensorflow.python.training.checkpoint_management) is deprecated and will be removed in a future version.\n",
      "Instructions for updating:\n",
      "Use standard file APIs to check for files with this prefix.\n"
     ]
    },
    {
     "name": "stderr",
     "output_type": "stream",
     "text": [
      "2021-04-20 13:56:49.532 INFO in 'deeppavlov.core.models.tf_model'['tf_model'] at line 51: [loading model from /home/kate/Desktop/Sarcasm_Detection/data/Models/quotes/rubert/model]\n"
     ]
    },
    {
     "name": "stdout",
     "output_type": "stream",
     "text": [
      "WARNING:tensorflow:From /home/kate/.local/lib/python3.6/site-packages/deeppavlov/core/models/tf_model.py:54: The name tf.train.Saver is deprecated. Please use tf.compat.v1.train.Saver instead.\n",
      "\n",
      "INFO:tensorflow:Restoring parameters from /home/kate/Desktop/Sarcasm_Detection/data/Models/quotes/rubert/model\n"
     ]
    }
   ],
   "source": [
    "m = build_model(bert_config)"
   ]
  },
  {
   "cell_type": "code",
   "execution_count": 14,
   "metadata": {},
   "outputs": [
    {
     "data": {
      "application/vnd.jupyter.widget-view+json": {
       "model_id": "48d7cb7e097d4f0ebdc7f0ee514d82fc",
       "version_major": 2,
       "version_minor": 0
      },
      "text/plain": [
       "HBox(children=(FloatProgress(value=0.0, max=1874.0), HTML(value='')))"
      ]
     },
     "metadata": {},
     "output_type": "display_data"
    },
    {
     "name": "stdout",
     "output_type": "stream",
     "text": [
      "\n"
     ]
    }
   ],
   "source": [
    "preds_proba = []\n",
    "for batch in tqdm(chunks(test_df[\"quote\"].values, 64), total=int(test_df.index.size / 64)):\n",
    "    preds_proba.append(m(batch))\n",
    "\n",
    "preds = np.concatenate(preds_proba)\n",
    "rubert_preds = (preds[:, 1] > 0.5).astype(int)"
   ]
  },
  {
   "cell_type": "code",
   "execution_count": 15,
   "metadata": {},
   "outputs": [],
   "source": [
    "rubert_test_metrics = get_test_classification_metrics(\n",
    "    test_df.target.values, (preds[:, 1] > 0.5).astype(int), preds[:, 1])"
   ]
  },
  {
   "cell_type": "markdown",
   "metadata": {},
   "source": [
    "## Quotes test metrics"
   ]
  },
  {
   "cell_type": "code",
   "execution_count": 16,
   "metadata": {},
   "outputs": [
    {
     "data": {
      "text/html": [
       "<div>\n",
       "<style scoped>\n",
       "    .dataframe tbody tr th:only-of-type {\n",
       "        vertical-align: middle;\n",
       "    }\n",
       "\n",
       "    .dataframe tbody tr th {\n",
       "        vertical-align: top;\n",
       "    }\n",
       "\n",
       "    .dataframe thead th {\n",
       "        text-align: right;\n",
       "    }\n",
       "</style>\n",
       "<table border=\"1\" class=\"dataframe\">\n",
       "  <thead>\n",
       "    <tr style=\"text-align: right;\">\n",
       "      <th></th>\n",
       "      <th>F1</th>\n",
       "      <th>Precision</th>\n",
       "      <th>Recall</th>\n",
       "      <th>PR_AUC</th>\n",
       "      <th>ROC_AUC</th>\n",
       "    </tr>\n",
       "  </thead>\n",
       "  <tbody>\n",
       "    <tr>\n",
       "      <th>TFIDF_LR</th>\n",
       "      <td>0.223270</td>\n",
       "      <td>0.142651</td>\n",
       "      <td>0.513435</td>\n",
       "      <td>0.150106</td>\n",
       "      <td>0.718008</td>\n",
       "    </tr>\n",
       "    <tr>\n",
       "      <th>BILSTM</th>\n",
       "      <td>0.237719</td>\n",
       "      <td>0.147869</td>\n",
       "      <td>0.605856</td>\n",
       "      <td>0.163541</td>\n",
       "      <td>0.743935</td>\n",
       "    </tr>\n",
       "    <tr>\n",
       "      <th>RUBERT</th>\n",
       "      <td>0.257564</td>\n",
       "      <td>0.159319</td>\n",
       "      <td>0.671888</td>\n",
       "      <td>0.191431</td>\n",
       "      <td>0.778881</td>\n",
       "    </tr>\n",
       "  </tbody>\n",
       "</table>\n",
       "</div>"
      ],
      "text/plain": [
       "                F1  Precision    Recall    PR_AUC   ROC_AUC\n",
       "TFIDF_LR  0.223270   0.142651  0.513435  0.150106  0.718008\n",
       "BILSTM    0.237719   0.147869  0.605856  0.163541  0.743935\n",
       "RUBERT    0.257564   0.159319  0.671888  0.191431  0.778881"
      ]
     },
     "execution_count": 16,
     "metadata": {},
     "output_type": "execute_result"
    }
   ],
   "source": [
    "pd.DataFrame.from_dict([\n",
    "    lr_test_metrics,\n",
    "    bilstm_test_metrics,\n",
    "    rubert_test_metrics\n",
    "]).rename(index={0: 'TFIDF_LR', 1: 'BILSTM', 2: 'RUBERT'})"
   ]
  },
  {
   "cell_type": "markdown",
   "metadata": {},
   "source": [
    "## Result dataframe"
   ]
  },
  {
   "cell_type": "code",
   "execution_count": 22,
   "metadata": {},
   "outputs": [],
   "source": [
    "results = {\n",
    "    'quote': test_df.quote.values,\n",
    "    'target': test_df.target.values,\n",
    "    'tfidf_lr': lr_preds,\n",
    "    'bilstm': (bilstm_preds > 0.6).astype(int).flatten(),\n",
    "    'rubert': rubert_preds\n",
    "}\n",
    "\n",
    "result_df = pd.DataFrame(results, columns=results.keys())\n",
    "pd.set_option('display.max_colwidth', result_df.shape[0] + 1)"
   ]
  },
  {
   "cell_type": "code",
   "execution_count": 23,
   "metadata": {},
   "outputs": [
    {
     "data": {
      "text/html": [
       "<div>\n",
       "<style scoped>\n",
       "    .dataframe tbody tr th:only-of-type {\n",
       "        vertical-align: middle;\n",
       "    }\n",
       "\n",
       "    .dataframe tbody tr th {\n",
       "        vertical-align: top;\n",
       "    }\n",
       "\n",
       "    .dataframe thead th {\n",
       "        text-align: right;\n",
       "    }\n",
       "</style>\n",
       "<table border=\"1\" class=\"dataframe\">\n",
       "  <thead>\n",
       "    <tr style=\"text-align: right;\">\n",
       "      <th></th>\n",
       "      <th>quote</th>\n",
       "      <th>target</th>\n",
       "      <th>tfidf_lr</th>\n",
       "      <th>bilstm</th>\n",
       "      <th>rubert</th>\n",
       "    </tr>\n",
       "  </thead>\n",
       "  <tbody>\n",
       "    <tr>\n",
       "      <th>31</th>\n",
       "      <td>Люди больше любят принимать сторону не правого, а выигравшего. Или считающегося таковым.</td>\n",
       "      <td>1</td>\n",
       "      <td>0</td>\n",
       "      <td>0</td>\n",
       "      <td>0</td>\n",
       "    </tr>\n",
       "    <tr>\n",
       "      <th>208</th>\n",
       "      <td>Завелось такое количество звёздочек в кино и с такой гордыней, что не знаешь, как к ним подступиться. Ничего не сделали, глаза налево, направо скосили, но уже подавай им космический корабль.</td>\n",
       "      <td>1</td>\n",
       "      <td>0</td>\n",
       "      <td>0</td>\n",
       "      <td>0</td>\n",
       "    </tr>\n",
       "    <tr>\n",
       "      <th>214</th>\n",
       "      <td>— Ты стремишься продемонстрировать размеры своего своего — Двигателя? — Самолюбия!</td>\n",
       "      <td>1</td>\n",
       "      <td>0</td>\n",
       "      <td>0</td>\n",
       "      <td>0</td>\n",
       "    </tr>\n",
       "    <tr>\n",
       "      <th>277</th>\n",
       "      <td>Нужно подобрать что-то меньше 21 навсегда и что-то больше внезапно 42.</td>\n",
       "      <td>1</td>\n",
       "      <td>0</td>\n",
       "      <td>0</td>\n",
       "      <td>0</td>\n",
       "    </tr>\n",
       "    <tr>\n",
       "      <th>327</th>\n",
       "      <td>Можно соревноваться не в ненависти, не в приобретательстве, но в любви. Это гораздо увлекательнее.</td>\n",
       "      <td>1</td>\n",
       "      <td>0</td>\n",
       "      <td>0</td>\n",
       "      <td>0</td>\n",
       "    </tr>\n",
       "    <tr>\n",
       "      <th>329</th>\n",
       "      <td>Стремись достичь невозможного!, — он ведь именно так и поступает! Совершенно точно знает, что принесёт неприятности своему Ордену, и всё равно наводит смуту! Когда-нибудь он наверняка навлечёт большую беду на наш Орден!</td>\n",
       "      <td>1</td>\n",
       "      <td>0</td>\n",
       "      <td>0</td>\n",
       "      <td>0</td>\n",
       "    </tr>\n",
       "    <tr>\n",
       "      <th>357</th>\n",
       "      <td>Нет ничего хуже, чем планируемое ожидание. Когда планируешь не ты.</td>\n",
       "      <td>1</td>\n",
       "      <td>0</td>\n",
       "      <td>0</td>\n",
       "      <td>0</td>\n",
       "    </tr>\n",
       "    <tr>\n",
       "      <th>414</th>\n",
       "      <td>Худшее, что ты можешь сделать, Шон, — это взять ситуацию в свои руки</td>\n",
       "      <td>1</td>\n",
       "      <td>0</td>\n",
       "      <td>0</td>\n",
       "      <td>0</td>\n",
       "    </tr>\n",
       "    <tr>\n",
       "      <th>493</th>\n",
       "      <td>Люди, которые должны быть забиты до смерти деревянной ложкой — это люди, которые читают книги Помоги себе сам.</td>\n",
       "      <td>1</td>\n",
       "      <td>0</td>\n",
       "      <td>0</td>\n",
       "      <td>0</td>\n",
       "    </tr>\n",
       "    <tr>\n",
       "      <th>711</th>\n",
       "      <td>Была волшебная погода. Дождь шел только шестьдесят дней.</td>\n",
       "      <td>1</td>\n",
       "      <td>0</td>\n",
       "      <td>0</td>\n",
       "      <td>0</td>\n",
       "    </tr>\n",
       "    <tr>\n",
       "      <th>729</th>\n",
       "      <td>Раньше люди были ближе друг к другу. Иначе не могли – не было дальнобойного оружия.</td>\n",
       "      <td>1</td>\n",
       "      <td>0</td>\n",
       "      <td>0</td>\n",
       "      <td>0</td>\n",
       "    </tr>\n",
       "    <tr>\n",
       "      <th>861</th>\n",
       "      <td>Вообще говоря, Овцепики не были обделены ровными участками поверхности. Беда в том, что почти все эти участки по своей ориентации вертикальны.</td>\n",
       "      <td>1</td>\n",
       "      <td>0</td>\n",
       "      <td>0</td>\n",
       "      <td>0</td>\n",
       "    </tr>\n",
       "    <tr>\n",
       "      <th>1035</th>\n",
       "      <td>— Почему ты всегда лжешь? — Почему ты считаешь, что я всегда лгу? — Это экономит время.</td>\n",
       "      <td>1</td>\n",
       "      <td>0</td>\n",
       "      <td>0</td>\n",
       "      <td>0</td>\n",
       "    </tr>\n",
       "    <tr>\n",
       "      <th>1219</th>\n",
       "      <td>Знаешь, Берти, бывают минуты — нечасто, конечно, — когда твой интеллект приближается к разуму человека.</td>\n",
       "      <td>1</td>\n",
       "      <td>0</td>\n",
       "      <td>0</td>\n",
       "      <td>0</td>\n",
       "    </tr>\n",
       "    <tr>\n",
       "      <th>1367</th>\n",
       "      <td>Силой своего воображения отважный одиночка, у которого нет ни друзей, ни подружки, в любой момент может превратить весь мир в парк развлечений. Человек, гуляющий в одиночку, всё время о таком думает. Очень занимательно получается, скажу я вам.</td>\n",
       "      <td>1</td>\n",
       "      <td>0</td>\n",
       "      <td>0</td>\n",
       "      <td>0</td>\n",
       "    </tr>\n",
       "  </tbody>\n",
       "</table>\n",
       "</div>"
      ],
      "text/plain": [
       "                                                                                                                                                                                                                                                    quote  \\\n",
       "31                                                                                                                                                               Люди больше любят принимать сторону не правого, а выигравшего. Или считающегося таковым.   \n",
       "208                                                        Завелось такое количество звёздочек в кино и с такой гордыней, что не знаешь, как к ним подступиться. Ничего не сделали, глаза налево, направо скосили, но уже подавай им космический корабль.   \n",
       "214                                                                                                                                                                    — Ты стремишься продемонстрировать размеры своего своего — Двигателя? — Самолюбия!   \n",
       "277                                                                                                                                                                                Нужно подобрать что-то меньше 21 навсегда и что-то больше внезапно 42.   \n",
       "327                                                                                                                                                    Можно соревноваться не в ненависти, не в приобретательстве, но в любви. Это гораздо увлекательнее.   \n",
       "329                           Стремись достичь невозможного!, — он ведь именно так и поступает! Совершенно точно знает, что принесёт неприятности своему Ордену, и всё равно наводит смуту! Когда-нибудь он наверняка навлечёт большую беду на наш Орден!   \n",
       "357                                                                                                                                                                                    Нет ничего хуже, чем планируемое ожидание. Когда планируешь не ты.   \n",
       "414                                                                                                                                                                                  Худшее, что ты можешь сделать, Шон, — это взять ситуацию в свои руки   \n",
       "493                                                                                                                                        Люди, которые должны быть забиты до смерти деревянной ложкой — это люди, которые читают книги Помоги себе сам.   \n",
       "711                                                                                                                                                                                              Была волшебная погода. Дождь шел только шестьдесят дней.   \n",
       "729                                                                                                                                                                   Раньше люди были ближе друг к другу. Иначе не могли – не было дальнобойного оружия.   \n",
       "861                                                                                                        Вообще говоря, Овцепики не были обделены ровными участками поверхности. Беда в том, что почти все эти участки по своей ориентации вертикальны.   \n",
       "1035                                                                                                                                                              — Почему ты всегда лжешь? — Почему ты считаешь, что я всегда лгу? — Это экономит время.   \n",
       "1219                                                                                                                                              Знаешь, Берти, бывают минуты — нечасто, конечно, — когда твой интеллект приближается к разуму человека.   \n",
       "1367  Силой своего воображения отважный одиночка, у которого нет ни друзей, ни подружки, в любой момент может превратить весь мир в парк развлечений. Человек, гуляющий в одиночку, всё время о таком думает. Очень занимательно получается, скажу я вам.   \n",
       "\n",
       "      target  tfidf_lr  bilstm  rubert  \n",
       "31         1         0       0       0  \n",
       "208        1         0       0       0  \n",
       "214        1         0       0       0  \n",
       "277        1         0       0       0  \n",
       "327        1         0       0       0  \n",
       "329        1         0       0       0  \n",
       "357        1         0       0       0  \n",
       "414        1         0       0       0  \n",
       "493        1         0       0       0  \n",
       "711        1         0       0       0  \n",
       "729        1         0       0       0  \n",
       "861        1         0       0       0  \n",
       "1035       1         0       0       0  \n",
       "1219       1         0       0       0  \n",
       "1367       1         0       0       0  "
      ]
     },
     "execution_count": 23,
     "metadata": {},
     "output_type": "execute_result"
    }
   ],
   "source": [
    "fn = result_df[\n",
    "    (result_df.target == 1) & (result_df.tfidf_lr == 0) & \n",
    "    (result_df.bilstm == 0) & (result_df.rubert == 0)\n",
    "]\n",
    "fn.head(15)"
   ]
  },
  {
   "cell_type": "code",
   "execution_count": 24,
   "metadata": {},
   "outputs": [
    {
     "data": {
      "text/html": [
       "<div>\n",
       "<style scoped>\n",
       "    .dataframe tbody tr th:only-of-type {\n",
       "        vertical-align: middle;\n",
       "    }\n",
       "\n",
       "    .dataframe tbody tr th {\n",
       "        vertical-align: top;\n",
       "    }\n",
       "\n",
       "    .dataframe thead th {\n",
       "        text-align: right;\n",
       "    }\n",
       "</style>\n",
       "<table border=\"1\" class=\"dataframe\">\n",
       "  <thead>\n",
       "    <tr style=\"text-align: right;\">\n",
       "      <th></th>\n",
       "      <th>quote</th>\n",
       "      <th>target</th>\n",
       "      <th>tfidf_lr</th>\n",
       "      <th>bilstm</th>\n",
       "      <th>rubert</th>\n",
       "    </tr>\n",
       "  </thead>\n",
       "  <tbody>\n",
       "    <tr>\n",
       "      <th>2</th>\n",
       "      <td>Соблюдай сабурдинацию, пожалуйста.</td>\n",
       "      <td>0</td>\n",
       "      <td>1</td>\n",
       "      <td>1</td>\n",
       "      <td>1</td>\n",
       "    </tr>\n",
       "    <tr>\n",
       "      <th>9</th>\n",
       "      <td>Нация меряется по гражданству. В данном случае все россияне. За границей мы и сейчас все русские — будь ты чеченец, татарин или удмурт. Нация по гражданству, пожалуй, единственно верный подход. Американец может быть по происхождению мексиканцем, итальянцем, темнокожим, но он все равно американец.</td>\n",
       "      <td>0</td>\n",
       "      <td>1</td>\n",
       "      <td>1</td>\n",
       "      <td>1</td>\n",
       "    </tr>\n",
       "    <tr>\n",
       "      <th>12</th>\n",
       "      <td>Остерегайся того, кто прикидывается хромым.</td>\n",
       "      <td>0</td>\n",
       "      <td>1</td>\n",
       "      <td>1</td>\n",
       "      <td>1</td>\n",
       "    </tr>\n",
       "    <tr>\n",
       "      <th>18</th>\n",
       "      <td>Эта гидра, это чудовище — самоуправство административных властей, развращенность чиновничества и подкупность судов России. Россия стонет в тисках этой гидры поборов, насилия и грабежа, которая до сих пор издевается даже над высшей властью.</td>\n",
       "      <td>0</td>\n",
       "      <td>1</td>\n",
       "      <td>1</td>\n",
       "      <td>1</td>\n",
       "    </tr>\n",
       "    <tr>\n",
       "      <th>28</th>\n",
       "      <td>— Какой же я был дурак, что усомнился в тебе! Доктор Пиндер-Шлосс все объяснила. — Очаровательная женщина, такая зловещая.</td>\n",
       "      <td>0</td>\n",
       "      <td>1</td>\n",
       "      <td>1</td>\n",
       "      <td>1</td>\n",
       "    </tr>\n",
       "    <tr>\n",
       "      <th>45</th>\n",
       "      <td>Там, откуда я родом, мы считаем религию непристойно скучной.</td>\n",
       "      <td>0</td>\n",
       "      <td>1</td>\n",
       "      <td>1</td>\n",
       "      <td>1</td>\n",
       "    </tr>\n",
       "    <tr>\n",
       "      <th>51</th>\n",
       "      <td>— Гриша, стой! Нам нужна мораль! — Нужна мораль — позвони маме.</td>\n",
       "      <td>0</td>\n",
       "      <td>1</td>\n",
       "      <td>1</td>\n",
       "      <td>1</td>\n",
       "    </tr>\n",
       "    <tr>\n",
       "      <th>75</th>\n",
       "      <td>Вольный воздух чаще всего бывает лишь в закрытых помещениях. Интересно, что об этом могла бы сказать физика?</td>\n",
       "      <td>0</td>\n",
       "      <td>1</td>\n",
       "      <td>1</td>\n",
       "      <td>1</td>\n",
       "    </tr>\n",
       "    <tr>\n",
       "      <th>85</th>\n",
       "      <td>— Или вот, — сказал Борис Григорьевич, — в Америке около тысячи женщин беременны от инопланетян. У нас тоже таких полно, но их КГБ где-то прячет.</td>\n",
       "      <td>0</td>\n",
       "      <td>1</td>\n",
       "      <td>1</td>\n",
       "      <td>1</td>\n",
       "    </tr>\n",
       "    <tr>\n",
       "      <th>86</th>\n",
       "      <td>— Я больше не могу! Я скоро повешусь! — Ты ноги натёр. Траву приложи. — Да меня не мозоли достали, а вон та принцесса-трещотка!</td>\n",
       "      <td>0</td>\n",
       "      <td>1</td>\n",
       "      <td>1</td>\n",
       "      <td>1</td>\n",
       "    </tr>\n",
       "    <tr>\n",
       "      <th>89</th>\n",
       "      <td>Я их научу бухать по-якутски и по-питерски.</td>\n",
       "      <td>0</td>\n",
       "      <td>1</td>\n",
       "      <td>1</td>\n",
       "      <td>1</td>\n",
       "    </tr>\n",
       "    <tr>\n",
       "      <th>92</th>\n",
       "      <td>Вы, Шариков, чепуху говорите и возмутительнее всего то, что говорите её безапелляционно и уверенно.</td>\n",
       "      <td>0</td>\n",
       "      <td>1</td>\n",
       "      <td>1</td>\n",
       "      <td>1</td>\n",
       "    </tr>\n",
       "    <tr>\n",
       "      <th>124</th>\n",
       "      <td>— У меня есть телефон. Только он в шкафчике. — Почему? — Не хочу таращится на свою руку весь день. Советую попробовать.</td>\n",
       "      <td>0</td>\n",
       "      <td>1</td>\n",
       "      <td>1</td>\n",
       "      <td>1</td>\n",
       "    </tr>\n",
       "    <tr>\n",
       "      <th>126</th>\n",
       "      <td>Вот те нате — ёж в томате!</td>\n",
       "      <td>0</td>\n",
       "      <td>1</td>\n",
       "      <td>1</td>\n",
       "      <td>1</td>\n",
       "    </tr>\n",
       "    <tr>\n",
       "      <th>157</th>\n",
       "      <td>– Привет, ребёнок. – Привет. – Как думаешь, увидим мы сегодня экшен? – Экшен? Возможно.</td>\n",
       "      <td>0</td>\n",
       "      <td>1</td>\n",
       "      <td>1</td>\n",
       "      <td>1</td>\n",
       "    </tr>\n",
       "  </tbody>\n",
       "</table>\n",
       "</div>"
      ],
      "text/plain": [
       "                                                                                                                                                                                                                                                                                                         quote  \\\n",
       "2                                                                                                                                                                                                                                                                           Соблюдай сабурдинацию, пожалуйста.   \n",
       "9    Нация меряется по гражданству. В данном случае все россияне. За границей мы и сейчас все русские — будь ты чеченец, татарин или удмурт. Нация по гражданству, пожалуй, единственно верный подход. Американец может быть по происхождению мексиканцем, итальянцем, темнокожим, но он все равно американец.   \n",
       "12                                                                                                                                                                                                                                                                 Остерегайся того, кто прикидывается хромым.   \n",
       "18                                                             Эта гидра, это чудовище — самоуправство административных властей, развращенность чиновничества и подкупность судов России. Россия стонет в тисках этой гидры поборов, насилия и грабежа, которая до сих пор издевается даже над высшей властью.   \n",
       "28                                                                                                                                                                                  — Какой же я был дурак, что усомнился в тебе! Доктор Пиндер-Шлосс все объяснила. — Очаровательная женщина, такая зловещая.   \n",
       "45                                                                                                                                                                                                                                                Там, откуда я родом, мы считаем религию непристойно скучной.   \n",
       "51                                                                                                                                                                                                                                             — Гриша, стой! Нам нужна мораль! — Нужна мораль — позвони маме.   \n",
       "75                                                                                                                                                                                                Вольный воздух чаще всего бывает лишь в закрытых помещениях. Интересно, что об этом могла бы сказать физика?   \n",
       "85                                                                                                                                                           — Или вот, — сказал Борис Григорьевич, — в Америке около тысячи женщин беременны от инопланетян. У нас тоже таких полно, но их КГБ где-то прячет.   \n",
       "86                                                                                                                                                                             — Я больше не могу! Я скоро повешусь! — Ты ноги натёр. Траву приложи. — Да меня не мозоли достали, а вон та принцесса-трещотка!   \n",
       "89                                                                                                                                                                                                                                                                 Я их научу бухать по-якутски и по-питерски.   \n",
       "92                                                                                                                                                                                                         Вы, Шариков, чепуху говорите и возмутительнее всего то, что говорите её безапелляционно и уверенно.   \n",
       "124                                                                                                                                                                                    — У меня есть телефон. Только он в шкафчике. — Почему? — Не хочу таращится на свою руку весь день. Советую попробовать.   \n",
       "126                                                                                                                                                                                                                                                                                 Вот те нате — ёж в томате!   \n",
       "157                                                                                                                                                                                                                    – Привет, ребёнок. – Привет. – Как думаешь, увидим мы сегодня экшен? – Экшен? Возможно.   \n",
       "\n",
       "     target  tfidf_lr  bilstm  rubert  \n",
       "2         0         1       1       1  \n",
       "9         0         1       1       1  \n",
       "12        0         1       1       1  \n",
       "18        0         1       1       1  \n",
       "28        0         1       1       1  \n",
       "45        0         1       1       1  \n",
       "51        0         1       1       1  \n",
       "75        0         1       1       1  \n",
       "85        0         1       1       1  \n",
       "86        0         1       1       1  \n",
       "89        0         1       1       1  \n",
       "92        0         1       1       1  \n",
       "124       0         1       1       1  \n",
       "126       0         1       1       1  \n",
       "157       0         1       1       1  "
      ]
     },
     "execution_count": 24,
     "metadata": {},
     "output_type": "execute_result"
    }
   ],
   "source": [
    "fp = result_df[\n",
    "    (result_df.target == 0) & (result_df.tfidf_lr == 1) & \n",
    "    (result_df.bilstm == 1) & (result_df.rubert == 1)\n",
    "]\n",
    "fp.head(15)"
   ]
  },
  {
   "cell_type": "code",
   "execution_count": 25,
   "metadata": {},
   "outputs": [],
   "source": [
    "with open('../results/quote_fn.txt', 'w') as f:\n",
    "    f.write('\\n'.join(fn.quote.to_list()))"
   ]
  },
  {
   "cell_type": "code",
   "execution_count": 26,
   "metadata": {},
   "outputs": [],
   "source": [
    "with open('../results/quote_fp.txt', 'w') as f:\n",
    "    f.write('\\n'.join(fp.quote.to_list()))"
   ]
  }
 ],
 "metadata": {
  "accelerator": "GPU",
  "colab": {
   "collapsed_sections": [],
   "name": "quotes_rubert.ipynb",
   "provenance": []
  },
  "kernelspec": {
   "display_name": "Python 3",
   "language": "python",
   "name": "python3"
  },
  "language_info": {
   "codemirror_mode": {
    "name": "ipython",
    "version": 3
   },
   "file_extension": ".py",
   "mimetype": "text/x-python",
   "name": "python",
   "nbconvert_exporter": "python",
   "pygments_lexer": "ipython3",
   "version": "3.6.9"
  },
  "widgets": {
   "application/vnd.jupyter.widget-state+json": {
    "0a721e6dc74740d3b74a0299e45147ba": {
     "model_module": "@jupyter-widgets/controls",
     "model_name": "HBoxModel",
     "state": {
      "_dom_classes": [],
      "_model_module": "@jupyter-widgets/controls",
      "_model_module_version": "1.5.0",
      "_model_name": "HBoxModel",
      "_view_count": null,
      "_view_module": "@jupyter-widgets/controls",
      "_view_module_version": "1.5.0",
      "_view_name": "HBoxView",
      "box_style": "",
      "children": [
       "IPY_MODEL_6a962446ab61410d88af622da58e1918",
       "IPY_MODEL_f36f4283286646b29a5834b721d4fb25"
      ],
      "layout": "IPY_MODEL_f1ba955f30214625a140c0d837014006"
     }
    },
    "1fa5ccdf0bcc46cb8459000e68025c0a": {
     "model_module": "@jupyter-widgets/controls",
     "model_name": "ProgressStyleModel",
     "state": {
      "_model_module": "@jupyter-widgets/controls",
      "_model_module_version": "1.5.0",
      "_model_name": "ProgressStyleModel",
      "_view_count": null,
      "_view_module": "@jupyter-widgets/base",
      "_view_module_version": "1.2.0",
      "_view_name": "StyleView",
      "bar_color": null,
      "description_width": "initial"
     }
    },
    "6a962446ab61410d88af622da58e1918": {
     "model_module": "@jupyter-widgets/controls",
     "model_name": "FloatProgressModel",
     "state": {
      "_dom_classes": [],
      "_model_module": "@jupyter-widgets/controls",
      "_model_module_version": "1.5.0",
      "_model_name": "FloatProgressModel",
      "_view_count": null,
      "_view_module": "@jupyter-widgets/controls",
      "_view_module_version": "1.5.0",
      "_view_name": "ProgressView",
      "bar_style": "success",
      "description": "",
      "description_tooltip": null,
      "layout": "IPY_MODEL_b1668322efe34f64bc7778bfde0f2465",
      "max": 1874,
      "min": 0,
      "orientation": "horizontal",
      "style": "IPY_MODEL_1fa5ccdf0bcc46cb8459000e68025c0a",
      "value": 1874
     }
    },
    "b1668322efe34f64bc7778bfde0f2465": {
     "model_module": "@jupyter-widgets/base",
     "model_name": "LayoutModel",
     "state": {
      "_model_module": "@jupyter-widgets/base",
      "_model_module_version": "1.2.0",
      "_model_name": "LayoutModel",
      "_view_count": null,
      "_view_module": "@jupyter-widgets/base",
      "_view_module_version": "1.2.0",
      "_view_name": "LayoutView",
      "align_content": null,
      "align_items": null,
      "align_self": null,
      "border": null,
      "bottom": null,
      "display": null,
      "flex": null,
      "flex_flow": null,
      "grid_area": null,
      "grid_auto_columns": null,
      "grid_auto_flow": null,
      "grid_auto_rows": null,
      "grid_column": null,
      "grid_gap": null,
      "grid_row": null,
      "grid_template_areas": null,
      "grid_template_columns": null,
      "grid_template_rows": null,
      "height": null,
      "justify_content": null,
      "justify_items": null,
      "left": null,
      "margin": null,
      "max_height": null,
      "max_width": null,
      "min_height": null,
      "min_width": null,
      "object_fit": null,
      "object_position": null,
      "order": null,
      "overflow": null,
      "overflow_x": null,
      "overflow_y": null,
      "padding": null,
      "right": null,
      "top": null,
      "visibility": null,
      "width": null
     }
    },
    "b46695252176419a9c43b5d0f06f1929": {
     "model_module": "@jupyter-widgets/base",
     "model_name": "LayoutModel",
     "state": {
      "_model_module": "@jupyter-widgets/base",
      "_model_module_version": "1.2.0",
      "_model_name": "LayoutModel",
      "_view_count": null,
      "_view_module": "@jupyter-widgets/base",
      "_view_module_version": "1.2.0",
      "_view_name": "LayoutView",
      "align_content": null,
      "align_items": null,
      "align_self": null,
      "border": null,
      "bottom": null,
      "display": null,
      "flex": null,
      "flex_flow": null,
      "grid_area": null,
      "grid_auto_columns": null,
      "grid_auto_flow": null,
      "grid_auto_rows": null,
      "grid_column": null,
      "grid_gap": null,
      "grid_row": null,
      "grid_template_areas": null,
      "grid_template_columns": null,
      "grid_template_rows": null,
      "height": null,
      "justify_content": null,
      "justify_items": null,
      "left": null,
      "margin": null,
      "max_height": null,
      "max_width": null,
      "min_height": null,
      "min_width": null,
      "object_fit": null,
      "object_position": null,
      "order": null,
      "overflow": null,
      "overflow_x": null,
      "overflow_y": null,
      "padding": null,
      "right": null,
      "top": null,
      "visibility": null,
      "width": null
     }
    },
    "d00b5b63b88a4328a6c6f057b282fd25": {
     "model_module": "@jupyter-widgets/controls",
     "model_name": "DescriptionStyleModel",
     "state": {
      "_model_module": "@jupyter-widgets/controls",
      "_model_module_version": "1.5.0",
      "_model_name": "DescriptionStyleModel",
      "_view_count": null,
      "_view_module": "@jupyter-widgets/base",
      "_view_module_version": "1.2.0",
      "_view_name": "StyleView",
      "description_width": ""
     }
    },
    "f1ba955f30214625a140c0d837014006": {
     "model_module": "@jupyter-widgets/base",
     "model_name": "LayoutModel",
     "state": {
      "_model_module": "@jupyter-widgets/base",
      "_model_module_version": "1.2.0",
      "_model_name": "LayoutModel",
      "_view_count": null,
      "_view_module": "@jupyter-widgets/base",
      "_view_module_version": "1.2.0",
      "_view_name": "LayoutView",
      "align_content": null,
      "align_items": null,
      "align_self": null,
      "border": null,
      "bottom": null,
      "display": null,
      "flex": null,
      "flex_flow": null,
      "grid_area": null,
      "grid_auto_columns": null,
      "grid_auto_flow": null,
      "grid_auto_rows": null,
      "grid_column": null,
      "grid_gap": null,
      "grid_row": null,
      "grid_template_areas": null,
      "grid_template_columns": null,
      "grid_template_rows": null,
      "height": null,
      "justify_content": null,
      "justify_items": null,
      "left": null,
      "margin": null,
      "max_height": null,
      "max_width": null,
      "min_height": null,
      "min_width": null,
      "object_fit": null,
      "object_position": null,
      "order": null,
      "overflow": null,
      "overflow_x": null,
      "overflow_y": null,
      "padding": null,
      "right": null,
      "top": null,
      "visibility": null,
      "width": null
     }
    },
    "f36f4283286646b29a5834b721d4fb25": {
     "model_module": "@jupyter-widgets/controls",
     "model_name": "HTMLModel",
     "state": {
      "_dom_classes": [],
      "_model_module": "@jupyter-widgets/controls",
      "_model_module_version": "1.5.0",
      "_model_name": "HTMLModel",
      "_view_count": null,
      "_view_module": "@jupyter-widgets/controls",
      "_view_module_version": "1.5.0",
      "_view_name": "HTMLView",
      "description": "",
      "description_tooltip": null,
      "layout": "IPY_MODEL_b46695252176419a9c43b5d0f06f1929",
      "placeholder": "​",
      "style": "IPY_MODEL_d00b5b63b88a4328a6c6f057b282fd25",
      "value": " 1875/? [17:38&lt;00:00,  1.77it/s]"
     }
    }
   }
  }
 },
 "nbformat": 4,
 "nbformat_minor": 4
}
