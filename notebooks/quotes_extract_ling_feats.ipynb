{
 "cells": [
  {
   "cell_type": "markdown",
   "metadata": {},
   "source": [
    "# Extract linguistic features"
   ]
  },
  {
   "cell_type": "code",
   "execution_count": 1,
   "metadata": {},
   "outputs": [],
   "source": [
    "import os\n",
    "import pickle\n",
    "\n",
    "import numpy as np\n",
    "import pandas as pd\n",
    "import seaborn as sns\n",
    "\n",
    "from matplotlib import pyplot as plt\n",
    "from sklearn.utils import shuffle\n",
    "\n",
    "from sarcsdet.utils.mark_ling_feat import (\n",
    "    funny_marks_feature, interjections_feature, get_popular_items\n",
    ")"
   ]
  },
  {
   "cell_type": "markdown",
   "metadata": {},
   "source": [
    "### Get data"
   ]
  },
  {
   "cell_type": "code",
   "execution_count": 2,
   "metadata": {},
   "outputs": [],
   "source": [
    "data_path = '../data/Quotes'"
   ]
  },
  {
   "cell_type": "code",
   "execution_count": 3,
   "metadata": {},
   "outputs": [],
   "source": [
    "with open(os.path.join(data_path, 'quote_tokenized.pickle'), 'rb') as f:\n",
    "    df = shuffle(pickle.load(f))"
   ]
  },
  {
   "cell_type": "markdown",
   "metadata": {},
   "source": [
    "### Column selection"
   ]
  },
  {
   "cell_type": "code",
   "execution_count": 4,
   "metadata": {},
   "outputs": [],
   "source": [
    "df['quote'] = pd.Series(df['quote'], dtype='str')\n",
    "\n",
    "df['target'] = pd.Series(df['target'], dtype='int')\n",
    "\n",
    "df['rating'] = df['rating'].fillna(value=0)\n",
    "df['rating'] = pd.Series(df['rating'], dtype=pd.Int64Dtype())\n",
    "\n",
    "df['comments_count'] = df['comments_count'].fillna(value=0)\n",
    "df['comments_count'] = pd.Series(df['comments_count'], dtype=pd.Int64Dtype())\n",
    "\n",
    "df['source'] = pd.Series(df['source'], dtype='category')\n",
    "df['source'] = pd.factorize(df['source'])[0] + 1\n",
    "\n",
    "df['submitted_by'] = pd.Series(df['submitted_by'], dtype='category')\n",
    "df['submitted_by'] = pd.factorize(df['submitted_by'])[0] + 1\n",
    "\n",
    "df['author'] = get_popular_items(df['author'])\n",
    "df['character'] = get_popular_items(df['character'])"
   ]
  },
  {
   "cell_type": "markdown",
   "metadata": {},
   "source": [
    "### Add Linguistic Features"
   ]
  },
  {
   "cell_type": "code",
   "execution_count": 5,
   "metadata": {},
   "outputs": [],
   "source": [
    "df['exclamation'] = df.quote.apply(lambda s: s.count('!'))\n",
    "df['question'] = df.quote.apply(lambda s: s.count('?'))\n",
    "df['dotes'] = df.quote.apply(lambda s: s.count('...'))\n",
    "df['quotes'] = df.quote.apply(lambda s: s.count(\"\\\"\") + s.count(\"\\'\"))"
   ]
  },
  {
   "cell_type": "code",
   "execution_count": 6,
   "metadata": {},
   "outputs": [],
   "source": [
    "df['funny_mark'] = df.quote.apply(funny_marks_feature)"
   ]
  },
  {
   "cell_type": "code",
   "execution_count": 7,
   "metadata": {},
   "outputs": [],
   "source": [
    "df['interjections'] = df.quote.apply(interjections_feature)"
   ]
  },
  {
   "cell_type": "code",
   "execution_count": 8,
   "metadata": {},
   "outputs": [
    {
     "data": {
      "text/html": [
       "<div>\n",
       "<style scoped>\n",
       "    .dataframe tbody tr th:only-of-type {\n",
       "        vertical-align: middle;\n",
       "    }\n",
       "\n",
       "    .dataframe tbody tr th {\n",
       "        vertical-align: top;\n",
       "    }\n",
       "\n",
       "    .dataframe thead th {\n",
       "        text-align: right;\n",
       "    }\n",
       "</style>\n",
       "<table border=\"1\" class=\"dataframe\">\n",
       "  <thead>\n",
       "    <tr style=\"text-align: right;\">\n",
       "      <th></th>\n",
       "      <th>quote</th>\n",
       "      <th>tags</th>\n",
       "      <th>rating</th>\n",
       "      <th>rating_positive</th>\n",
       "      <th>rating_negative</th>\n",
       "      <th>submitted_by</th>\n",
       "      <th>submitted_date</th>\n",
       "      <th>comments_count</th>\n",
       "      <th>author</th>\n",
       "      <th>character</th>\n",
       "      <th>is_dialog</th>\n",
       "      <th>target</th>\n",
       "      <th>source</th>\n",
       "      <th>quote_tokenized</th>\n",
       "      <th>exclamation</th>\n",
       "      <th>question</th>\n",
       "      <th>dotes</th>\n",
       "      <th>quotes</th>\n",
       "      <th>funny_mark</th>\n",
       "      <th>interjections</th>\n",
       "    </tr>\n",
       "  </thead>\n",
       "  <tbody>\n",
       "    <tr>\n",
       "      <th>176875</th>\n",
       "      <td>Нарушителей правил сначала называют преступник...</td>\n",
       "      <td>[правила, жизненные]</td>\n",
       "      <td>14</td>\n",
       "      <td>14</td>\n",
       "      <td>0</td>\n",
       "      <td>1</td>\n",
       "      <td>2015-02-12 02:18:00</td>\n",
       "      <td>0</td>\n",
       "      <td>0</td>\n",
       "      <td>0</td>\n",
       "      <td>0</td>\n",
       "      <td>0</td>\n",
       "      <td>1</td>\n",
       "      <td>нарушитель правило сначала называть преступник...</td>\n",
       "      <td>0</td>\n",
       "      <td>0</td>\n",
       "      <td>0</td>\n",
       "      <td>0</td>\n",
       "      <td>0</td>\n",
       "      <td>0</td>\n",
       "    </tr>\n",
       "    <tr>\n",
       "      <th>304318</th>\n",
       "      <td>Фашизм — бунт невежества.</td>\n",
       "      <td>[фашизм]</td>\n",
       "      <td>0</td>\n",
       "      <td>None</td>\n",
       "      <td>None</td>\n",
       "      <td>0</td>\n",
       "      <td>None</td>\n",
       "      <td>0</td>\n",
       "      <td>334</td>\n",
       "      <td>0</td>\n",
       "      <td>0</td>\n",
       "      <td>0</td>\n",
       "      <td>0</td>\n",
       "      <td>фашизм бунт невежество</td>\n",
       "      <td>0</td>\n",
       "      <td>0</td>\n",
       "      <td>0</td>\n",
       "      <td>0</td>\n",
       "      <td>0</td>\n",
       "      <td>0</td>\n",
       "    </tr>\n",
       "    <tr>\n",
       "      <th>380572</th>\n",
       "      <td>— Надежда Ивановна, айфон намного лучше вашего...</td>\n",
       "      <td>[телефоны, смешные]</td>\n",
       "      <td>0</td>\n",
       "      <td>None</td>\n",
       "      <td>None</td>\n",
       "      <td>0</td>\n",
       "      <td>None</td>\n",
       "      <td>0</td>\n",
       "      <td>2424</td>\n",
       "      <td>0</td>\n",
       "      <td>1</td>\n",
       "      <td>0</td>\n",
       "      <td>2</td>\n",
       "      <td>надежда ивановна айфон намного ваш старый теле...</td>\n",
       "      <td>2</td>\n",
       "      <td>1</td>\n",
       "      <td>2</td>\n",
       "      <td>0</td>\n",
       "      <td>0</td>\n",
       "      <td>0</td>\n",
       "    </tr>\n",
       "    <tr>\n",
       "      <th>63155</th>\n",
       "      <td>Джерри какое-то время ... проведет... в развод...</td>\n",
       "      <td>[развод, смешные]</td>\n",
       "      <td>5</td>\n",
       "      <td>5</td>\n",
       "      <td>0</td>\n",
       "      <td>2</td>\n",
       "      <td>2017-08-13 12:06:00</td>\n",
       "      <td>0</td>\n",
       "      <td>0</td>\n",
       "      <td>4060</td>\n",
       "      <td>0</td>\n",
       "      <td>0</td>\n",
       "      <td>3</td>\n",
       "      <td>джерри какоето время проводить развод</td>\n",
       "      <td>0</td>\n",
       "      <td>0</td>\n",
       "      <td>3</td>\n",
       "      <td>0</td>\n",
       "      <td>0</td>\n",
       "      <td>0</td>\n",
       "    </tr>\n",
       "    <tr>\n",
       "      <th>333192</th>\n",
       "      <td>Я и так неадекватный человек — зачем меня дово...</td>\n",
       "      <td>[]</td>\n",
       "      <td>0</td>\n",
       "      <td>0</td>\n",
       "      <td>0</td>\n",
       "      <td>3</td>\n",
       "      <td>2018-02-07 15:10:00</td>\n",
       "      <td>0</td>\n",
       "      <td>0</td>\n",
       "      <td>0</td>\n",
       "      <td>0</td>\n",
       "      <td>0</td>\n",
       "      <td>0</td>\n",
       "      <td>неадекватный человек доводить</td>\n",
       "      <td>0</td>\n",
       "      <td>1</td>\n",
       "      <td>0</td>\n",
       "      <td>0</td>\n",
       "      <td>0</td>\n",
       "      <td>0</td>\n",
       "    </tr>\n",
       "  </tbody>\n",
       "</table>\n",
       "</div>"
      ],
      "text/plain": [
       "                                                    quote  \\\n",
       "176875  Нарушителей правил сначала называют преступник...   \n",
       "304318                          Фашизм — бунт невежества.   \n",
       "380572  — Надежда Ивановна, айфон намного лучше вашего...   \n",
       "63155   Джерри какое-то время ... проведет... в развод...   \n",
       "333192  Я и так неадекватный человек — зачем меня дово...   \n",
       "\n",
       "                        tags  rating rating_positive rating_negative  \\\n",
       "176875  [правила, жизненные]      14              14               0   \n",
       "304318              [фашизм]       0            None            None   \n",
       "380572   [телефоны, смешные]       0            None            None   \n",
       "63155      [развод, смешные]       5               5               0   \n",
       "333192                    []       0               0               0   \n",
       "\n",
       "        submitted_by       submitted_date  comments_count  author  character  \\\n",
       "176875             1  2015-02-12 02:18:00               0       0          0   \n",
       "304318             0                 None               0     334          0   \n",
       "380572             0                 None               0    2424          0   \n",
       "63155              2  2017-08-13 12:06:00               0       0       4060   \n",
       "333192             3  2018-02-07 15:10:00               0       0          0   \n",
       "\n",
       "       is_dialog  target  source  \\\n",
       "176875         0       0       1   \n",
       "304318         0       0       0   \n",
       "380572         1       0       2   \n",
       "63155          0       0       3   \n",
       "333192         0       0       0   \n",
       "\n",
       "                                          quote_tokenized  exclamation  \\\n",
       "176875  нарушитель правило сначала называть преступник...            0   \n",
       "304318                             фашизм бунт невежество            0   \n",
       "380572  надежда ивановна айфон намного ваш старый теле...            2   \n",
       "63155               джерри какоето время проводить развод            0   \n",
       "333192                      неадекватный человек доводить            0   \n",
       "\n",
       "        question  dotes  quotes  funny_mark  interjections  \n",
       "176875         0      0       0           0              0  \n",
       "304318         0      0       0           0              0  \n",
       "380572         1      2       0           0              0  \n",
       "63155          0      3       0           0              0  \n",
       "333192         1      0       0           0              0  "
      ]
     },
     "execution_count": 8,
     "metadata": {},
     "output_type": "execute_result"
    }
   ],
   "source": [
    "df.head()"
   ]
  },
  {
   "cell_type": "markdown",
   "metadata": {},
   "source": [
    "### Choose Features"
   ]
  },
  {
   "cell_type": "code",
   "execution_count": 9,
   "metadata": {},
   "outputs": [],
   "source": [
    "df = df[[\n",
    "    'quote', 'quote_tokenized', 'rating', 'comments_count', 'source', 'submitted_by', \n",
    "    'exclamation', 'question', 'quotes', 'dotes', 'funny_mark', 'interjections', 'target'\n",
    "]]"
   ]
  },
  {
   "cell_type": "code",
   "execution_count": 10,
   "metadata": {},
   "outputs": [
    {
     "data": {
      "image/png": "[encoded data removed]",
      "text/plain": [
       "<Figure size 504x360 with 2 Axes>"
      ]
     },
     "metadata": {
      "needs_background": "light"
     },
     "output_type": "display_data"
    }
   ],
   "source": [
    "plt.figure(figsize=(7, 5))\n",
    "cor = df.corr()\n",
    "sns.heatmap(cor, cmap=plt.cm.Reds)\n",
    "plt.show()"
   ]
  },
  {
   "cell_type": "markdown",
   "metadata": {},
   "source": [
    "### Save dataset"
   ]
  },
  {
   "cell_type": "code",
   "execution_count": 11,
   "metadata": {},
   "outputs": [],
   "source": [
    "with open(os.path.join(data_path, 'quotes_ling_feats.pickle'), 'wb') as f:\n",
    "    pickle.dump(df, f)"
   ]
  }
 ],
 "metadata": {
  "kernelspec": {
   "display_name": "Python 3",
   "language": "python",
   "name": "python3"
  },
  "language_info": {
   "codemirror_mode": {
    "name": "ipython",
    "version": 3
   },
   "file_extension": ".py",
   "mimetype": "text/x-python",
   "name": "python",
   "nbconvert_exporter": "python",
   "pygments_lexer": "ipython3",
   "version": "3.6.9"
  }
 },
 "nbformat": 4,
 "nbformat_minor": 4
}
