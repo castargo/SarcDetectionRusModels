{
 "cells": [
  {
   "cell_type": "markdown",
   "metadata": {
    "id": "lF6sBShFzubZ"
   },
   "source": [
    "# Google Colab Init"
   ]
  },
  {
   "cell_type": "code",
   "execution_count": 1,
   "metadata": {
    "colab": {
     "base_uri": "https://localhost:8080/"
    },
    "id": "7GNHu544zubn",
    "outputId": "e6ede59b-b593-45ca-b97f-a7c8930d696b"
   },
   "outputs": [],
   "source": [
    "# from google.colab import drive\n",
    "# drive.mount('/content/drive')"
   ]
  },
  {
   "cell_type": "code",
   "execution_count": 2,
   "metadata": {
    "colab": {
     "base_uri": "https://localhost:8080/"
    },
    "id": "LsZE9lQSzubp",
    "outputId": "16a1197f-e1e7-4fe3-ed14-46ac86803324"
   },
   "outputs": [],
   "source": [
    "# !pip install transformers==2.8.0 \n",
    "# !pip install deeppavlov\n",
    "\n",
    "# !pip uninstall -y tensorflow tensorflow-gpu\n",
    "# !pip install tensorflow-gpu==1.15.2\n",
    "\n",
    "# !python -m deeppavlov install squad_bert\n",
    "\n",
    "# !pip uninstall -y scikit-learn\n",
    "# !pip install scikit-learn\n",
    "\n",
    "# !pip install pandas"
   ]
  },
  {
   "cell_type": "markdown",
   "metadata": {
    "id": "jh6Om67kzubq"
   },
   "source": [
    "# RuBert DeepPavlov"
   ]
  },
  {
   "cell_type": "code",
   "execution_count": 3,
   "metadata": {
    "colab": {
     "base_uri": "https://localhost:8080/"
    },
    "id": "2ezs94MJzubq",
    "outputId": "9dbd8492-5ead-48b2-c848-a17892f25b46"
   },
   "outputs": [
    {
     "name": "stderr",
     "output_type": "stream",
     "text": [
      "[nltk_data] Downloading package punkt to /home/kate/nltk_data...\n",
      "[nltk_data]   Package punkt is already up-to-date!\n",
      "[nltk_data] Downloading package stopwords to /home/kate/nltk_data...\n",
      "[nltk_data]   Package stopwords is already up-to-date!\n",
      "[nltk_data] Downloading package perluniprops to\n",
      "[nltk_data]     /home/kate/nltk_data...\n",
      "[nltk_data]   Package perluniprops is already up-to-date!\n",
      "[nltk_data] Downloading package nonbreaking_prefixes to\n",
      "[nltk_data]     /home/kate/nltk_data...\n",
      "[nltk_data]   Package nonbreaking_prefixes is already up-to-date!\n"
     ]
    }
   ],
   "source": [
    "import os\n",
    "import pickle\n",
    "import warnings\n",
    "import numpy as np\n",
    "import matplotlib.pyplot as plt\n",
    "import pandas as pd\n",
    "from deeppavlov.core.common.file import read_json\n",
    "from deeppavlov import build_model, configs, train_model\n",
    "from deeppavlov.models.torch_bert.torch_transformers_classifier import TorchTransformersClassifierModel\n",
    "from deeppavlov.models.preprocessors.torch_transformers_preprocessor import TorchTransformersPreprocessor\n",
    "from sklearn.metrics import (f1_score, precision_score, average_precision_score, roc_auc_score,\n",
    "                             classification_report, plot_roc_curve, accuracy_score, make_scorer,\n",
    "                             plot_precision_recall_curve, precision_recall_curve, recall_score)\n",
    "from sklearn.model_selection import train_test_split\n",
    "from sklearn.utils import shuffle\n",
    "from tqdm.auto import tqdm"
   ]
  },
  {
   "cell_type": "code",
   "execution_count": 4,
   "metadata": {
    "id": "dWEKv7Zbzubr"
   },
   "outputs": [],
   "source": [
    "warnings.filterwarnings('ignore')"
   ]
  },
  {
   "cell_type": "markdown",
   "metadata": {
    "id": "OqDVLJo3zubs"
   },
   "source": [
    "## Get data"
   ]
  },
  {
   "cell_type": "code",
   "execution_count": 5,
   "metadata": {
    "id": "3VLBRMA_zubs"
   },
   "outputs": [],
   "source": [
    "data_path = '/content/drive/MyDrive/SarcasmDetection/data/Quotes'\n",
    "dataname = 'quotes_ling_feats.pickle'\n",
    "with open(os.path.join(data_path, dataname), 'rb') as f:\n",
    "    df = shuffle(pickle.load(f), random_state=8)"
   ]
  },
  {
   "cell_type": "code",
   "execution_count": 6,
   "metadata": {
    "id": "66n3Ocn1zubs"
   },
   "outputs": [],
   "source": [
    "train_df, test_df = train_test_split(df, test_size=0.3, random_state=8)\n",
    "train_df, valid_df = train_test_split(train_df, test_size=0.1, random_state=8)"
   ]
  },
  {
   "cell_type": "code",
   "execution_count": 7,
   "metadata": {
    "id": "XGNsyQn6zubt"
   },
   "outputs": [],
   "source": [
    "train_df = train_df.groupby(\n",
    "    'target', group_keys=False\n",
    ").apply(lambda x: x.sample(n=(train_df.target == 1).sum())).sample(frac=1).reset_index(drop=True)"
   ]
  },
  {
   "cell_type": "code",
   "execution_count": 8,
   "metadata": {
    "id": "0i0qJ5xpzubt"
   },
   "outputs": [],
   "source": [
    "train_df[['quote', 'target']].to_csv('train.csv', index=False)\n",
    "valid_df[['quote', 'target']].to_csv('valid.csv', index=False)\n",
    "test_df[['quote', 'target']].to_csv('test.csv', index=False)"
   ]
  },
  {
   "cell_type": "code",
   "execution_count": 9,
   "metadata": {
    "id": "HF_X4VbMzubu"
   },
   "outputs": [],
   "source": [
    "def chunks(list_like, n):\n",
    "    for i in range(0, len(list_like), n):\n",
    "        yield list_like[i:i + n]"
   ]
  },
  {
   "cell_type": "code",
   "execution_count": 10,
   "metadata": {
    "id": "tkBgG76Szubu"
   },
   "outputs": [],
   "source": [
    "def show_test_classification_metrics(y_test, y_pred, y_pred_prob, X_test=None, classifier=None):\n",
    "    print(f\"F1: {f1_score(y_test, y_pred):.5}\")\n",
    "    print(f\"PREC: {precision_score(y_test, y_pred):.5}\")\n",
    "    print(f\"PR-AUC: {average_precision_score(y_test, y_pred_prob):.5}\")\n",
    "    print(f\"ROC-AUC: {roc_auc_score(y_test, y_pred_prob):.5}\")\n",
    "    print('-------------------------------------------------------')\n",
    "    print(classification_report(y_test, y_pred, labels=[0, 1]))\n",
    "    print('-------------------------------------------------------')\n",
    "    if classifier:\n",
    "        fig, ax = plt.subplots(1, 2, figsize=(15, 5))\n",
    "        ax[0].set_title('Precision-Recall curve')\n",
    "        plot_precision_recall_curve(classifier, X_test, y_test, ax=ax[0])\n",
    "        ax[1].set_title('ROC-AUC curve')\n",
    "        plot_roc_curve(classifier, X_test, y_test, ax=ax[1])\n",
    "        plt.show()"
   ]
  },
  {
   "cell_type": "code",
   "execution_count": 11,
   "metadata": {
    "colab": {
     "base_uri": "https://localhost:8080/"
    },
    "collapsed": true,
    "id": "l0ABvtqHzubu",
    "jupyter": {
     "outputs_hidden": true
    },
    "outputId": "3b88d747-e72e-47d1-dac0-623f2684a2e3"
   },
   "outputs": [
    {
     "name": "stdout",
     "output_type": "stream",
     "text": [
      "2021-04-13 17:56:59.694 INFO in 'deeppavlov.core.common.file'['file'] at line 32: Interpreting 'paraphraser_rubert' as '/usr/local/lib/python3.7/dist-packages/deeppavlov/configs/classifiers/paraphraser_rubert.json'\n",
      "2021-04-13 17:57:00.295 INFO in 'deeppavlov.download'['download'] at line 138: Skipped http://files.deeppavlov.ai/datasets/paraphraser.zip?config=paraphraser_rubert download because of matching hashes\n",
      "2021-04-13 17:57:16.496 INFO in 'deeppavlov.download'['download'] at line 138: Skipped http://files.deeppavlov.ai/deeppavlov_data/classifiers/paraphraser_rubert_v0.tar.gz?config=paraphraser_rubert download because of matching hashes\n",
      "2021-04-13 17:57:19.271 INFO in 'deeppavlov.download'['download'] at line 138: Skipped http://files.deeppavlov.ai/deeppavlov_data/bert/rubert_cased_L-12_H-768_A-12_v1.tar.gz?config=paraphraser_rubert download because of matching hashes\n",
      "2021-04-13 17:57:19.564 INFO in 'deeppavlov.download'['download'] at line 138: Skipped http://files.deeppavlov.ai/datasets/paraphraser_gold.zip?config=paraphraser_rubert download because of matching hashes\n"
     ]
    }
   ],
   "source": [
    "!python -m deeppavlov download paraphraser_rubert"
   ]
  },
  {
   "cell_type": "code",
   "execution_count": 11,
   "metadata": {
    "id": "CBzgLDyt5G4N"
   },
   "outputs": [],
   "source": [
    "bert_config = read_json(configs.classifiers.rusentiment_bert)\n",
    "\n",
    "bert_config['dataset_reader']['x'] = 'quote'\n",
    "bert_config['dataset_reader']['y'] = 'target'\n",
    "bert_config['dataset_reader']['data_path'] = './'\n",
    "bert_config['dataset_reader']['train'] = 'train.csv'\n",
    "bert_config['dataset_reader']['valid'] = 'valid.csv'\n",
    "bert_config['dataset_reader']['test'] = 'test.csv'\n",
    "\n",
    "del bert_config['dataset_iterator']['split_seed']\n",
    "del bert_config['dataset_iterator']['field_to_split']\n",
    "del bert_config['dataset_iterator']['split_fields']\n",
    "del bert_config['dataset_iterator']['split_proportions']\n",
    "\n",
    "bert_config['metadata']['variables']['MODEL_PATH'] = '{MODELS_PATH}/classifiers/bert_classifier_v2/'\n",
    "\n",
    "del bert_config['chainer']['pipe'][-2:]\n",
    "del bert_config['chainer']['pipe'][1]\n",
    "bert_config['chainer']['pipe'][1]['in'] = 'y'\n",
    "bert_config['chainer']['pipe'][1]['depth'] = 2\n",
    "bert_config['chainer']['pipe'][2]['n_classes'] = 2\n",
    "bert_config['train']['metrics'] = [bert_config['train']['metrics'][-1]]\n",
    "bert_config['chainer']['out'] = ['y_pred_probas']\n",
    "bert_config['train']['epochs'] = 2\n",
    "bert_config['train']['batch_size'] = 32\n",
    "bert_config['train']['show_examples'] = True\n",
    "\n",
    "vocab_file = '{DOWNLOADS_PATH}/bert_models/rubert_cased_L-12_H-768_A-12_v1/vocab.txt'\n",
    "bert_config_file = \"{DOWNLOADS_PATH}/bert_models/rubert_cased_L-12_H-768_A-12_v1/bert_config.json\"\n",
    "pretrained_bert = \"{DOWNLOADS_PATH}/bert_models/rubert_cased_L-12_H-768_A-12_v1/bert_model.ckpt\"\n",
    "\n",
    "bert_config['chainer']['pipe'][0]['vocab_file'] = vocab_file\n",
    "bert_config['chainer']['pipe'][1]['bert_config_file'] = bert_config_file\n",
    "bert_config['chainer']['pipe'][1]['pretrained_bert'] = pretrained_bert\n",
    "\n",
    "bert_config['chainer']['pipe'][2]['bert_config_file'] = bert_config_file\n",
    "bert_config['chainer']['pipe'][2]['pretrained_bert'] = pretrained_bert"
   ]
  },
  {
   "cell_type": "code",
   "execution_count": 12,
   "metadata": {
    "colab": {
     "base_uri": "https://localhost:8080/"
    },
    "collapsed": true,
    "id": "zvA-1eOT8Lqs",
    "jupyter": {
     "outputs_hidden": true
    },
    "outputId": "597c278f-fd68-40fa-ca8f-bcbc4bceafb2"
   },
   "outputs": [
    {
     "name": "stderr",
     "output_type": "stream",
     "text": [
      "2021-04-13 18:28:59.93 INFO in 'deeppavlov.core.trainers.fit_trainer'['fit_trainer'] at line 68: NNTrainer got additional init parameters ['pytest_max_batches'] that will be ignored:\n"
     ]
    },
    {
     "name": "stdout",
     "output_type": "stream",
     "text": [
      "WARNING:tensorflow:From /usr/local/lib/python3.7/dist-packages/deeppavlov/core/trainers/nn_trainer.py:150: The name tf.summary.FileWriter is deprecated. Please use tf.compat.v1.summary.FileWriter instead.\n",
      "\n",
      "WARNING:tensorflow:From /usr/local/lib/python3.7/dist-packages/bert_dp/tokenization.py:125: The name tf.gfile.GFile is deprecated. Please use tf.io.gfile.GFile instead.\n",
      "\n",
      "WARNING:tensorflow:From /usr/local/lib/python3.7/dist-packages/deeppavlov/core/models/tf_model.py:37: The name tf.Session is deprecated. Please use tf.compat.v1.Session instead.\n",
      "\n",
      "WARNING:tensorflow:From /usr/local/lib/python3.7/dist-packages/deeppavlov/core/models/tf_model.py:222: The name tf.placeholder is deprecated. Please use tf.compat.v1.placeholder instead.\n",
      "\n",
      "WARNING:tensorflow:From /usr/local/lib/python3.7/dist-packages/deeppavlov/core/models/tf_model.py:222: The name tf.train.Optimizer is deprecated. Please use tf.compat.v1.train.Optimizer instead.\n",
      "\n",
      "WARNING:tensorflow:From /usr/local/lib/python3.7/dist-packages/deeppavlov/core/models/tf_model.py:193: The name tf.train.AdamOptimizer is deprecated. Please use tf.compat.v1.train.AdamOptimizer instead.\n",
      "\n",
      "WARNING:tensorflow:From /usr/local/lib/python3.7/dist-packages/deeppavlov/models/bert/bert_classifier.py:84: The name tf.ConfigProto is deprecated. Please use tf.compat.v1.ConfigProto instead.\n",
      "\n",
      "WARNING:tensorflow:From /usr/local/lib/python3.7/dist-packages/deeppavlov/models/bert/bert_classifier.py:161: The name tf.placeholder_with_default is deprecated. Please use tf.compat.v1.placeholder_with_default instead.\n",
      "\n",
      "WARNING:tensorflow:From /usr/local/lib/python3.7/dist-packages/bert_dp/modeling.py:178: The name tf.variable_scope is deprecated. Please use tf.compat.v1.variable_scope instead.\n",
      "\n",
      "WARNING:tensorflow:From /usr/local/lib/python3.7/dist-packages/bert_dp/modeling.py:418: The name tf.get_variable is deprecated. Please use tf.compat.v1.get_variable instead.\n",
      "\n",
      "WARNING:tensorflow:From /usr/local/lib/python3.7/dist-packages/bert_dp/modeling.py:499: The name tf.assert_less_equal is deprecated. Please use tf.compat.v1.assert_less_equal instead.\n",
      "\n",
      "WARNING:tensorflow:\n",
      "The TensorFlow contrib module will not be included in TensorFlow 2.0.\n",
      "For more information, please see:\n",
      "  * https://github.com/tensorflow/community/blob/master/rfcs/20180907-contrib-sunset.md\n",
      "  * https://github.com/tensorflow/addons\n",
      "  * https://github.com/tensorflow/io (for I/O related ops)\n",
      "If you depend on functionality not listed there, please file an issue.\n",
      "\n",
      "WARNING:tensorflow:From /usr/local/lib/python3.7/dist-packages/bert_dp/modeling.py:366: calling dropout (from tensorflow.python.ops.nn_ops) with keep_prob is deprecated and will be removed in a future version.\n",
      "Instructions for updating:\n",
      "Please use `rate` instead of `keep_prob`. Rate should be set to `rate = 1 - keep_prob`.\n",
      "WARNING:tensorflow:From /usr/local/lib/python3.7/dist-packages/bert_dp/modeling.py:680: dense (from tensorflow.python.layers.core) is deprecated and will be removed in a future version.\n",
      "Instructions for updating:\n",
      "Use keras.layers.Dense instead.\n",
      "WARNING:tensorflow:From /usr/local/lib/python3.7/dist-packages/tensorflow_core/python/layers/core.py:187: Layer.apply (from tensorflow.python.keras.engine.base_layer) is deprecated and will be removed in a future version.\n",
      "Instructions for updating:\n",
      "Please use `layer.__call__` method instead.\n",
      "WARNING:tensorflow:From /usr/local/lib/python3.7/dist-packages/bert_dp/modeling.py:283: The name tf.erf is deprecated. Please use tf.math.erf instead.\n",
      "\n",
      "WARNING:tensorflow:From /usr/local/lib/python3.7/dist-packages/deeppavlov/core/models/tf_model.py:234: The name tf.train.AdadeltaOptimizer is deprecated. Please use tf.compat.v1.train.AdadeltaOptimizer instead.\n",
      "\n",
      "WARNING:tensorflow:From /usr/local/lib/python3.7/dist-packages/deeppavlov/core/models/tf_model.py:127: The name tf.get_collection is deprecated. Please use tf.compat.v1.get_collection instead.\n",
      "\n",
      "WARNING:tensorflow:From /usr/local/lib/python3.7/dist-packages/deeppavlov/core/models/tf_model.py:127: The name tf.GraphKeys is deprecated. Please use tf.compat.v1.GraphKeys instead.\n",
      "\n",
      "WARNING:tensorflow:From /usr/local/lib/python3.7/dist-packages/deeppavlov/models/bert/bert_classifier.py:92: The name tf.global_variables_initializer is deprecated. Please use tf.compat.v1.global_variables_initializer instead.\n",
      "\n",
      "WARNING:tensorflow:From /usr/local/lib/python3.7/dist-packages/deeppavlov/models/bert/bert_classifier.py:97: checkpoint_exists (from tensorflow.python.training.checkpoint_management) is deprecated and will be removed in a future version.\n",
      "Instructions for updating:\n",
      "Use standard file APIs to check for files with this prefix.\n"
     ]
    },
    {
     "name": "stderr",
     "output_type": "stream",
     "text": [
      "2021-04-13 18:29:22.457 INFO in 'deeppavlov.models.bert.bert_classifier'['bert_classifier'] at line 99: [initializing model with Bert from /root/.deeppavlov/downloads/bert_models/rubert_cased_L-12_H-768_A-12_v1/bert_model.ckpt]\n"
     ]
    },
    {
     "name": "stdout",
     "output_type": "stream",
     "text": [
      "WARNING:tensorflow:From /usr/local/lib/python3.7/dist-packages/deeppavlov/models/bert/bert_classifier.py:103: The name tf.train.Saver is deprecated. Please use tf.compat.v1.train.Saver instead.\n",
      "\n",
      "INFO:tensorflow:Restoring parameters from /root/.deeppavlov/downloads/bert_models/rubert_cased_L-12_H-768_A-12_v1/bert_model.ckpt\n"
     ]
    },
    {
     "name": "stderr",
     "output_type": "stream",
     "text": [
      "2021-04-13 18:33:24.850 INFO in 'deeppavlov.core.trainers.nn_trainer'['nn_trainer'] at line 199: Initial best roc_auc of 0.4665\n"
     ]
    },
    {
     "name": "stdout",
     "output_type": "stream",
     "text": [
      "{\"valid\": {\"eval_examples_count\": 27993, \"metrics\": {\"roc_auc\": 0.4665}, \"time_spent\": \"0:04:01\", \"examples\": [{\"x\": \"— Удивительно, что они в дверь постучали. А не вломились...\", \"y_predicted\": [0.5243639349937439, 0.4756360650062561], \"y_true\": \"0\"}, {\"x\": \"Я счастлива лишь мечтаньем, Призрак прошлого ловлю: Вспоминаю ночь, свиданье... Но уж вновь не полюблю! Нет, нет, не хочу! Ничего я не хочу!\", \"y_predicted\": [0.5253865122795105, 0.4746134579181671], \"y_true\": \"0\"}, {\"x\": \"Он верил, что корабли приходят в гавань.\", \"y_predicted\": [0.5304720401763916, 0.4695279896259308], \"y_true\": \"0\"}, {\"x\": \"– Оказывается, это легко – убивать Помнишь Чушака? Олег убил его. И еще Налима. Или покалечил. Я тоже одного Мы боимся это вспоминать, Мрак, но мы убивали. И ничто у нас в душе не оборвалось, и гром с небес не сразил. Мы ушли через Болото, оставив позади трупы\", \"y_predicted\": [0.5511992573738098, 0.4488007724285126], \"y_true\": \"0\"}, {\"x\": \"— Сколько можно есть? — Нужно много энергии, чтобы призвать ци.\", \"y_predicted\": [0.5127035975456238, 0.48729637265205383], \"y_true\": \"0\"}, {\"x\": \"Он терпеть не мог думать о других людях как о гражданских лицах. В конце концов, кто такой стражник, если не гражданское лицо в форме и со значком? Но они по-прежнему называли так тех, кто не принадлежал к числу стражников. Это была опасная привычка: как только полисмен перестает быть гражданским лицом, он неизбежно становится солдатом.\", \"y_predicted\": [0.5417658686637878, 0.45823413133621216], \"y_true\": \"0\"}, {\"x\": \"Книги должны писать писатели, мыслители или сплетники.\", \"y_predicted\": [0.5167243480682373, 0.4832756817340851], \"y_true\": \"1\"}, {\"x\": \"А теперь отвернитесь! Ну, отвернитесь. А-атвернитнесь пожалста.\", \"y_predicted\": [0.5168716907501221, 0.48312830924987793], \"y_true\": \"0\"}, {\"x\": \"Иногда слово — удар, а удар — слово.\", \"y_predicted\": [0.5279155969619751, 0.4720844328403473], \"y_true\": \"0\"}, {\"x\": \"— Если я буду выбирать между тем, чтобы дышать и любить тебя, я использую мой последний вздох, чтобы сказать я люблю тебя.\", \"y_predicted\": [0.5309017896652222, 0.46909821033477783], \"y_true\": \"0\"}, {\"x\": \"Вы интересные особи. Забавная смесь: вы сочетаете в себе прекрасные мечты и отвратительные кошмары. Вы чувствуете себя потерянными и одинокими, но это не так. И мы со временем поняли, что пустоту можно перенести, только общаясь между собой.\", \"y_predicted\": [0.5089265704154968, 0.4910733997821808], \"y_true\": \"0\"}, {\"x\": \"Булгаков так описывал жене свои мучения по поводу постановки Мольера у Станиславского: — Представь себе, что на твоих глазах Сереже (сыну Елены от предыдущего брака) начинают щипцами уши завивать и уверяют, что это так и надо, что чеховской дочке тоже завивали, и что ты это полюбить должна.\", \"y_predicted\": [0.5242394804954529, 0.4757605195045471], \"y_true\": \"0\"}, {\"x\": \"— Подросткам все вокруг кажется таким одинаковым, потому они пытаются бунтовать в доступных формах: поджоги, различные химические вещества, вызывающее поведение. — Думаешь, вызывающее поведение включает в себя похищение ребенка? — Это крайность. Подростки скорее будут употреблять алкоголь и слушать вызывающую музыку на самой большой громкости.\", \"y_predicted\": [0.5385192036628723, 0.46148085594177246], \"y_true\": \"0\"}, {\"x\": \"Разве любовь — это обязанность? Нет, это чувство, и чувство свободное, оно не терпит насилия над собой.\", \"y_predicted\": [0.5094574093818665, 0.49054259061813354], \"y_true\": \"0\"}, {\"x\": \"Быть несчастным. Или мотивировать себя. Все, что должно быть сделано, это всегда ваш выбор.\", \"y_predicted\": [0.5096640586853027, 0.49033594131469727], \"y_true\": \"0\"}, {\"x\": \"Забастовка — это, наверное, весело. Жизнь замирает, и город превращается в прогулочную площадку.\", \"y_predicted\": [0.5077518820762634, 0.4922481179237366], \"y_true\": \"0\"}, {\"x\": \"— Учитывая, что я никогда не был предназначен для этого мира, мне на удивление трудно покидать его. Но говорят же, что каждый атом в нашем теле был когда-то частью звезды. Так что быть может, я не улетаю, а возвращаюсь домой.\", \"y_predicted\": [0.5175507664680481, 0.48244917392730713], \"y_true\": \"0\"}, {\"x\": \"Властителю с величьем распрощаться Труднее, чем душе расстаться с телом.\", \"y_predicted\": [0.5240432024002075, 0.47595682740211487], \"y_true\": \"0\"}, {\"x\": \"Просить или отказывать гораздо легче по телефону. Когда ты не видишь лица собеседника, воображение лишается своей опоры.\", \"y_predicted\": [0.5074364542961121, 0.49256351590156555], \"y_true\": \"0\"}, {\"x\": \"Но кто знает, как долго длится боль от потерь? Если 30, 40 лет спустя после смерти ребёнка, или брата, или сестры вы в полусне вспоминаете умершего близкого человека с прежней болью, ощущаете прежнюю пустоту от его потери, то невольно возникает чувство, что эта пустота никогда не заполнится, даже после вашей смерти.\", \"y_predicted\": [0.5251456499099731, 0.47485435009002686], \"y_true\": \"0\"}, {\"x\": \"Он улыбнулся ей улыбкой грешника, сознающего свои грехи.\", \"y_predicted\": [0.5189886689186096, 0.48101136088371277], \"y_true\": \"0\"}, {\"x\": \"— Это Слово Божие? — Да, одно из них. — И о чём оно гласит? — Э-э... Древо? Конь? Манящий краб? Не могу прочесть. Это не предназначено для ангелов.\", \"y_predicted\": [0.5022050738334656, 0.4977949261665344], \"y_true\": \"0\"}, {\"x\": \"Деньги не самое важное в жизни. Но деньги становятся невероятно важными, если их все время не хватает.\", \"y_predicted\": [0.5171335935592651, 0.48286640644073486], \"y_true\": \"0\"}, {\"x\": \"С каждым днём, проведённым здесь, мой нос всё вытягивается.\", \"y_predicted\": [0.5330896973609924, 0.4669102430343628], \"y_true\": \"0\"}, {\"x\": \"— Бэнни, за нами полиция! — Дело поправимое, Роджер! Теперь они перед нами...\", \"y_predicted\": [0.5134730339050293, 0.4865269660949707], \"y_true\": \"0\"}], \"epochs_done\": 0, \"batches_seen\": 0, \"train_examples_seen\": 0, \"impatience\": 0, \"patience_limit\": 5}}\n",
      "WARNING:tensorflow:From /usr/local/lib/python3.7/dist-packages/deeppavlov/core/trainers/nn_trainer.py:250: The name tf.Summary is deprecated. Please use tf.compat.v1.Summary instead.\n",
      "\n",
      "{\"train\": {\"eval_examples_count\": 32, \"metrics\": {\"roc_auc\": 0.9492}, \"time_spent\": \"0:20:39\", \"examples\": [{\"x\": \"Думаю, не ошибусь, если промолчу.\", \"y_predicted\": [0.35818544030189514, 0.6418145298957825], \"y_true\": \"0\"}, {\"x\": \"Было лишь одно, чего духи не могли дать: они не могли сделать его человеком, который любит сам и может быть любим обычной человеческой любовью.\", \"y_predicted\": [0.8715478777885437, 0.1284521222114563], \"y_true\": \"0\"}, {\"x\": \"Мы потеряли американские колонии, потому что не хватило государственной мудрости понять простую истину: не разевай рот на то, чего не сможешь проглотить.\", \"y_predicted\": [0.31882885098457336, 0.6811711192131042], \"y_true\": \"1\"}, {\"x\": \"Когда ты думаешь, говоришь и действуешь исходя из негативного понятия вроде Я – неудачник, ты приводишь в движение огромную созидательную энергию. Будет удивительно, если ты отделаешься простудой. Это самое малое, что может из этого получиться.\", \"y_predicted\": [0.6311782598495483, 0.36882176995277405], \"y_true\": \"0\"}, {\"x\": \"— Ну это — ладно, пацаны, но ты же старик! — Винават, таварищ камандир. — Виноват Какой хоть счёт? — 18:2 в пользу второй. — Хорошо Стой! Встань. [бьёт по мячу, забивает] С-слабак!\", \"y_predicted\": [0.2424553483724594, 0.7575446963310242], \"y_true\": \"1\"}, {\"x\": \"Как-то раз один из посетителей через официанта попросил меня ненадолго прерваться — я мешал ему оценить подлинность золотых двадцатидолларовых монет, минуту назад купленных у кого-то из сидящих за соседним столиком. Он собирался ударить монетой о мраморную столешницу и вслушаться в звук этой единственно важной для него музыки.\", \"y_predicted\": [0.2762828767299652, 0.7237170934677124], \"y_true\": \"1\"}, {\"x\": \"— Вам удалось найти что-то, что ещё больше омрачит нам настроение? — Как насчёт конца света? — Я в вас не сомневалась!\", \"y_predicted\": [0.2840332090854645, 0.7159668207168579], \"y_true\": \"1\"}, {\"x\": \"Нужда друг в друге заставляет проявлять человека чудеса терпимости. Даже любовь на это не всегда способна.\", \"y_predicted\": [0.9027731418609619, 0.0972268134355545], \"y_true\": \"0\"}, {\"x\": \"Никого не будет в доме, Кроме сумерек. Один Зимний день в сквозном проёме Незадёрнутых гардин. Только белых мокрых комьев Быстрый промельк моховой. Только крыши, снег и, кроме Крыш и снега, — никого.\", \"y_predicted\": [0.8565118908882141, 0.1434880793094635], \"y_true\": \"0\"}, {\"x\": \"Женщины любезны настолько, что будут указывать, что тебе делать, до конца твоих дней.\", \"y_predicted\": [0.4072754681110382, 0.5927245020866394], \"y_true\": \"1\"}, {\"x\": \"Кого боги хотят погубить, того они объявляют подающим надежды.\", \"y_predicted\": [0.6368958353996277, 0.3631041646003723], \"y_true\": \"1\"}, {\"x\": \"— Для чего это всё нужно? Похоже на большую игру-аркаду. — Это управление ядерными топливными стержнями. — Прямо как Джеймс Бонд: вытащи стержни, закрой реактор, спаси мир! — Скорее Джеймс Бонд и Марио. — Круто, я отлично играю в Марио! — Если мы ошибёмся, Клайд, то не сможем просто вернуться на предыдущий уровень!\", \"y_predicted\": [0.22395822405815125, 0.7760417461395264], \"y_true\": \"1\"}, {\"x\": \"То тебе не так, и это, Пью я много, денег нету, В сексе — хлюпик, на работе — размазня. Вообщем, нервы на пределе! Обещаю — ты дождешься у меня!\", \"y_predicted\": [0.2871687412261963, 0.7128312587738037], \"y_true\": \"1\"}, {\"x\": \"— Стас... — Чего? — Она хорошая. — Хорошая, хорошая... — Что мне делать? — Лева, а ты уже всё сделал...\", \"y_predicted\": [0.2534887492656708, 0.7465112209320068], \"y_true\": \"1\"}, {\"x\": \"о. Всегда относись к своей женщине как к леди, Никогда не поздно назвать ее детка.\", \"y_predicted\": [0.5596667528152466, 0.4403332471847534], \"y_true\": \"0\"}, {\"x\": \"Но давно уж речь ведется, Что лишь дурням клад дается, Ты ж хоть лоб себе разбей, Так не выбьешь двух рублей.\", \"y_predicted\": [0.30908775329589844, 0.6909122467041016], \"y_true\": \"1\"}, {\"x\": \"— Поди сюда, Тристан! — Спешу услышать повеленья, хоть и стыжусь своих штанов. Ваш секретарь, мой благодетель, уже давненько на мели. А плохо, если кабальеро лакея держит замухрышкой.\", \"y_predicted\": [0.19678546488285065, 0.8032145500183105], \"y_true\": \"1\"}, {\"x\": \"Даже мировым лидерам нужна время от времени конструктивная критика.\", \"y_predicted\": [0.3149774968624115, 0.6850225329399109], \"y_true\": \"0\"}, {\"x\": \"Иногда очевидные вещи не так очевидны и важны, как мелкие детали.\", \"y_predicted\": [0.7335149645805359, 0.2664850354194641], \"y_true\": \"0\"}, {\"x\": \"Она очень вежливая и всегда говорит пожалуйста, но ты заметил, какой у нее тон?\", \"y_predicted\": [0.3064727485179901, 0.6935272812843323], \"y_true\": \"1\"}, {\"x\": \"Дамы и господа! Я вынужден сообщить, что мисс Пэйдж не сможет сегодня танцевать. Ни сегодня, ни завтра. Никогда. Однако, мы решили показать вам Красные башмачки. В этом балете раскрылся ее талант. Это ее балет, ее... Мы начинаем. И я... я уверен — она бы одобрила...\", \"y_predicted\": [0.5161730051040649, 0.48382705450057983], \"y_true\": \"0\"}, {\"x\": \"Люди бывают большие телом и душой. К сожалению, первые встречаются чаще.\", \"y_predicted\": [0.6744296550750732, 0.32557034492492676], \"y_true\": \"0\"}, {\"x\": \"Путь воина — путь одиночки.\", \"y_predicted\": [0.8879885673522949, 0.1120113953948021], \"y_true\": \"0\"}, {\"x\": \"— Я часто летаю и расскажу вам, как справиться с турбулентностью. — Остаться дома?\", \"y_predicted\": [0.26704323291778564, 0.7329567670822144], \"y_true\": \"1\"}, {\"x\": \"Если тебя сводят с мужчиной против твоей воли – это одна степень унижения, но если тебя буквально тащат к нему в тот момент, когда ты пытаешься справиться с тошнотворным похмельем и за этим наблюдает полная комната друзей твоих родителей – это уже совсем другой уровень.\", \"y_predicted\": [0.7797144055366516, 0.22028560936450958], \"y_true\": \"0\"}, {\"x\": \"— ... А Энгельс считал, что человечество развивается по спирали. — Мы не человечество, мы — морские свинки. Наш цикл: клетка-опыт-клетка!\", \"y_predicted\": [0.3379177451133728, 0.662082314491272], \"y_true\": \"1\"}, {\"x\": \"Как увядающие цветы люди. Осень — и ничего нет. Как страшно это нет. Как страшна осень.\", \"y_predicted\": [0.9101027250289917, 0.08989731222391129], \"y_true\": \"0\"}, {\"x\": \"Скромность — середина между бесстыдством и стеснительностью.\", \"y_predicted\": [0.5393617153167725, 0.46063828468322754], \"y_true\": \"0\"}, {\"x\": \"Приходят в политику с блестящим будущим, уходят с ужасным прошлым.\", \"y_predicted\": [0.3989252746105194, 0.6010746955871582], \"y_true\": \"1\"}, {\"x\": \"Нормальные люди в России мучаются, потому что не знают, что им делать. Не знают, кто они такие, зачем они здесь. Они коротают время в ожидании какого-то подарка. Когда же им поступает этот подарок — не знают, что с ним делать. У каждого есть сотни примеров.\", \"y_predicted\": [0.45217156410217285, 0.5478284358978271], \"y_true\": \"0\"}, {\"x\": \"Без любви жить легче. Но без неё нет смысла.\", \"y_predicted\": [0.8912127614021301, 0.10878725349903107], \"y_true\": \"0\"}, {\"x\": \"Вы кто?! Я знаю, кто вы. Вы — представитель всего того идиотизма, что меня окружает!\", \"y_predicted\": [0.31296443939208984, 0.6870355606079102], \"y_true\": \"1\"}], \"epochs_done\": 1, \"batches_seen\": 1084, \"train_examples_seen\": 34680, \"learning_rate\": 1e-05, \"loss\": 0.593126298756617}}\n"
     ]
    },
    {
     "name": "stderr",
     "output_type": "stream",
     "text": [
      "2021-04-13 18:54:03.111 INFO in 'deeppavlov.core.trainers.nn_trainer'['nn_trainer'] at line 207: Improved best roc_auc of 0.7744\n",
      "2021-04-13 18:54:03.113 INFO in 'deeppavlov.core.trainers.nn_trainer'['nn_trainer'] at line 209: Saving model\n",
      "2021-04-13 18:54:03.120 INFO in 'deeppavlov.core.models.tf_model'['tf_model'] at line 75: [saving model to /root/.deeppavlov/models/classifiers/bert_classifier_v2/model]\n"
     ]
    },
    {
     "name": "stdout",
     "output_type": "stream",
     "text": [
      "{\"valid\": {\"eval_examples_count\": 27993, \"metrics\": {\"roc_auc\": 0.7744}, \"time_spent\": \"0:24:39\", \"examples\": [{\"x\": \"— Удивительно, что они в дверь постучали. А не вломились...\", \"y_predicted\": [0.23138971626758575, 0.7686102986335754], \"y_true\": \"0\"}, {\"x\": \"Я счастлива лишь мечтаньем, Призрак прошлого ловлю: Вспоминаю ночь, свиданье... Но уж вновь не полюблю! Нет, нет, не хочу! Ничего я не хочу!\", \"y_predicted\": [0.715981662273407, 0.284018337726593], \"y_true\": \"0\"}, {\"x\": \"Он верил, что корабли приходят в гавань.\", \"y_predicted\": [0.49526819586753845, 0.5047318339347839], \"y_true\": \"0\"}, {\"x\": \"– Оказывается, это легко – убивать Помнишь Чушака? Олег убил его. И еще Налима. Или покалечил. Я тоже одного Мы боимся это вспоминать, Мрак, но мы убивали. И ничто у нас в душе не оборвалось, и гром с небес не сразил. Мы ушли через Болото, оставив позади трупы\", \"y_predicted\": [0.6885893940925598, 0.3114106357097626], \"y_true\": \"0\"}, {\"x\": \"— Сколько можно есть? — Нужно много энергии, чтобы призвать ци.\", \"y_predicted\": [0.6356151700019836, 0.36438482999801636], \"y_true\": \"0\"}, {\"x\": \"Он терпеть не мог думать о других людях как о гражданских лицах. В конце концов, кто такой стражник, если не гражданское лицо в форме и со значком? Но они по-прежнему называли так тех, кто не принадлежал к числу стражников. Это была опасная привычка: как только полисмен перестает быть гражданским лицом, он неизбежно становится солдатом.\", \"y_predicted\": [0.34613561630249023, 0.6538643836975098], \"y_true\": \"0\"}, {\"x\": \"Книги должны писать писатели, мыслители или сплетники.\", \"y_predicted\": [0.48407307267189026, 0.5159268975257874], \"y_true\": \"1\"}, {\"x\": \"А теперь отвернитесь! Ну, отвернитесь. А-атвернитнесь пожалста.\", \"y_predicted\": [0.3067092299461365, 0.6932908296585083], \"y_true\": \"0\"}, {\"x\": \"Иногда слово — удар, а удар — слово.\", \"y_predicted\": [0.6504422426223755, 0.3495577871799469], \"y_true\": \"0\"}, {\"x\": \"— Если я буду выбирать между тем, чтобы дышать и любить тебя, я использую мой последний вздох, чтобы сказать я люблю тебя.\", \"y_predicted\": [0.8008126616477966, 0.19918733835220337], \"y_true\": \"0\"}, {\"x\": \"Вы интересные особи. Забавная смесь: вы сочетаете в себе прекрасные мечты и отвратительные кошмары. Вы чувствуете себя потерянными и одинокими, но это не так. И мы со временем поняли, что пустоту можно перенести, только общаясь между собой.\", \"y_predicted\": [0.8611726760864258, 0.1388273537158966], \"y_true\": \"0\"}, {\"x\": \"Булгаков так описывал жене свои мучения по поводу постановки Мольера у Станиславского: — Представь себе, что на твоих глазах Сереже (сыну Елены от предыдущего брака) начинают щипцами уши завивать и уверяют, что это так и надо, что чеховской дочке тоже завивали, и что ты это полюбить должна.\", \"y_predicted\": [0.2216484248638153, 0.7783516049385071], \"y_true\": \"0\"}, {\"x\": \"— Подросткам все вокруг кажется таким одинаковым, потому они пытаются бунтовать в доступных формах: поджоги, различные химические вещества, вызывающее поведение. — Думаешь, вызывающее поведение включает в себя похищение ребенка? — Это крайность. Подростки скорее будут употреблять алкоголь и слушать вызывающую музыку на самой большой громкости.\", \"y_predicted\": [0.28178516030311584, 0.7182148694992065], \"y_true\": \"0\"}, {\"x\": \"Разве любовь — это обязанность? Нет, это чувство, и чувство свободное, оно не терпит насилия над собой.\", \"y_predicted\": [0.8919429183006287, 0.10805704444646835], \"y_true\": \"0\"}, {\"x\": \"Быть несчастным. Или мотивировать себя. Все, что должно быть сделано, это всегда ваш выбор.\", \"y_predicted\": [0.9051781296730042, 0.09482187032699585], \"y_true\": \"0\"}, {\"x\": \"Забастовка — это, наверное, весело. Жизнь замирает, и город превращается в прогулочную площадку.\", \"y_predicted\": [0.31302139163017273, 0.6869786381721497], \"y_true\": \"0\"}, {\"x\": \"— Учитывая, что я никогда не был предназначен для этого мира, мне на удивление трудно покидать его. Но говорят же, что каждый атом в нашем теле был когда-то частью звезды. Так что быть может, я не улетаю, а возвращаюсь домой.\", \"y_predicted\": [0.7846947312355042, 0.21530523896217346], \"y_true\": \"0\"}, {\"x\": \"Властителю с величьем распрощаться Труднее, чем душе расстаться с телом.\", \"y_predicted\": [0.8998437523841858, 0.1001562848687172], \"y_true\": \"0\"}, {\"x\": \"Просить или отказывать гораздо легче по телефону. Когда ты не видишь лица собеседника, воображение лишается своей опоры.\", \"y_predicted\": [0.7973637580871582, 0.20263619720935822], \"y_true\": \"0\"}, {\"x\": \"Но кто знает, как долго длится боль от потерь? Если 30, 40 лет спустя после смерти ребёнка, или брата, или сестры вы в полусне вспоминаете умершего близкого человека с прежней болью, ощущаете прежнюю пустоту от его потери, то невольно возникает чувство, что эта пустота никогда не заполнится, даже после вашей смерти.\", \"y_predicted\": [0.9434064626693726, 0.05659349262714386], \"y_true\": \"0\"}, {\"x\": \"Он улыбнулся ей улыбкой грешника, сознающего свои грехи.\", \"y_predicted\": [0.8631253242492676, 0.13687464594841003], \"y_true\": \"0\"}, {\"x\": \"— Это Слово Божие? — Да, одно из них. — И о чём оно гласит? — Э-э... Древо? Конь? Манящий краб? Не могу прочесть. Это не предназначено для ангелов.\", \"y_predicted\": [0.290004700422287, 0.7099952697753906], \"y_true\": \"0\"}, {\"x\": \"Деньги не самое важное в жизни. Но деньги становятся невероятно важными, если их все время не хватает.\", \"y_predicted\": [0.6639376878738403, 0.3360622823238373], \"y_true\": \"0\"}, {\"x\": \"С каждым днём, проведённым здесь, мой нос всё вытягивается.\", \"y_predicted\": [0.47263380885124207, 0.5273661613464355], \"y_true\": \"0\"}, {\"x\": \"— Бэнни, за нами полиция! — Дело поправимое, Роджер! Теперь они перед нами...\", \"y_predicted\": [0.24380570650100708, 0.7561942934989929], \"y_true\": \"0\"}], \"epochs_done\": 1, \"batches_seen\": 1084, \"train_examples_seen\": 34680, \"impatience\": 0, \"patience_limit\": 5}}\n",
      "WARNING:tensorflow:From /usr/local/lib/python3.7/dist-packages/deeppavlov/core/models/tf_model.py:211: The name tf.assign is deprecated. Please use tf.compat.v1.assign instead.\n",
      "\n",
      "{\"train\": {\"eval_examples_count\": 32, \"metrics\": {\"roc_auc\": 0.9433}, \"time_spent\": \"0:41:20\", \"examples\": [{\"x\": \"Женщина, которая на все согласна, которая отдает гораздо больше, чем получает, производит на мужчину впечатление, что она больше верит в него, чем в себя. Мужчины расценивают такое поведение как признак слабости, а не доброты.\", \"y_predicted\": [0.9340881109237671, 0.06591195613145828], \"y_true\": \"0\"}, {\"x\": \"Всё, что приходит в голову дедушке мистера Смоллуида, является туда в виде личинки и навсегда остаётся личинкой. За всю свою жизнь он не вырастил ни одной бабочки.\", \"y_predicted\": [0.6439110636711121, 0.3560889661312103], \"y_true\": \"1\"}, {\"x\": \"Забавно, что когда ты вольна делать что хочешь, в итоге почти ничего не делаешь. Огромный выбор означает в переводе его полное отсутствие.\", \"y_predicted\": [0.202909454703331, 0.7970905303955078], \"y_true\": \"1\"}, {\"x\": \"В такой точно день, на этом самом месте, он встретил Матильду, то есть саму Любовь, ведь она его любила точно также, как и он любил её, но продолжалось это только год.\", \"y_predicted\": [0.872177004814148, 0.12782301008701324], \"y_true\": \"0\"}, {\"x\": \"Из мести восстал человек и сказал: Это для меня — мост к высшей надежде, радуга после дождя.\", \"y_predicted\": [0.9644564390182495, 0.035543497651815414], \"y_true\": \"0\"}, {\"x\": \"Кстати, говорят, что плывут по течению только слабые люди, а сильные предпочитают плыть против течения. Я же всегда относил себя к третьей категории — тем, которые плывут, куда им нужно, поэтому сейчас поставил перед собой новую цель и наметил пути её достижения. А плохое настроение отнёс к ряду мелочей, на которые не стоит обращать внимания.\", \"y_predicted\": [0.8579310774803162, 0.14206896722316742], \"y_true\": \"0\"}, {\"x\": \"Хм, первое апреля, это единственный день в году, когда люди критически относятся к новостным заголовкам.\", \"y_predicted\": [0.2249435931444168, 0.7750564217567444], \"y_true\": \"1\"}, {\"x\": \"сердце может быть пустым, но не мертвым, и я, потеряв свою маленькую любовь, обрела целый мир, и он будет жить для меня, и я растворюсь в нем, я буду любить его весь, с его грязью, ложью, играми, со всеми его людьми, чужими мне, чужими друг другу, такими же несчастными, счастливыми и запутавшимися, как я!\", \"y_predicted\": [0.9794285893440247, 0.02057141810655594], \"y_true\": \"0\"}, {\"x\": \"Брачные союзы порой таят много секретов, стоит только изучить свою родословную.\", \"y_predicted\": [0.40233367681503296, 0.597666323184967], \"y_true\": \"1\"}, {\"x\": \"-, -. . Дай мне кокаин, дай мне кокаин, Чтобы я не чувствовал боли.\", \"y_predicted\": [0.9641010761260986, 0.0358988493680954], \"y_true\": \"0\"}, {\"x\": \"путь всякой власти: становление, развитие и систематическое злоупотребление.\", \"y_predicted\": [0.611117959022522, 0.388882040977478], \"y_true\": \"1\"}, {\"x\": \"Тяжелым душевным наказанием является раскаяние после поступка.\", \"y_predicted\": [0.918548047542572, 0.08145198971033096], \"y_true\": \"0\"}, {\"x\": \"Жестокость бесчувственного человека есть антипод сострадания; жестокость чувствительного — более высокая потенция сострадания.\", \"y_predicted\": [0.9390112161636353, 0.06098880618810654], \"y_true\": \"0\"}, {\"x\": \"— Возможно, ты в опасности. — Кто мне угрожает? Якудза, исполины, миллион мамочек? — Мэйз. Она злится на тебя, брат. — Сегодня уже вторник? Гнев у Мэйз по умолчанию — он в ее демонической ДНК.\", \"y_predicted\": [0.41492941975593567, 0.5850705504417419], \"y_true\": \"1\"}, {\"x\": \"Лень. Сакральное русское чувство.\", \"y_predicted\": [0.5270547866821289, 0.4729452133178711], \"y_true\": \"1\"}, {\"x\": \"Умереть проще всего. Этот выход всегда под рукой. Знаешь сам, Просто нам Нужен пит-стоп,.\", \"y_predicted\": [0.8455150127410889, 0.15448500216007233], \"y_true\": \"0\"}, {\"x\": \"Расстаться с жестоким обращением – все равно что бросить принимать наркотик.\", \"y_predicted\": [0.5264860987663269, 0.4735139012336731], \"y_true\": \"0\"}, {\"x\": \"— Джейк, отказаться от боя и проиграть — не синонимы. — Точно. Но есть третий вариант.\", \"y_predicted\": [0.5866038799285889, 0.4133961498737335], \"y_true\": \"0\"}, {\"x\": \"Великие нации всегда действовали как бандиты, а малые страны — как проститутки.\", \"y_predicted\": [0.8151904344558716, 0.18480955064296722], \"y_true\": \"0\"}, {\"x\": \"В основном, свободу человек проявляет только в выборе зависимости.\", \"y_predicted\": [0.5518864989280701, 0.44811350107192993], \"y_true\": \"1\"}, {\"x\": \"Что я могла сказать? Ной, несмотря на то что ты засранец, а может, именно поэтому, мне бы хотелось сорвать с тебя одежду и завести от тебя детей. Молчи!\", \"y_predicted\": [0.3801168203353882, 0.6198831796646118], \"y_true\": \"1\"}, {\"x\": \"В том семестре я начал понимать, что Себастьян — пьяница совсем в другом смысле, чем я. Я напивался часто, но от избытка жизненных сил, радуясь мгновению и стремясь продлить, испить его до дна; Себастьян пил, чтобы спрятаться от жизни. Чем старше и серьезнее мы оба становились, тем меньше пил я и тем больше он.\", \"y_predicted\": [0.8919453024864197, 0.10805470496416092], \"y_true\": \"0\"}, {\"x\": \"Я отношусь к своей мебели, как к своим бабам, так что не стоит лучше касаться вон того дивана.\", \"y_predicted\": [0.3935248851776123, 0.6064751148223877], \"y_true\": \"0\"}, {\"x\": \"— Ты душ освободил? — Да, я освободитель душа.\", \"y_predicted\": [0.42391350865364075, 0.5760864615440369], \"y_true\": \"1\"}, {\"x\": \"Жизнь – это грустно-весёлая симфония Едва сводя концы с концами, Ты вечный раб денег, А затем приходит смерть\", \"y_predicted\": [0.97408127784729, 0.0259187463670969], \"y_true\": \"0\"}, {\"x\": \"Любите женщину с её всеми нет, и это — путь к её многим да.\", \"y_predicted\": [0.8186254501342773, 0.18137454986572266], \"y_true\": \"0\"}, {\"x\": \"Семья — это либо постоянный саботаж, либо надежная опора. В последнем случае тебе очень повезло.\", \"y_predicted\": [0.8476264476776123, 0.1523735672235489], \"y_true\": \"0\"}, {\"x\": \"Адюльтеры, предательства, измены Поныне, как и встарь, увы, не новы, В распутном мире блуда современном Они – основа чести Казановы.\", \"y_predicted\": [0.8266746401786804, 0.1733253449201584], \"y_true\": \"0\"}, {\"x\": \"Нет ничего противнее мужчины, который сидит на шее у женщин... Напоминаю, я кот.\", \"y_predicted\": [0.1822555810213089, 0.8177444338798523], \"y_true\": \"1\"}, {\"x\": \"Нас не убивают в перестрелках. Если надо, умирают другие. Выкинь свою предсмертную записку и замени её тренировками и ещё раз тренировками.\", \"y_predicted\": [0.632893979549408, 0.36710602045059204], \"y_true\": \"0\"}, {\"x\": \"— Прелесть моя... — начал нежно Коровьев. — Я не прелесть, — перебила его гражданка. — О, как это жалко, — разочарованно сказал Коровьев и продолжал: — Ну, что ж, если вам не угодно быть прелестью, что было бы весьма приятно, можете не быть ею.\", \"y_predicted\": [0.09456495940685272, 0.9054350852966309], \"y_true\": \"1\"}, {\"x\": \"— Пусть позвонит мне, а то потеряет. — Номер тот же? 1-8-стерва.\", \"y_predicted\": [0.3403216302394867, 0.6596783995628357], \"y_true\": \"1\"}], \"epochs_done\": 2, \"batches_seen\": 2168, \"train_examples_seen\": 69360, \"learning_rate\": 1e-05, \"loss\": 0.49758268133960526}}\n"
     ]
    },
    {
     "name": "stderr",
     "output_type": "stream",
     "text": [
      "2021-04-13 19:14:45.901 INFO in 'deeppavlov.core.trainers.nn_trainer'['nn_trainer'] at line 207: Improved best roc_auc of 0.7787\n",
      "2021-04-13 19:14:45.903 INFO in 'deeppavlov.core.trainers.nn_trainer'['nn_trainer'] at line 209: Saving model\n",
      "2021-04-13 19:14:45.907 INFO in 'deeppavlov.core.models.tf_model'['tf_model'] at line 75: [saving model to /root/.deeppavlov/models/classifiers/bert_classifier_v2/model]\n"
     ]
    },
    {
     "name": "stdout",
     "output_type": "stream",
     "text": [
      "{\"valid\": {\"eval_examples_count\": 27993, \"metrics\": {\"roc_auc\": 0.7787}, \"time_spent\": \"0:45:22\", \"examples\": [{\"x\": \"— Удивительно, что они в дверь постучали. А не вломились...\", \"y_predicted\": [0.17536188662052155, 0.8246381282806396], \"y_true\": \"0\"}, {\"x\": \"Я счастлива лишь мечтаньем, Призрак прошлого ловлю: Вспоминаю ночь, свиданье... Но уж вновь не полюблю! Нет, нет, не хочу! Ничего я не хочу!\", \"y_predicted\": [0.9078459143638611, 0.09215406328439713], \"y_true\": \"0\"}, {\"x\": \"Он верил, что корабли приходят в гавань.\", \"y_predicted\": [0.5906669497489929, 0.4093330204486847], \"y_true\": \"0\"}, {\"x\": \"– Оказывается, это легко – убивать Помнишь Чушака? Олег убил его. И еще Налима. Или покалечил. Я тоже одного Мы боимся это вспоминать, Мрак, но мы убивали. И ничто у нас в душе не оборвалось, и гром с небес не сразил. Мы ушли через Болото, оставив позади трупы\", \"y_predicted\": [0.868127167224884, 0.13187280297279358], \"y_true\": \"0\"}, {\"x\": \"— Сколько можно есть? — Нужно много энергии, чтобы призвать ци.\", \"y_predicted\": [0.8078932762145996, 0.1921067237854004], \"y_true\": \"0\"}, {\"x\": \"Он терпеть не мог думать о других людях как о гражданских лицах. В конце концов, кто такой стражник, если не гражданское лицо в форме и со значком? Но они по-прежнему называли так тех, кто не принадлежал к числу стражников. Это была опасная привычка: как только полисмен перестает быть гражданским лицом, он неизбежно становится солдатом.\", \"y_predicted\": [0.6426159143447876, 0.3573841154575348], \"y_true\": \"0\"}, {\"x\": \"Книги должны писать писатели, мыслители или сплетники.\", \"y_predicted\": [0.7737339735031128, 0.226266011595726], \"y_true\": \"1\"}, {\"x\": \"А теперь отвернитесь! Ну, отвернитесь. А-атвернитнесь пожалста.\", \"y_predicted\": [0.3123012185096741, 0.6876988410949707], \"y_true\": \"0\"}, {\"x\": \"Иногда слово — удар, а удар — слово.\", \"y_predicted\": [0.6535890698432922, 0.34641095995903015], \"y_true\": \"0\"}, {\"x\": \"— Если я буду выбирать между тем, чтобы дышать и любить тебя, я использую мой последний вздох, чтобы сказать я люблю тебя.\", \"y_predicted\": [0.88834547996521, 0.11165452748537064], \"y_true\": \"0\"}, {\"x\": \"Вы интересные особи. Забавная смесь: вы сочетаете в себе прекрасные мечты и отвратительные кошмары. Вы чувствуете себя потерянными и одинокими, но это не так. И мы со временем поняли, что пустоту можно перенести, только общаясь между собой.\", \"y_predicted\": [0.962874174118042, 0.0371258482336998], \"y_true\": \"0\"}, {\"x\": \"Булгаков так описывал жене свои мучения по поводу постановки Мольера у Станиславского: — Представь себе, что на твоих глазах Сереже (сыну Елены от предыдущего брака) начинают щипцами уши завивать и уверяют, что это так и надо, что чеховской дочке тоже завивали, и что ты это полюбить должна.\", \"y_predicted\": [0.11129072308540344, 0.888709306716919], \"y_true\": \"0\"}, {\"x\": \"— Подросткам все вокруг кажется таким одинаковым, потому они пытаются бунтовать в доступных формах: поджоги, различные химические вещества, вызывающее поведение. — Думаешь, вызывающее поведение включает в себя похищение ребенка? — Это крайность. Подростки скорее будут употреблять алкоголь и слушать вызывающую музыку на самой большой громкости.\", \"y_predicted\": [0.24457469582557678, 0.7554252743721008], \"y_true\": \"0\"}, {\"x\": \"Разве любовь — это обязанность? Нет, это чувство, и чувство свободное, оно не терпит насилия над собой.\", \"y_predicted\": [0.9482553005218506, 0.05174468830227852], \"y_true\": \"0\"}, {\"x\": \"Быть несчастным. Или мотивировать себя. Все, что должно быть сделано, это всегда ваш выбор.\", \"y_predicted\": [0.9710565805435181, 0.028943492099642754], \"y_true\": \"0\"}, {\"x\": \"Забастовка — это, наверное, весело. Жизнь замирает, и город превращается в прогулочную площадку.\", \"y_predicted\": [0.43006935715675354, 0.5699306726455688], \"y_true\": \"0\"}, {\"x\": \"— Учитывая, что я никогда не был предназначен для этого мира, мне на удивление трудно покидать его. Но говорят же, что каждый атом в нашем теле был когда-то частью звезды. Так что быть может, я не улетаю, а возвращаюсь домой.\", \"y_predicted\": [0.8950701355934143, 0.1049298569560051], \"y_true\": \"0\"}, {\"x\": \"Властителю с величьем распрощаться Труднее, чем душе расстаться с телом.\", \"y_predicted\": [0.8542978167533875, 0.14570215344429016], \"y_true\": \"0\"}, {\"x\": \"Просить или отказывать гораздо легче по телефону. Когда ты не видишь лица собеседника, воображение лишается своей опоры.\", \"y_predicted\": [0.8575686812400818, 0.142431378364563], \"y_true\": \"0\"}, {\"x\": \"Но кто знает, как долго длится боль от потерь? Если 30, 40 лет спустя после смерти ребёнка, или брата, или сестры вы в полусне вспоминаете умершего близкого человека с прежней болью, ощущаете прежнюю пустоту от его потери, то невольно возникает чувство, что эта пустота никогда не заполнится, даже после вашей смерти.\", \"y_predicted\": [0.979000985622406, 0.02099907584488392], \"y_true\": \"0\"}, {\"x\": \"Он улыбнулся ей улыбкой грешника, сознающего свои грехи.\", \"y_predicted\": [0.8962225317955017, 0.10377750545740128], \"y_true\": \"0\"}, {\"x\": \"— Это Слово Божие? — Да, одно из них. — И о чём оно гласит? — Э-э... Древо? Конь? Манящий краб? Не могу прочесть. Это не предназначено для ангелов.\", \"y_predicted\": [0.6800438761711121, 0.31995606422424316], \"y_true\": \"0\"}, {\"x\": \"Деньги не самое важное в жизни. Но деньги становятся невероятно важными, если их все время не хватает.\", \"y_predicted\": [0.8009606003761292, 0.19903936982154846], \"y_true\": \"0\"}, {\"x\": \"С каждым днём, проведённым здесь, мой нос всё вытягивается.\", \"y_predicted\": [0.44575729966163635, 0.554242730140686], \"y_true\": \"0\"}, {\"x\": \"— Бэнни, за нами полиция! — Дело поправимое, Роджер! Теперь они перед нами...\", \"y_predicted\": [0.298829585313797, 0.7011704444885254], \"y_true\": \"0\"}], \"epochs_done\": 2, \"batches_seen\": 2168, \"train_examples_seen\": 69360, \"impatience\": 0, \"patience_limit\": 5}}\n"
     ]
    },
    {
     "name": "stderr",
     "output_type": "stream",
     "text": [
      "2021-04-13 19:15:13.468 INFO in 'deeppavlov.core.models.tf_model'['tf_model'] at line 51: [loading model from /root/.deeppavlov/models/classifiers/bert_classifier_v2/model]\n"
     ]
    },
    {
     "name": "stdout",
     "output_type": "stream",
     "text": [
      "INFO:tensorflow:Restoring parameters from /root/.deeppavlov/models/classifiers/bert_classifier_v2/model\n",
      "{\"train\": {\"eval_examples_count\": 34680, \"metrics\": {\"roc_auc\": 0.9139}, \"time_spent\": \"0:05:02\", \"examples\": [{\"x\": \"Люди хотят, чтобы журавли всегда возвращались.\", \"y_predicted\": [0.9000442028045654, 0.09995580464601517], \"y_true\": \"0\"}, {\"x\": \"У актера все может быть ненастоящим, кроме страсти.\", \"y_predicted\": [0.6182155609130859, 0.38178446888923645], \"y_true\": \"0\"}, {\"x\": \"Ничего не может быть гаже, чем когда приехавший первым гость мыкается, не зная, что ему предпринять, а его законная мегера шёпотом пилит его за то, что они приехали раньше всех. Такие балы надо выбрасывать на помойку, королева.\", \"y_predicted\": [0.16216744482517242, 0.837832510471344], \"y_true\": \"1\"}, {\"x\": \"Когда мне говорят будь собой, я теряюсь и не знаю, кем из собой мне быть.\", \"y_predicted\": [0.8619773983955383, 0.13802261650562286], \"y_true\": \"0\"}, {\"x\": \"Лучше поговорите с ним. Мы не можем наверняка знать, что воспринимают люди в коме. Считается, что слух остается до последнего. Он сейчас знает вещи, которые недоступны нашему с вами пониманию, которые за гранью... Я очень в это верю.\", \"y_predicted\": [0.9530927538871765, 0.04690716415643692], \"y_true\": \"0\"}, {\"x\": \"Почему бы тебе не просверлить в себе дырку и не выпустить всю дурость?\", \"y_predicted\": [0.7790042161941528, 0.22099579870700836], \"y_true\": \"0\"}, {\"x\": \"Это было очень по-человечески — привыкнуть жить с грызущей тебя изнутри болью. Привыкнуть, но не смириться. Приспособиться. Приручить свою боль. Может быть, потому, что люди хоть и стремятся к совершенству, но прекрасно знают, что оно недостижимо?\", \"y_predicted\": [0.9734084010124207, 0.026591584086418152], \"y_true\": \"0\"}, {\"x\": \"— У вас всё хорошо? — Отлично. Говорю сама с собой, просыпаюсь от страха, что умираю, и срываюсь на тех, кого люблю. А в остальном всё хорошо. — Вот это да! У моего отца точно такие же симптомы. Он обошёл всех лучших врачей, и все ставят один диагноз: вы еврей. — Но я не еврейка. Я атеистка. — Это очень по-еврейски.\", \"y_predicted\": [0.1345410943031311, 0.8654588460922241], \"y_true\": \"1\"}, {\"x\": \"Августа, если вам сделают предложение — не говорите слишком быстро да, это неприлично. Алели, если вам сделают предложение, не говорите сразу нет, это невежливо.\", \"y_predicted\": [0.24742352962493896, 0.752576470375061], \"y_true\": \"1\"}, {\"x\": \"— Я никогда не позволю им взять над нами верх. — Умеешь ты жестить, Блэйк.\", \"y_predicted\": [0.17011600732803345, 0.8298839330673218], \"y_true\": \"1\"}, {\"x\": \"– А круто вы на меня поработали. – Ну мы-то знаем, что это ты на нас поработал.\", \"y_predicted\": [0.17310629785060883, 0.82689368724823], \"y_true\": \"1\"}, {\"x\": \"Европу вижу я лишь лужей захолустной, Где отражаются под вечер облака И над которою стоит ребёнок грустный, Пуская лодочку, что хрупче мотылька., ,, .\", \"y_predicted\": [0.9786068201065063, 0.021393151953816414], \"y_true\": \"0\"}, {\"x\": \"Женщины мечтают иметь узкую ступню, но жить на широкую ногу.\", \"y_predicted\": [0.41739243268966675, 0.5826075077056885], \"y_true\": \"1\"}, {\"x\": \"В мире не существует призраков, кроме тех, что кроются в нас самих.\", \"y_predicted\": [0.9665207862854004, 0.03347925841808319], \"y_true\": \"0\"}, {\"x\": \"Жена должна быть кроткой, смиренной и терпеливой. Она никогда ни в чем не должна перечить мужу и удовлетворять все его желания, ничего и никогда не требуя у него взамен.\", \"y_predicted\": [0.9322465658187866, 0.0677533969283104], \"y_true\": \"1\"}, {\"x\": \"Зима также приносит ленивые ветры, которым невдомек, зачем огибать человеческие тела, когда можно пройти прямо сквозь них.\", \"y_predicted\": [0.4937414824962616, 0.506258487701416], \"y_true\": \"1\"}, {\"x\": \"Борьба за право бездельничать отнимает много времени.\", \"y_predicted\": [0.4932936429977417, 0.5067063570022583], \"y_true\": \"1\"}, {\"x\": \"— Эмильен, я в положении! — Но как? — Ветром надуло. Забыла форточку закрыть.\", \"y_predicted\": [0.2940768599510193, 0.7059231996536255], \"y_true\": \"1\"}, {\"x\": \"Вдохновение даёт идею. Дисциплина даёт жизнь.\", \"y_predicted\": [0.9368214011192322, 0.06317861378192902], \"y_true\": \"0\"}, {\"x\": \"Я могу умереть от клинка серийного убийцы, но я не собираюсь умирать от голода. Давайте возьмем пиццу.\", \"y_predicted\": [0.23829634487628937, 0.7617036700248718], \"y_true\": \"1\"}, {\"x\": \"— Не шутки делают комика, про жопу может пошутить любой. Главное, что ты с этим делаешь. — С жопой? — С шуткой!\", \"y_predicted\": [0.15443210303783417, 0.8455679416656494], \"y_true\": \"1\"}, {\"x\": \"Инвалиды интеллектуального труда.\", \"y_predicted\": [0.24908709526062012, 0.7509129047393799], \"y_true\": \"1\"}, {\"x\": \"— А знаешь, ты добрый малый. — Добрейший. Будь у меня друзья — они бы подтвердили.\", \"y_predicted\": [0.1715792417526245, 0.8284208178520203], \"y_true\": \"1\"}, {\"x\": \"– Госпожа Ольга не лошадь, чтобы ей в зубы заглядывать. Знай наших! Блондинки не предают! Ну по крайней мере, Ванесса. – Я настаиваю. – Я тоже настаиваю, – скривилась эльфийка. – На сливах, на рябине, иногда на хрене.\", \"y_predicted\": [0.1184801384806633, 0.8815198540687561], \"y_true\": \"1\"}]}}\n",
      "{\"valid\": {\"eval_examples_count\": 27993, \"metrics\": {\"roc_auc\": 0.7787}, \"time_spent\": \"0:04:03\", \"examples\": [{\"x\": \"— Удивительно, что они в дверь постучали. А не вломились...\", \"y_predicted\": [0.17536188662052155, 0.8246381282806396], \"y_true\": \"0\"}, {\"x\": \"Я счастлива лишь мечтаньем, Призрак прошлого ловлю: Вспоминаю ночь, свиданье... Но уж вновь не полюблю! Нет, нет, не хочу! Ничего я не хочу!\", \"y_predicted\": [0.9078459143638611, 0.09215406328439713], \"y_true\": \"0\"}, {\"x\": \"Он верил, что корабли приходят в гавань.\", \"y_predicted\": [0.5906669497489929, 0.4093330204486847], \"y_true\": \"0\"}, {\"x\": \"– Оказывается, это легко – убивать Помнишь Чушака? Олег убил его. И еще Налима. Или покалечил. Я тоже одного Мы боимся это вспоминать, Мрак, но мы убивали. И ничто у нас в душе не оборвалось, и гром с небес не сразил. Мы ушли через Болото, оставив позади трупы\", \"y_predicted\": [0.868127167224884, 0.13187280297279358], \"y_true\": \"0\"}, {\"x\": \"— Сколько можно есть? — Нужно много энергии, чтобы призвать ци.\", \"y_predicted\": [0.8078932762145996, 0.1921067237854004], \"y_true\": \"0\"}, {\"x\": \"Он терпеть не мог думать о других людях как о гражданских лицах. В конце концов, кто такой стражник, если не гражданское лицо в форме и со значком? Но они по-прежнему называли так тех, кто не принадлежал к числу стражников. Это была опасная привычка: как только полисмен перестает быть гражданским лицом, он неизбежно становится солдатом.\", \"y_predicted\": [0.6426159143447876, 0.3573841154575348], \"y_true\": \"0\"}, {\"x\": \"Книги должны писать писатели, мыслители или сплетники.\", \"y_predicted\": [0.7737339735031128, 0.226266011595726], \"y_true\": \"1\"}, {\"x\": \"А теперь отвернитесь! Ну, отвернитесь. А-атвернитнесь пожалста.\", \"y_predicted\": [0.3123012185096741, 0.6876988410949707], \"y_true\": \"0\"}, {\"x\": \"Иногда слово — удар, а удар — слово.\", \"y_predicted\": [0.6535890698432922, 0.34641095995903015], \"y_true\": \"0\"}, {\"x\": \"— Если я буду выбирать между тем, чтобы дышать и любить тебя, я использую мой последний вздох, чтобы сказать я люблю тебя.\", \"y_predicted\": [0.88834547996521, 0.11165452748537064], \"y_true\": \"0\"}, {\"x\": \"Вы интересные особи. Забавная смесь: вы сочетаете в себе прекрасные мечты и отвратительные кошмары. Вы чувствуете себя потерянными и одинокими, но это не так. И мы со временем поняли, что пустоту можно перенести, только общаясь между собой.\", \"y_predicted\": [0.962874174118042, 0.0371258482336998], \"y_true\": \"0\"}, {\"x\": \"Булгаков так описывал жене свои мучения по поводу постановки Мольера у Станиславского: — Представь себе, что на твоих глазах Сереже (сыну Елены от предыдущего брака) начинают щипцами уши завивать и уверяют, что это так и надо, что чеховской дочке тоже завивали, и что ты это полюбить должна.\", \"y_predicted\": [0.11129072308540344, 0.888709306716919], \"y_true\": \"0\"}, {\"x\": \"— Подросткам все вокруг кажется таким одинаковым, потому они пытаются бунтовать в доступных формах: поджоги, различные химические вещества, вызывающее поведение. — Думаешь, вызывающее поведение включает в себя похищение ребенка? — Это крайность. Подростки скорее будут употреблять алкоголь и слушать вызывающую музыку на самой большой громкости.\", \"y_predicted\": [0.24457469582557678, 0.7554252743721008], \"y_true\": \"0\"}, {\"x\": \"Разве любовь — это обязанность? Нет, это чувство, и чувство свободное, оно не терпит насилия над собой.\", \"y_predicted\": [0.9482553005218506, 0.05174468830227852], \"y_true\": \"0\"}, {\"x\": \"Быть несчастным. Или мотивировать себя. Все, что должно быть сделано, это всегда ваш выбор.\", \"y_predicted\": [0.9710565805435181, 0.028943492099642754], \"y_true\": \"0\"}, {\"x\": \"Забастовка — это, наверное, весело. Жизнь замирает, и город превращается в прогулочную площадку.\", \"y_predicted\": [0.43006935715675354, 0.5699306726455688], \"y_true\": \"0\"}, {\"x\": \"— Учитывая, что я никогда не был предназначен для этого мира, мне на удивление трудно покидать его. Но говорят же, что каждый атом в нашем теле был когда-то частью звезды. Так что быть может, я не улетаю, а возвращаюсь домой.\", \"y_predicted\": [0.8950701355934143, 0.1049298569560051], \"y_true\": \"0\"}, {\"x\": \"Властителю с величьем распрощаться Труднее, чем душе расстаться с телом.\", \"y_predicted\": [0.8542978167533875, 0.14570215344429016], \"y_true\": \"0\"}, {\"x\": \"Просить или отказывать гораздо легче по телефону. Когда ты не видишь лица собеседника, воображение лишается своей опоры.\", \"y_predicted\": [0.8575686812400818, 0.142431378364563], \"y_true\": \"0\"}, {\"x\": \"Но кто знает, как долго длится боль от потерь? Если 30, 40 лет спустя после смерти ребёнка, или брата, или сестры вы в полусне вспоминаете умершего близкого человека с прежней болью, ощущаете прежнюю пустоту от его потери, то невольно возникает чувство, что эта пустота никогда не заполнится, даже после вашей смерти.\", \"y_predicted\": [0.979000985622406, 0.02099907584488392], \"y_true\": \"0\"}, {\"x\": \"Он улыбнулся ей улыбкой грешника, сознающего свои грехи.\", \"y_predicted\": [0.8962225317955017, 0.10377750545740128], \"y_true\": \"0\"}, {\"x\": \"— Это Слово Божие? — Да, одно из них. — И о чём оно гласит? — Э-э... Древо? Конь? Манящий краб? Не могу прочесть. Это не предназначено для ангелов.\", \"y_predicted\": [0.6800438761711121, 0.31995606422424316], \"y_true\": \"0\"}, {\"x\": \"Деньги не самое важное в жизни. Но деньги становятся невероятно важными, если их все время не хватает.\", \"y_predicted\": [0.8009606003761292, 0.19903936982154846], \"y_true\": \"0\"}, {\"x\": \"С каждым днём, проведённым здесь, мой нос всё вытягивается.\", \"y_predicted\": [0.44575729966163635, 0.554242730140686], \"y_true\": \"0\"}, {\"x\": \"— Бэнни, за нами полиция! — Дело поправимое, Роджер! Теперь они перед нами...\", \"y_predicted\": [0.298829585313797, 0.7011704444885254], \"y_true\": \"0\"}]}}\n",
      "{\"test\": {\"eval_examples_count\": 119968, \"metrics\": {\"roc_auc\": 0.7789}, \"time_spent\": \"0:17:21\", \"examples\": [{\"x\": \"Шлифуйте и снова шлифуйте; иногда добавляйте, но чаще отбрасывайте.\", \"y_predicted\": [0.7324825525283813, 0.26751741766929626], \"y_true\": \"0\"}, {\"x\": \"Смотри своим страхам в лицо! Что желал ты получишь сполна! Смотри своим страхам в лицо! Перед ними ты в вечных долгах! Смотри своим страхам в лицо! И не вздумай взгляд отвести!\", \"y_predicted\": [0.9612188935279846, 0.03878110647201538], \"y_true\": \"0\"}, {\"x\": \"Есть у меня одна слабость — люблю иногда выпить.\", \"y_predicted\": [0.31640443205833435, 0.683595597743988], \"y_true\": \"0\"}, {\"x\": \"Никто из нас не знает, как стать счастливым, но сделать других несчастными было легко.\", \"y_predicted\": [0.8255738615989685, 0.1744261384010315], \"y_true\": \"0\"}, {\"x\": \"А ты, солнышко, звездочка яркая Андалусии, пляши! Пляши, мореночка, и говори мне именно так – глаза по-рысьи сужая – небо моё, врата рая лежат у тебя в горсти.\", \"y_predicted\": [0.9775105118751526, 0.022489475086331367], \"y_true\": \"0\"}, {\"x\": \"А ведь люди и во дворе воюют, и в квартире.\", \"y_predicted\": [0.8016553521156311, 0.1983446180820465], \"y_true\": \"0\"}, {\"x\": \"К туманным вершинам гор по прямой ближе, только если есть крылья.\", \"y_predicted\": [0.736134946346283, 0.26386505365371704], \"y_true\": \"0\"}, {\"x\": \"Я люблю свои недостатки. В том числе и те, которые связаны с моей внешностью. Меня не раздражают морщинки вокруг глаз, тонкие губы и то, что мои зубы не сверкают, как белые мундиры солдат на параде.\", \"y_predicted\": [0.6139532327651978, 0.38604676723480225], \"y_true\": \"0\"}, {\"x\": \"— К телефону. — Это не меня. — Дурно одет, зовут Саймон. — Меня.\", \"y_predicted\": [0.16327537596225739, 0.8367246389389038], \"y_true\": \"0\"}, {\"x\": \"Если это случилось, это случилось. Если нет, этого и не должно было быть.\", \"y_predicted\": [0.8909799456596375, 0.10902010649442673], \"y_true\": \"0\"}, {\"x\": \"Когда чувствуешь себя маленькой песчинкой в огромном мироздании, все твои проблемы тоже начинают ощущаться как-то меньше\", \"y_predicted\": [0.9511870741844177, 0.04881299287080765], \"y_true\": \"0\"}, {\"x\": \"Не ищите выход — ищите Бога, он подскажет как его найти!\", \"y_predicted\": [0.6365611553192139, 0.36343884468078613], \"y_true\": \"0\"}, {\"x\": \"— Все же не могут... — Чего не могут? — Веселиться, петь, плясать... Не бе-да! Да-да-да! И тому подобное...\", \"y_predicted\": [0.4603596329689026, 0.5396403670310974], \"y_true\": \"0\"}, {\"x\": \"Офцант!!! Бобрый Жалубчик! Эээ! Бьён Туш Снаже и поштовой шейкой жъёднули бы пожапообедаете мьён дрезерт жожо ба эээ!\", \"y_predicted\": [0.6190928816795349, 0.3809070885181427], \"y_true\": \"0\"}, {\"x\": \"Даже самые безукоризненные схемы, будучи воплощены в жизнь, чаще всего рождают чудовищ.\", \"y_predicted\": [0.8212816715240479, 0.17871832847595215], \"y_true\": \"0\"}, {\"x\": \"Гораздо проще видеть людей лишь с определенной стороны, превознося до небес одних и малюя черным других. Но в большинстве из нас добро и зло перемешано, как в винегрете.\", \"y_predicted\": [0.7523617744445801, 0.2476382553577423], \"y_true\": \"0\"}, {\"x\": \"Вручить Бараку Обаме Нобелевскую премию мира — это всё равно что вручить террористам 2001 года посмертную премию в области градостроительства.\", \"y_predicted\": [0.11278139054775238, 0.8872186541557312], \"y_true\": \"0\"}, {\"x\": \"В детстве я боялся монстров под кроватью. Но когда вырос, понял, что их там никогда не было. То ли дело монстры внутри нас.\", \"y_predicted\": [0.5863933563232422, 0.4136066138744354], \"y_true\": \"0\"}, {\"x\": \"В один прекрасный день я вдруг с изумлением поняла, что на улицах стало больше неприятных людей, что отели не так уютны, как прежде, а путешествия — не так увлекательны. Что города теперь безобразны, а мужчины огрубели и лишились былой привлекательности. И что война в Европе вымела все, что ещё оставалось.\", \"y_predicted\": [0.85447096824646, 0.14552898705005646], \"y_true\": \"0\"}, {\"x\": \"Актёр может великолепно сыграть свою роль, но домой он должен вернуться самим собой.\", \"y_predicted\": [0.7212746143341064, 0.27872535586357117], \"y_true\": \"0\"}, {\"x\": \"- Иди работай! — покраснев, рыкнула Вика. — Между прочим, рабочий день давно начался. И руки фу от моей собственности! — Крепостное право отменили в 1861 году, — прощебетала Шелестова у меня над ухом. — Мы с тех пор все свои собственные. Да, Харитон Юрьевич?\", \"y_predicted\": [0.0964166596531868, 0.903583288192749], \"y_true\": \"1\"}, {\"x\": \"Запомни: все, что людям интересно — у тебя в кармане.\", \"y_predicted\": [0.43898317217826843, 0.5610167980194092], \"y_true\": \"0\"}, {\"x\": \"Твои чертовы глаза! От них у меня перехватывает дыхание, И это должно убедить меня остаться. Твои чертовы глаза! Чтобы воскресить мои надежды, Заставить меня влюбляться снова! Твои чертовы глаза!\", \"y_predicted\": [0.9767155051231384, 0.023284537717700005], \"y_true\": \"0\"}, {\"x\": \"Убегать бесполезно. Главное — принять правду и идти вперед.\", \"y_predicted\": [0.8050073981285095, 0.1949925720691681], \"y_true\": \"0\"}, {\"x\": \"Все звёзды небес Исчезли теперь. Не надо бояться, Ты заметишь их, верь. Возьми, что хотел, И следуй пути. Стоп, больше не лей горьких слёз!\", \"y_predicted\": [0.9775304198265076, 0.022469598799943924], \"y_true\": \"0\"}, {\"x\": \"Искренних любят, но обманывают.\", \"y_predicted\": [0.864382803440094, 0.135617196559906], \"y_true\": \"0\"}, {\"x\": \"Она из тех, кого встречаешь, когда ещё слишком молод, и всё портишь, потому что впереди ещё целая жизнь.\", \"y_predicted\": [0.8616660237312317, 0.13833403587341309], \"y_true\": \"0\"}, {\"x\": \"Ты бьешься минутами в моем сердце и твои слова, превращенные в надежду, бегут по венам и греют меня...\", \"y_predicted\": [0.9790687561035156, 0.020931275561451912], \"y_true\": \"0\"}, {\"x\": \"– Все знают, что я умею спать не смыкая глаз. – Он боится, что у него украдут его трофеи, мой повелитель.\", \"y_predicted\": [0.4170447289943695, 0.5829552412033081], \"y_true\": \"0\"}, {\"x\": \"Вы в полной мере существуете, лишь если ваши разговоры (или тексты) невозможно с легкостью воссоздать с помощью кусков других разговоров (или текстов).\", \"y_predicted\": [0.8123809099197388, 0.18761906027793884], \"y_true\": \"0\"}, {\"x\": \"Он для меня был неоспоримым совершенством, истерзавшим мою душу. А я для него был никем.\", \"y_predicted\": [0.8384757041931152, 0.16152434051036835], \"y_true\": \"0\"}, {\"x\": \"Мои губы существуют только для клубничного молока и лучшего шоколада.\", \"y_predicted\": [0.5545400381088257, 0.4454599618911743], \"y_true\": \"0\"}]}}\n"
     ]
    },
    {
     "name": "stderr",
     "output_type": "stream",
     "text": [
      "2021-04-13 19:42:03.274 INFO in 'deeppavlov.core.models.tf_model'['tf_model'] at line 51: [loading model from /root/.deeppavlov/models/classifiers/bert_classifier_v2/model]\n"
     ]
    },
    {
     "name": "stdout",
     "output_type": "stream",
     "text": [
      "INFO:tensorflow:Restoring parameters from /root/.deeppavlov/models/classifiers/bert_classifier_v2/model\n"
     ]
    }
   ],
   "source": [
    "m = train_model(bert_config)"
   ]
  },
  {
   "cell_type": "code",
   "execution_count": 13,
   "metadata": {
    "colab": {
     "base_uri": "https://localhost:8080/",
     "height": 337,
     "referenced_widgets": [
      "0a721e6dc74740d3b74a0299e45147ba",
      "f1ba955f30214625a140c0d837014006",
      "6a962446ab61410d88af622da58e1918",
      "f36f4283286646b29a5834b721d4fb25",
      "1fa5ccdf0bcc46cb8459000e68025c0a",
      "b1668322efe34f64bc7778bfde0f2465",
      "d00b5b63b88a4328a6c6f057b282fd25",
      "b46695252176419a9c43b5d0f06f1929"
     ]
    },
    "id": "ocLhv80n8QDS",
    "outputId": "9d93a0af-6c4b-4f6d-d384-854f3bc47fba"
   },
   "outputs": [
    {
     "data": {
      "application/vnd.jupyter.widget-view+json": {
       "model_id": "0a721e6dc74740d3b74a0299e45147ba",
       "version_major": 2,
       "version_minor": 0
      },
      "text/plain": [
       "HBox(children=(FloatProgress(value=0.0, max=1874.0), HTML(value='')))"
      ]
     },
     "metadata": {
      "tags": []
     },
     "output_type": "display_data"
    },
    {
     "name": "stdout",
     "output_type": "stream",
     "text": [
      "\n",
      "F1: 0.25756\n",
      "PREC: 0.15932\n",
      "PR-AUC: 0.19143\n",
      "ROC-AUC: 0.77888\n",
      "-------------------------------------------------------\n",
      "              precision    recall  f1-score   support\n",
      "\n",
      "           0       0.97      0.74      0.84    111669\n",
      "           1       0.16      0.67      0.26      8299\n",
      "\n",
      "    accuracy                           0.73    119968\n",
      "   macro avg       0.56      0.70      0.55    119968\n",
      "weighted avg       0.91      0.73      0.80    119968\n",
      "\n",
      "-------------------------------------------------------\n"
     ]
    }
   ],
   "source": [
    "preds_proba = []\n",
    "for batch in tqdm(chunks(test_df[\"quote\"].values, 64), total=int(test_df.index.size / 64)):\n",
    "    preds_proba.append(m(batch))\n",
    "\n",
    "preds = np.concatenate(preds_proba)\n",
    "\n",
    "show_test_classification_metrics(\n",
    "    test_df.target.values, \n",
    "    (preds[:, 1] > 0.5).astype(int), \n",
    "    preds[:, 1]\n",
    ")"
   ]
  }
 ],
 "metadata": {
  "accelerator": "GPU",
  "colab": {
   "collapsed_sections": [],
   "name": "quotes_rubert.ipynb",
   "provenance": []
  },
  "kernelspec": {
   "display_name": "Python 3",
   "language": "python",
   "name": "python3"
  },
  "language_info": {
   "codemirror_mode": {
    "name": "ipython",
    "version": 3
   },
   "file_extension": ".py",
   "mimetype": "text/x-python",
   "name": "python",
   "nbconvert_exporter": "python",
   "pygments_lexer": "ipython3",
   "version": "3.6.9"
  },
  "widgets": {
   "application/vnd.jupyter.widget-state+json": {
    "0a721e6dc74740d3b74a0299e45147ba": {
     "model_module": "@jupyter-widgets/controls",
     "model_name": "HBoxModel",
     "state": {
      "_dom_classes": [],
      "_model_module": "@jupyter-widgets/controls",
      "_model_module_version": "1.5.0",
      "_model_name": "HBoxModel",
      "_view_count": null,
      "_view_module": "@jupyter-widgets/controls",
      "_view_module_version": "1.5.0",
      "_view_name": "HBoxView",
      "box_style": "",
      "children": [
       "IPY_MODEL_6a962446ab61410d88af622da58e1918",
       "IPY_MODEL_f36f4283286646b29a5834b721d4fb25"
      ],
      "layout": "IPY_MODEL_f1ba955f30214625a140c0d837014006"
     }
    },
    "1fa5ccdf0bcc46cb8459000e68025c0a": {
     "model_module": "@jupyter-widgets/controls",
     "model_name": "ProgressStyleModel",
     "state": {
      "_model_module": "@jupyter-widgets/controls",
      "_model_module_version": "1.5.0",
      "_model_name": "ProgressStyleModel",
      "_view_count": null,
      "_view_module": "@jupyter-widgets/base",
      "_view_module_version": "1.2.0",
      "_view_name": "StyleView",
      "bar_color": null,
      "description_width": "initial"
     }
    },
    "6a962446ab61410d88af622da58e1918": {
     "model_module": "@jupyter-widgets/controls",
     "model_name": "FloatProgressModel",
     "state": {
      "_dom_classes": [],
      "_model_module": "@jupyter-widgets/controls",
      "_model_module_version": "1.5.0",
      "_model_name": "FloatProgressModel",
      "_view_count": null,
      "_view_module": "@jupyter-widgets/controls",
      "_view_module_version": "1.5.0",
      "_view_name": "ProgressView",
      "bar_style": "success",
      "description": "",
      "description_tooltip": null,
      "layout": "IPY_MODEL_b1668322efe34f64bc7778bfde0f2465",
      "max": 1874,
      "min": 0,
      "orientation": "horizontal",
      "style": "IPY_MODEL_1fa5ccdf0bcc46cb8459000e68025c0a",
      "value": 1874
     }
    },
    "b1668322efe34f64bc7778bfde0f2465": {
     "model_module": "@jupyter-widgets/base",
     "model_name": "LayoutModel",
     "state": {
      "_model_module": "@jupyter-widgets/base",
      "_model_module_version": "1.2.0",
      "_model_name": "LayoutModel",
      "_view_count": null,
      "_view_module": "@jupyter-widgets/base",
      "_view_module_version": "1.2.0",
      "_view_name": "LayoutView",
      "align_content": null,
      "align_items": null,
      "align_self": null,
      "border": null,
      "bottom": null,
      "display": null,
      "flex": null,
      "flex_flow": null,
      "grid_area": null,
      "grid_auto_columns": null,
      "grid_auto_flow": null,
      "grid_auto_rows": null,
      "grid_column": null,
      "grid_gap": null,
      "grid_row": null,
      "grid_template_areas": null,
      "grid_template_columns": null,
      "grid_template_rows": null,
      "height": null,
      "justify_content": null,
      "justify_items": null,
      "left": null,
      "margin": null,
      "max_height": null,
      "max_width": null,
      "min_height": null,
      "min_width": null,
      "object_fit": null,
      "object_position": null,
      "order": null,
      "overflow": null,
      "overflow_x": null,
      "overflow_y": null,
      "padding": null,
      "right": null,
      "top": null,
      "visibility": null,
      "width": null
     }
    },
    "b46695252176419a9c43b5d0f06f1929": {
     "model_module": "@jupyter-widgets/base",
     "model_name": "LayoutModel",
     "state": {
      "_model_module": "@jupyter-widgets/base",
      "_model_module_version": "1.2.0",
      "_model_name": "LayoutModel",
      "_view_count": null,
      "_view_module": "@jupyter-widgets/base",
      "_view_module_version": "1.2.0",
      "_view_name": "LayoutView",
      "align_content": null,
      "align_items": null,
      "align_self": null,
      "border": null,
      "bottom": null,
      "display": null,
      "flex": null,
      "flex_flow": null,
      "grid_area": null,
      "grid_auto_columns": null,
      "grid_auto_flow": null,
      "grid_auto_rows": null,
      "grid_column": null,
      "grid_gap": null,
      "grid_row": null,
      "grid_template_areas": null,
      "grid_template_columns": null,
      "grid_template_rows": null,
      "height": null,
      "justify_content": null,
      "justify_items": null,
      "left": null,
      "margin": null,
      "max_height": null,
      "max_width": null,
      "min_height": null,
      "min_width": null,
      "object_fit": null,
      "object_position": null,
      "order": null,
      "overflow": null,
      "overflow_x": null,
      "overflow_y": null,
      "padding": null,
      "right": null,
      "top": null,
      "visibility": null,
      "width": null
     }
    },
    "d00b5b63b88a4328a6c6f057b282fd25": {
     "model_module": "@jupyter-widgets/controls",
     "model_name": "DescriptionStyleModel",
     "state": {
      "_model_module": "@jupyter-widgets/controls",
      "_model_module_version": "1.5.0",
      "_model_name": "DescriptionStyleModel",
      "_view_count": null,
      "_view_module": "@jupyter-widgets/base",
      "_view_module_version": "1.2.0",
      "_view_name": "StyleView",
      "description_width": ""
     }
    },
    "f1ba955f30214625a140c0d837014006": {
     "model_module": "@jupyter-widgets/base",
     "model_name": "LayoutModel",
     "state": {
      "_model_module": "@jupyter-widgets/base",
      "_model_module_version": "1.2.0",
      "_model_name": "LayoutModel",
      "_view_count": null,
      "_view_module": "@jupyter-widgets/base",
      "_view_module_version": "1.2.0",
      "_view_name": "LayoutView",
      "align_content": null,
      "align_items": null,
      "align_self": null,
      "border": null,
      "bottom": null,
      "display": null,
      "flex": null,
      "flex_flow": null,
      "grid_area": null,
      "grid_auto_columns": null,
      "grid_auto_flow": null,
      "grid_auto_rows": null,
      "grid_column": null,
      "grid_gap": null,
      "grid_row": null,
      "grid_template_areas": null,
      "grid_template_columns": null,
      "grid_template_rows": null,
      "height": null,
      "justify_content": null,
      "justify_items": null,
      "left": null,
      "margin": null,
      "max_height": null,
      "max_width": null,
      "min_height": null,
      "min_width": null,
      "object_fit": null,
      "object_position": null,
      "order": null,
      "overflow": null,
      "overflow_x": null,
      "overflow_y": null,
      "padding": null,
      "right": null,
      "top": null,
      "visibility": null,
      "width": null
     }
    },
    "f36f4283286646b29a5834b721d4fb25": {
     "model_module": "@jupyter-widgets/controls",
     "model_name": "HTMLModel",
     "state": {
      "_dom_classes": [],
      "_model_module": "@jupyter-widgets/controls",
      "_model_module_version": "1.5.0",
      "_model_name": "HTMLModel",
      "_view_count": null,
      "_view_module": "@jupyter-widgets/controls",
      "_view_module_version": "1.5.0",
      "_view_name": "HTMLView",
      "description": "",
      "description_tooltip": null,
      "layout": "IPY_MODEL_b46695252176419a9c43b5d0f06f1929",
      "placeholder": "​",
      "style": "IPY_MODEL_d00b5b63b88a4328a6c6f057b282fd25",
      "value": " 1875/? [17:38&lt;00:00,  1.77it/s]"
     }
    }
   }
  }
 },
 "nbformat": 4,
 "nbformat_minor": 4
}
