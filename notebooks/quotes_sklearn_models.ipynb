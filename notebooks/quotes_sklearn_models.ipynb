{
 "cells": [
  {
   "cell_type": "markdown",
   "metadata": {},
   "source": [
    "# Sklearn models"
   ]
  },
  {
   "cell_type": "code",
   "execution_count": 1,
   "metadata": {},
   "outputs": [],
   "source": [
    "import json\n",
    "import os\n",
    "import pickle\n",
    "import random\n",
    "import warnings\n",
    "\n",
    "import matplotlib.pyplot as plt\n",
    "\n",
    "from scipy.sparse import hstack\n",
    "from scipy.sparse.csr import csr_matrix\n",
    "from sklearn.feature_extraction.text import TfidfVectorizer\n",
    "from sklearn.linear_model import LogisticRegression\n",
    "from sklearn.model_selection import train_test_split, KFold, GridSearchCV, cross_val_score\n",
    "from sklearn.naive_bayes import BernoulliNB\n",
    "from sklearn.utils import shuffle\n",
    "from joblib import dump, load\n",
    "from xgboost import XGBClassifier\n",
    "\n",
    "from sarcsdet.configs.sklearn_models_config import *\n",
    "from sarcsdet.configs.sklearn_models_grid_search_params import *\n",
    "from sarcsdet.models.count_model_metrics import *"
   ]
  },
  {
   "cell_type": "code",
   "execution_count": 2,
   "metadata": {},
   "outputs": [],
   "source": [
    "warnings.filterwarnings('ignore')"
   ]
  },
  {
   "cell_type": "markdown",
   "metadata": {},
   "source": [
    "## Get data"
   ]
  },
  {
   "cell_type": "code",
   "execution_count": 3,
   "metadata": {},
   "outputs": [],
   "source": [
    "data_path = '../data/Quotes'"
   ]
  },
  {
   "cell_type": "code",
   "execution_count": 4,
   "metadata": {},
   "outputs": [],
   "source": [
    "with open(os.path.join(data_path, 'quotes_ling_feats.pickle'), 'rb') as f:\n",
    "    df = shuffle(pickle.load(f), random_state=8)"
   ]
  },
  {
   "cell_type": "code",
   "execution_count": 5,
   "metadata": {},
   "outputs": [],
   "source": [
    "# # percentage of the data\n",
    "# df = df.sample(frac=0.5)"
   ]
  },
  {
   "cell_type": "code",
   "execution_count": 6,
   "metadata": {},
   "outputs": [],
   "source": [
    "# # get balanced data\n",
    "# df = df.groupby(\n",
    "#     'target', group_keys=False\n",
    "# ).apply(lambda x: x.sample(n=(df.target == 1).sum())).sample(frac=1).reset_index(drop=True)"
   ]
  },
  {
   "cell_type": "code",
   "execution_count": 7,
   "metadata": {},
   "outputs": [],
   "source": [
    "# split data to train and test\n",
    "train_df, test_df = train_test_split(df, test_size=0.3, random_state=8)"
   ]
  },
  {
   "cell_type": "markdown",
   "metadata": {},
   "source": [
    "## Random"
   ]
  },
  {
   "cell_type": "code",
   "execution_count": 8,
   "metadata": {},
   "outputs": [
    {
     "name": "stdout",
     "output_type": "stream",
     "text": [
      "F1: 0.11991\n",
      "PREC: 0.068208\n",
      "PR-AUC: 0.069615\n",
      "ROC-AUC: 0.50101\n",
      "-------------------------------------------------------\n",
      "              precision    recall  f1-score   support\n",
      "\n",
      "           0       0.93      0.50      0.65    111669\n",
      "           1       0.07      0.50      0.12      8299\n",
      "\n",
      "    accuracy                           0.50    119968\n",
      "   macro avg       0.50      0.50      0.38    119968\n",
      "weighted avg       0.87      0.50      0.61    119968\n",
      "\n",
      "-------------------------------------------------------\n"
     ]
    }
   ],
   "source": [
    "y_test = test_df.target\n",
    "y_pred = [random.choice([0, 1]) for y in y_test]\n",
    "y_pred_prob = [random.random() for y in y_test]\n",
    "\n",
    "show_test_classification_metrics(y_test, y_pred, y_pred_prob)"
   ]
  },
  {
   "cell_type": "markdown",
   "metadata": {},
   "source": [
    "## Train Sklearn models"
   ]
  },
  {
   "cell_type": "code",
   "execution_count": 9,
   "metadata": {},
   "outputs": [],
   "source": [
    "result_path = '../results/quotes'"
   ]
  },
  {
   "cell_type": "code",
   "execution_count": 10,
   "metadata": {},
   "outputs": [],
   "source": [
    "unsorted_scores = []\n",
    "\n",
    "for filename in os.listdir(result_path):\n",
    "    if filename.endswith('.json'):\n",
    "        with open(os.path.join(result_path, filename)) as f:\n",
    "            unsorted_scores.append(json.loads(f.read()))"
   ]
  },
  {
   "cell_type": "code",
   "execution_count": 11,
   "metadata": {},
   "outputs": [],
   "source": [
    "scores_df = pd.io.json.json_normalize(unsorted_scores)\n",
    "scores_df.rename(columns={\n",
    "    'results.precision': 'precision', 'results.recall': 'recall', 'results.F1': 'F1', \n",
    "    'results.PR AUC': 'PR_AUC', 'results.ROC AUC': 'ROC_AUC'}, inplace=True\n",
    "    )\n",
    "scores_df.drop(columns=['seed', 'test samples'], axis=1, inplace=True)"
   ]
  },
  {
   "cell_type": "code",
   "execution_count": 12,
   "metadata": {},
   "outputs": [],
   "source": [
    "scores_df = scores_df[scores_df['recall'] > 0.5]\n",
    "scores_df = scores_df[scores_df['precision'] > 0.06]\n",
    "scores_df = scores_df[scores_df['F1'] > 0.12]\n",
    "scores_df = scores_df[scores_df['ROC_AUC'] > 0.55]"
   ]
  },
  {
   "cell_type": "code",
   "execution_count": 13,
   "metadata": {},
   "outputs": [
    {
     "data": {
      "text/html": [
       "<div>\n",
       "<style scoped>\n",
       "    .dataframe tbody tr th:only-of-type {\n",
       "        vertical-align: middle;\n",
       "    }\n",
       "\n",
       "    .dataframe tbody tr th {\n",
       "        vertical-align: top;\n",
       "    }\n",
       "\n",
       "    .dataframe thead th {\n",
       "        text-align: right;\n",
       "    }\n",
       "</style>\n",
       "<table border=\"1\" class=\"dataframe\">\n",
       "  <thead>\n",
       "    <tr style=\"text-align: right;\">\n",
       "      <th></th>\n",
       "      <th>embedding</th>\n",
       "      <th>model</th>\n",
       "      <th>extra_features</th>\n",
       "      <th>precision</th>\n",
       "      <th>recall</th>\n",
       "      <th>F1</th>\n",
       "      <th>PR_AUC</th>\n",
       "      <th>ROC_AUC</th>\n",
       "    </tr>\n",
       "  </thead>\n",
       "  <tbody>\n",
       "    <tr>\n",
       "      <th>5</th>\n",
       "      <td>TFIDF</td>\n",
       "      <td>LogisticRegression</td>\n",
       "      <td>[funny_mark, interjections, exclamation, question, quotes, dotes, rating, comments_count, source, submitted_by]</td>\n",
       "      <td>0.149250</td>\n",
       "      <td>0.546572</td>\n",
       "      <td>0.234473</td>\n",
       "      <td>0.158947</td>\n",
       "      <td>0.731090</td>\n",
       "    </tr>\n",
       "    <tr>\n",
       "      <th>14</th>\n",
       "      <td>TFIDF</td>\n",
       "      <td>LogisticRegression</td>\n",
       "      <td>[exclamation, question, quotes, dotes]</td>\n",
       "      <td>0.145792</td>\n",
       "      <td>0.517412</td>\n",
       "      <td>0.227485</td>\n",
       "      <td>0.151875</td>\n",
       "      <td>0.721882</td>\n",
       "    </tr>\n",
       "    <tr>\n",
       "      <th>44</th>\n",
       "      <td>TFIDF</td>\n",
       "      <td>LogisticRegression</td>\n",
       "      <td>[funny_mark]</td>\n",
       "      <td>0.142843</td>\n",
       "      <td>0.512953</td>\n",
       "      <td>0.223459</td>\n",
       "      <td>0.149969</td>\n",
       "      <td>0.717639</td>\n",
       "    </tr>\n",
       "    <tr>\n",
       "      <th>51</th>\n",
       "      <td>TFIDF</td>\n",
       "      <td>LogisticRegression</td>\n",
       "      <td>[]</td>\n",
       "      <td>0.142795</td>\n",
       "      <td>0.512712</td>\n",
       "      <td>0.223377</td>\n",
       "      <td>0.150001</td>\n",
       "      <td>0.717644</td>\n",
       "    </tr>\n",
       "    <tr>\n",
       "      <th>35</th>\n",
       "      <td>TFIDF</td>\n",
       "      <td>LogisticRegression</td>\n",
       "      <td>[interjections]</td>\n",
       "      <td>0.142459</td>\n",
       "      <td>0.511387</td>\n",
       "      <td>0.222841</td>\n",
       "      <td>0.150029</td>\n",
       "      <td>0.717831</td>\n",
       "    </tr>\n",
       "    <tr>\n",
       "      <th>88</th>\n",
       "      <td>Word2Vec</td>\n",
       "      <td>LogisticRegression</td>\n",
       "      <td>[]</td>\n",
       "      <td>0.140649</td>\n",
       "      <td>0.528497</td>\n",
       "      <td>0.222172</td>\n",
       "      <td>0.139955</td>\n",
       "      <td>0.714404</td>\n",
       "    </tr>\n",
       "    <tr>\n",
       "      <th>76</th>\n",
       "      <td>NatashaGlove</td>\n",
       "      <td>BernoulliNB</td>\n",
       "      <td>[funny_mark, interjections, exclamation, question, quotes, dotes, rating, comments_count, source, submitted_by]</td>\n",
       "      <td>0.123483</td>\n",
       "      <td>0.641403</td>\n",
       "      <td>0.207096</td>\n",
       "      <td>0.126188</td>\n",
       "      <td>0.698453</td>\n",
       "    </tr>\n",
       "    <tr>\n",
       "      <th>107</th>\n",
       "      <td>NatashaGlove</td>\n",
       "      <td>Perceptron</td>\n",
       "      <td>[]</td>\n",
       "      <td>0.098646</td>\n",
       "      <td>0.529341</td>\n",
       "      <td>0.166301</td>\n",
       "      <td>0.084776</td>\n",
       "      <td>0.584943</td>\n",
       "    </tr>\n",
       "    <tr>\n",
       "      <th>54</th>\n",
       "      <td>NatashaGlove</td>\n",
       "      <td>LogisticRegression</td>\n",
       "      <td>[]</td>\n",
       "      <td>0.095260</td>\n",
       "      <td>0.629353</td>\n",
       "      <td>0.165473</td>\n",
       "      <td>0.106479</td>\n",
       "      <td>0.630134</td>\n",
       "    </tr>\n",
       "    <tr>\n",
       "      <th>83</th>\n",
       "      <td>Word2Vec</td>\n",
       "      <td>Perceptron</td>\n",
       "      <td>[]</td>\n",
       "      <td>0.089873</td>\n",
       "      <td>0.743343</td>\n",
       "      <td>0.160359</td>\n",
       "      <td>0.084561</td>\n",
       "      <td>0.591952</td>\n",
       "    </tr>\n",
       "    <tr>\n",
       "      <th>57</th>\n",
       "      <td>NatashaGlove</td>\n",
       "      <td>BernoulliNB</td>\n",
       "      <td>[rating, comments_count, source, submitted_by]</td>\n",
       "      <td>0.082247</td>\n",
       "      <td>0.659959</td>\n",
       "      <td>0.146266</td>\n",
       "      <td>0.099762</td>\n",
       "      <td>0.589953</td>\n",
       "    </tr>\n",
       "    <tr>\n",
       "      <th>59</th>\n",
       "      <td>NatashaGlove</td>\n",
       "      <td>BernoulliNB</td>\n",
       "      <td>[]</td>\n",
       "      <td>0.082155</td>\n",
       "      <td>0.660321</td>\n",
       "      <td>0.146129</td>\n",
       "      <td>0.099071</td>\n",
       "      <td>0.588774</td>\n",
       "    </tr>\n",
       "    <tr>\n",
       "      <th>41</th>\n",
       "      <td>Word2Vec</td>\n",
       "      <td>BernoulliNB</td>\n",
       "      <td>[funny_mark, interjections, exclamation, question, quotes, dotes, rating, comments_count, source, submitted_by]</td>\n",
       "      <td>0.081096</td>\n",
       "      <td>0.623087</td>\n",
       "      <td>0.143513</td>\n",
       "      <td>0.097462</td>\n",
       "      <td>0.578223</td>\n",
       "    </tr>\n",
       "    <tr>\n",
       "      <th>34</th>\n",
       "      <td>Word2Vec</td>\n",
       "      <td>BernoulliNB</td>\n",
       "      <td>[rating, comments_count, source, submitted_by]</td>\n",
       "      <td>0.080752</td>\n",
       "      <td>0.622967</td>\n",
       "      <td>0.142972</td>\n",
       "      <td>0.096063</td>\n",
       "      <td>0.575754</td>\n",
       "    </tr>\n",
       "    <tr>\n",
       "      <th>99</th>\n",
       "      <td>Word2Vec</td>\n",
       "      <td>BernoulliNB</td>\n",
       "      <td>[]</td>\n",
       "      <td>0.080449</td>\n",
       "      <td>0.621762</td>\n",
       "      <td>0.142465</td>\n",
       "      <td>0.095354</td>\n",
       "      <td>0.574527</td>\n",
       "    </tr>\n",
       "  </tbody>\n",
       "</table>\n",
       "</div>"
      ],
      "text/plain": [
       "        embedding               model  \\\n",
       "5           TFIDF  LogisticRegression   \n",
       "14          TFIDF  LogisticRegression   \n",
       "44          TFIDF  LogisticRegression   \n",
       "51          TFIDF  LogisticRegression   \n",
       "35          TFIDF  LogisticRegression   \n",
       "88       Word2Vec  LogisticRegression   \n",
       "76   NatashaGlove         BernoulliNB   \n",
       "107  NatashaGlove          Perceptron   \n",
       "54   NatashaGlove  LogisticRegression   \n",
       "83       Word2Vec          Perceptron   \n",
       "57   NatashaGlove         BernoulliNB   \n",
       "59   NatashaGlove         BernoulliNB   \n",
       "41       Word2Vec         BernoulliNB   \n",
       "34       Word2Vec         BernoulliNB   \n",
       "99       Word2Vec         BernoulliNB   \n",
       "\n",
       "                                                                                                      extra_features  \\\n",
       "5    [funny_mark, interjections, exclamation, question, quotes, dotes, rating, comments_count, source, submitted_by]   \n",
       "14                                                                            [exclamation, question, quotes, dotes]   \n",
       "44                                                                                                      [funny_mark]   \n",
       "51                                                                                                                []   \n",
       "35                                                                                                   [interjections]   \n",
       "88                                                                                                                []   \n",
       "76   [funny_mark, interjections, exclamation, question, quotes, dotes, rating, comments_count, source, submitted_by]   \n",
       "107                                                                                                               []   \n",
       "54                                                                                                                []   \n",
       "83                                                                                                                []   \n",
       "57                                                                    [rating, comments_count, source, submitted_by]   \n",
       "59                                                                                                                []   \n",
       "41   [funny_mark, interjections, exclamation, question, quotes, dotes, rating, comments_count, source, submitted_by]   \n",
       "34                                                                    [rating, comments_count, source, submitted_by]   \n",
       "99                                                                                                                []   \n",
       "\n",
       "     precision    recall        F1    PR_AUC   ROC_AUC  \n",
       "5     0.149250  0.546572  0.234473  0.158947  0.731090  \n",
       "14    0.145792  0.517412  0.227485  0.151875  0.721882  \n",
       "44    0.142843  0.512953  0.223459  0.149969  0.717639  \n",
       "51    0.142795  0.512712  0.223377  0.150001  0.717644  \n",
       "35    0.142459  0.511387  0.222841  0.150029  0.717831  \n",
       "88    0.140649  0.528497  0.222172  0.139955  0.714404  \n",
       "76    0.123483  0.641403  0.207096  0.126188  0.698453  \n",
       "107   0.098646  0.529341  0.166301  0.084776  0.584943  \n",
       "54    0.095260  0.629353  0.165473  0.106479  0.630134  \n",
       "83    0.089873  0.743343  0.160359  0.084561  0.591952  \n",
       "57    0.082247  0.659959  0.146266  0.099762  0.589953  \n",
       "59    0.082155  0.660321  0.146129  0.099071  0.588774  \n",
       "41    0.081096  0.623087  0.143513  0.097462  0.578223  \n",
       "34    0.080752  0.622967  0.142972  0.096063  0.575754  \n",
       "99    0.080449  0.621762  0.142465  0.095354  0.574527  "
      ]
     },
     "execution_count": 13,
     "metadata": {},
     "output_type": "execute_result"
    }
   ],
   "source": [
    "pd.set_option('display.max_colwidth', df.shape[0] + 1)\n",
    "scores_df.sort_values(by=['precision'], ascending=False).head(15)"
   ]
  },
  {
   "cell_type": "markdown",
   "metadata": {},
   "source": [
    "## Get parameters for best Sklearn model"
   ]
  },
  {
   "cell_type": "code",
   "execution_count": 14,
   "metadata": {},
   "outputs": [],
   "source": [
    "tfidf = TfidfVectorizer(\n",
    "    ngram_range=(1, 3), \n",
    "    max_features=50000,\n",
    "    min_df=2\n",
    ")"
   ]
  },
  {
   "cell_type": "code",
   "execution_count": 15,
   "metadata": {},
   "outputs": [],
   "source": [
    "X = tfidf.fit_transform(train_df.quote_tokenized)\n",
    "y = train_df.target.values"
   ]
  },
  {
   "cell_type": "code",
   "execution_count": 16,
   "metadata": {},
   "outputs": [],
   "source": [
    "current_extra_features = [\n",
    "    'funny_mark', 'interjections', \n",
    "    'exclamation', 'question', 'quotes', 'dotes',\n",
    "    'rating', 'comments_count', 'source',  'submitted_by'\n",
    "]\n",
    "\n",
    "extra_features_data = csr_matrix(train_df[current_extra_features].values.astype(np.float))\n",
    "X = hstack([X, extra_features_data], format='csr')"
   ]
  },
  {
   "cell_type": "code",
   "execution_count": 17,
   "metadata": {},
   "outputs": [],
   "source": [
    "cv = KFold(n_splits=5, shuffle=True)"
   ]
  },
  {
   "cell_type": "code",
   "execution_count": 18,
   "metadata": {},
   "outputs": [],
   "source": [
    "clf = LogisticRegression(**default_logit_params_rus)  # --> lr_grid\n",
    "# clf = XGBClassifier(**default_xgb_params_rus)  # --> xgb_grid\n",
    "# clf = BernoulliNB(**default_bayes_params_rus)  # --> nb_grid"
   ]
  },
  {
   "cell_type": "code",
   "execution_count": 19,
   "metadata": {},
   "outputs": [],
   "source": [
    "scoring = {\n",
    "    'custom': make_scorer(custom_scorer),\n",
    "    'PREC': 'precision',\n",
    "    'PR_AUC': 'average_precision',\n",
    "    'AUC': 'roc_auc',  \n",
    "    'F1': 'f1_weighted'\n",
    "}"
   ]
  },
  {
   "cell_type": "code",
   "execution_count": 20,
   "metadata": {},
   "outputs": [],
   "source": [
    "gs = GridSearchCV(\n",
    "    clf, lr_grid, \n",
    "    scoring=scoring, cv=cv, \n",
    "    refit='custom',\n",
    "    verbose=10, n_jobs=6\n",
    ")"
   ]
  },
  {
   "cell_type": "code",
   "execution_count": 21,
   "metadata": {},
   "outputs": [
    {
     "name": "stdout",
     "output_type": "stream",
     "text": [
      "Fitting 5 folds for each of 49 candidates, totalling 245 fits\n"
     ]
    }
   ],
   "source": [
    "search = gs.fit(X, y)"
   ]
  },
  {
   "cell_type": "code",
   "execution_count": 22,
   "metadata": {},
   "outputs": [
    {
     "data": {
      "text/plain": [
       "LogisticRegression(C=0.1, class_weight='balanced', multi_class='ovr', n_jobs=-2,\n",
       "                   solver='newton-cg')"
      ]
     },
     "execution_count": 22,
     "metadata": {},
     "output_type": "execute_result"
    }
   ],
   "source": [
    "best_estimator = gs.best_estimator_\n",
    "best_estimator"
   ]
  },
  {
   "cell_type": "code",
   "execution_count": 23,
   "metadata": {},
   "outputs": [
    {
     "data": {
      "application/vnd.jupyter.widget-view+json": {
       "model_id": "ddcb7732c4de493fac440ffd7f368c3f",
       "version_major": 2,
       "version_minor": 0
      },
      "text/plain": [
       "HBox(children=(FloatProgress(value=0.0, max=5.0), HTML(value='')))"
      ]
     },
     "metadata": {},
     "output_type": "display_data"
    },
    {
     "name": "stdout",
     "output_type": "stream",
     "text": [
      "\n",
      "F1: 0.23093\n",
      "ROC-AUC: 0.73831\n",
      "ACCURACY: 0.71127\n",
      "PR-AUC: 0.15689\n"
     ]
    }
   ],
   "source": [
    "get_best_model_metrics(X, y, cv, best_estimator)"
   ]
  },
  {
   "cell_type": "code",
   "execution_count": 24,
   "metadata": {},
   "outputs": [
    {
     "name": "stdout",
     "output_type": "stream",
     "text": [
      "F1: 0.23328\n",
      "PREC: 0.14339\n",
      "PR-AUC: 0.15659\n",
      "ROC-AUC: 0.7391\n",
      "-------------------------------------------------------\n",
      "              precision    recall  f1-score   support\n",
      "\n",
      "           0       0.96      0.72      0.83    111669\n",
      "           1       0.14      0.63      0.23      8299\n",
      "\n",
      "    accuracy                           0.72    119968\n",
      "   macro avg       0.55      0.67      0.53    119968\n",
      "weighted avg       0.91      0.72      0.78    119968\n",
      "\n",
      "-------------------------------------------------------\n"
     ]
    },
    {
     "data": {
      "image/png": "[encoded data removed]",
      "text/plain": [
       "<Figure size 1080x360 with 2 Axes>"
      ]
     },
     "metadata": {
      "needs_background": "light"
     },
     "output_type": "display_data"
    }
   ],
   "source": [
    "X_test = tfidf.transform(test_df.quote_tokenized)\n",
    "\n",
    "test_extra_features_data = csr_matrix(test_df[current_extra_features].values.astype(np.float))\n",
    "X_test = hstack([X_test, test_extra_features_data], format='csr')\n",
    "\n",
    "\n",
    "probas = best_estimator.predict_proba(X_test)\n",
    "show_test_classification_metrics(\n",
    "    test_df.target.values, \n",
    "    best_estimator.predict(X_test), \n",
    "    probas[:, 1], \n",
    "    X_test, \n",
    "    best_estimator,\n",
    "    probas,\n",
    ")"
   ]
  },
  {
   "cell_type": "code",
   "execution_count": 25,
   "metadata": {},
   "outputs": [
    {
     "data": {
      "text/plain": [
       "['../data/Models/quotes/tfidf.joblib']"
      ]
     },
     "execution_count": 25,
     "metadata": {},
     "output_type": "execute_result"
    }
   ],
   "source": [
    "dump(tfidf, '../data/Models/quotes/tfidf.joblib')"
   ]
  },
  {
   "cell_type": "code",
   "execution_count": 26,
   "metadata": {},
   "outputs": [
    {
     "data": {
      "text/plain": [
       "['../data/Models/quotes/LogisticRegression.joblib']"
      ]
     },
     "execution_count": 26,
     "metadata": {},
     "output_type": "execute_result"
    }
   ],
   "source": [
    "dump(best_estimator, '../data/Models/quotes/LogisticRegression.joblib')"
   ]
  }
 ],
 "metadata": {
  "kernelspec": {
   "display_name": "Python 3",
   "language": "python",
   "name": "python3"
  },
  "language_info": {
   "codemirror_mode": {
    "name": "ipython",
    "version": 3
   },
   "file_extension": ".py",
   "mimetype": "text/x-python",
   "name": "python",
   "nbconvert_exporter": "python",
   "pygments_lexer": "ipython3",
   "version": "3.6.9"
  }
 },
 "nbformat": 4,
 "nbformat_minor": 4
}
