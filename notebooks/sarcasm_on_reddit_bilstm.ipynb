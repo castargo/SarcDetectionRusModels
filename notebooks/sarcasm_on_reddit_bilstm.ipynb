{
 "cells": [
  {
   "cell_type": "markdown",
   "metadata": {},
   "source": [
    "## BiLSTM for Sarcasm on Reddit"
   ]
  },
  {
   "cell_type": "code",
   "execution_count": 1,
   "metadata": {},
   "outputs": [],
   "source": [
    "import json\n",
    "import os\n",
    "import pandas as pd"
   ]
  },
  {
   "cell_type": "markdown",
   "metadata": {},
   "source": [
    "### Results"
   ]
  },
  {
   "cell_type": "code",
   "execution_count": 2,
   "metadata": {},
   "outputs": [],
   "source": [
    "result_path = '../results/reddit/bilstm'"
   ]
  },
  {
   "cell_type": "code",
   "execution_count": 3,
   "metadata": {},
   "outputs": [],
   "source": [
    "unsorted_scores = []\n",
    "\n",
    "for filename in os.listdir(result_path):\n",
    "    if filename.endswith('.json'):\n",
    "        with open(os.path.join(result_path, filename)) as f:\n",
    "            unsorted_scores.append(json.loads(f.read()))"
   ]
  },
  {
   "cell_type": "code",
   "execution_count": 4,
   "metadata": {},
   "outputs": [],
   "source": [
    "scores_df = pd.io.json.json_normalize(unsorted_scores)\n",
    "scores_df.rename(columns={\n",
    "    'results.precision': 'precision', 'results.recall': 'recall', 'results.F1': 'F1', \n",
    "    'results.PR AUC': 'PR_AUC', 'results.ROC AUC': 'ROC_AUC'}, inplace=True\n",
    "    )\n",
    "scores_df.drop(columns=['seed', 'test samples', 'extra_features'], axis=1, inplace=True)"
   ]
  },
  {
   "cell_type": "code",
   "execution_count": 5,
   "metadata": {},
   "outputs": [
    {
     "data": {
      "text/html": [
       "<div>\n",
       "<style scoped>\n",
       "    .dataframe tbody tr th:only-of-type {\n",
       "        vertical-align: middle;\n",
       "    }\n",
       "\n",
       "    .dataframe tbody tr th {\n",
       "        vertical-align: top;\n",
       "    }\n",
       "\n",
       "    .dataframe thead th {\n",
       "        text-align: right;\n",
       "    }\n",
       "</style>\n",
       "<table border=\"1\" class=\"dataframe\">\n",
       "  <thead>\n",
       "    <tr style=\"text-align: right;\">\n",
       "      <th></th>\n",
       "      <th>embedding</th>\n",
       "      <th>model</th>\n",
       "      <th>precision</th>\n",
       "      <th>recall</th>\n",
       "      <th>F1</th>\n",
       "      <th>PR_AUC</th>\n",
       "      <th>ROC_AUC</th>\n",
       "    </tr>\n",
       "  </thead>\n",
       "  <tbody>\n",
       "    <tr>\n",
       "      <th>0</th>\n",
       "      <td>NatashaGlove</td>\n",
       "      <td>BiLSTM</td>\n",
       "      <td>0.751033</td>\n",
       "      <td>0.691118</td>\n",
       "      <td>0.733239</td>\n",
       "      <td>0.821083</td>\n",
       "      <td>0.788181</td>\n",
       "    </tr>\n",
       "    <tr>\n",
       "      <th>1</th>\n",
       "      <td>Word2Vec</td>\n",
       "      <td>BiLSTM</td>\n",
       "      <td>0.749253</td>\n",
       "      <td>0.686477</td>\n",
       "      <td>0.724397</td>\n",
       "      <td>0.801421</td>\n",
       "      <td>0.785095</td>\n",
       "    </tr>\n",
       "  </tbody>\n",
       "</table>\n",
       "</div>"
      ],
      "text/plain": [
       "      embedding   model  precision    recall        F1    PR_AUC   ROC_AUC\n",
       "0  NatashaGlove  BiLSTM  0.751033   0.691118  0.733239  0.821083  0.788181\n",
       "1  Word2Vec      BiLSTM  0.749253   0.686477  0.724397  0.801421  0.785095"
      ]
     },
     "execution_count": 5,
     "metadata": {},
     "output_type": "execute_result"
    }
   ],
   "source": [
    "pd.set_option('display.max_colwidth', scores_df.shape[0] + 1)\n",
    "scores_df.sort_values(by=['ROC_AUC'], ascending=False)"
   ]
  }
 ],
 "metadata": {
  "kernelspec": {
   "display_name": "Python 3",
   "language": "python",
   "name": "python3"
  },
  "language_info": {
   "codemirror_mode": {
    "name": "ipython",
    "version": 3
   },
   "file_extension": ".py",
   "mimetype": "text/x-python",
   "name": "python",
   "nbconvert_exporter": "python",
   "pygments_lexer": "ipython3",
   "version": "3.6.9"
  }
 },
 "nbformat": 4,
 "nbformat_minor": 4
}
