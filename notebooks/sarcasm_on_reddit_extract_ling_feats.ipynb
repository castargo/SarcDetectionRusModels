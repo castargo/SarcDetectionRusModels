{
 "cells": [
  {
   "cell_type": "markdown",
   "metadata": {},
   "source": [
    "# Extract linguistic features"
   ]
  },
  {
   "cell_type": "code",
   "execution_count": 1,
   "metadata": {},
   "outputs": [],
   "source": [
    "import os\n",
    "import pickle\n",
    "\n",
    "import numpy as np\n",
    "import pandas as pd\n",
    "import seaborn as sns\n",
    "\n",
    "from matplotlib import pyplot as plt\n",
    "from sklearn.utils import shuffle\n",
    "\n",
    "from sarcsdet.utils.mark_ling_feat import (\n",
    "    funny_marks_feature, interjections_feature, get_popular_items\n",
    ")"
   ]
  },
  {
   "cell_type": "markdown",
   "metadata": {},
   "source": [
    "### Get data"
   ]
  },
  {
   "cell_type": "code",
   "execution_count": 2,
   "metadata": {},
   "outputs": [],
   "source": [
    "data_path = '../data/Sarcasm_on_Reddit'"
   ]
  },
  {
   "cell_type": "code",
   "execution_count": 3,
   "metadata": {},
   "outputs": [],
   "source": [
    "df = pd.read_pickle(os.path.join(data_path, 'rus-train-balanced-sarcasm.pkl'))"
   ]
  },
  {
   "cell_type": "markdown",
   "metadata": {},
   "source": [
    "### Column selection"
   ]
  },
  {
   "cell_type": "code",
   "execution_count": 4,
   "metadata": {},
   "outputs": [],
   "source": [
    "df['rus_comment'] = pd.Series(df['rus_comment'], dtype='str')\n",
    "df['rus_parent_comment'] = pd.Series(df['rus_parent_comment'], dtype='str')\n",
    "\n",
    "df['label'] = pd.Series(df['label'], dtype='int')\n",
    "\n",
    "df['score'] = pd.Series(df['score'], dtype='int')\n",
    "df['ups'] = pd.Series(df['ups'], dtype='int')\n",
    "df['downs'] = pd.Series(df['downs'], dtype='int')\n",
    "\n",
    "df['author'] = pd.Series(df['author'], dtype='category')\n",
    "df['author'] = pd.factorize(df['author'])[0] + 1\n",
    "\n",
    "df['subreddit'] = pd.Series(df['subreddit'], dtype='category')\n",
    "df['subreddit'] = pd.factorize(df['subreddit'])[0] + 1"
   ]
  },
  {
   "cell_type": "markdown",
   "metadata": {},
   "source": [
    "### Add Linguistic Features"
   ]
  },
  {
   "cell_type": "code",
   "execution_count": 5,
   "metadata": {},
   "outputs": [],
   "source": [
    "df['exclamation'] = df.rus_comment.apply(lambda s: s.count('!'))\n",
    "df['question'] = df.rus_comment.apply(lambda s: s.count('?'))\n",
    "df['dotes'] = df.rus_comment.apply(lambda s: s.count('...'))\n",
    "df['quotes'] = df.rus_comment.apply(lambda s: s.count(\"\\\"\") + s.count(\"\\'\"))"
   ]
  },
  {
   "cell_type": "code",
   "execution_count": 6,
   "metadata": {},
   "outputs": [],
   "source": [
    "df['funny_mark'] = df.rus_comment.apply(funny_marks_feature)"
   ]
  },
  {
   "cell_type": "code",
   "execution_count": 7,
   "metadata": {},
   "outputs": [],
   "source": [
    "df['interjections'] = df.rus_comment.apply(interjections_feature)"
   ]
  },
  {
   "cell_type": "code",
   "execution_count": 8,
   "metadata": {},
   "outputs": [
    {
     "data": {
      "text/html": [
       "<div>\n",
       "<style scoped>\n",
       "    .dataframe tbody tr th:only-of-type {\n",
       "        vertical-align: middle;\n",
       "    }\n",
       "\n",
       "    .dataframe tbody tr th {\n",
       "        vertical-align: top;\n",
       "    }\n",
       "\n",
       "    .dataframe thead th {\n",
       "        text-align: right;\n",
       "    }\n",
       "</style>\n",
       "<table border=\"1\" class=\"dataframe\">\n",
       "  <thead>\n",
       "    <tr style=\"text-align: right;\">\n",
       "      <th></th>\n",
       "      <th>label</th>\n",
       "      <th>comment</th>\n",
       "      <th>author</th>\n",
       "      <th>subreddit</th>\n",
       "      <th>score</th>\n",
       "      <th>ups</th>\n",
       "      <th>downs</th>\n",
       "      <th>date</th>\n",
       "      <th>created_utc</th>\n",
       "      <th>parent_comment</th>\n",
       "      <th>rus_comment</th>\n",
       "      <th>rus_parent_comment</th>\n",
       "      <th>exclamation</th>\n",
       "      <th>question</th>\n",
       "      <th>dotes</th>\n",
       "      <th>quotes</th>\n",
       "      <th>funny_mark</th>\n",
       "      <th>interjections</th>\n",
       "    </tr>\n",
       "  </thead>\n",
       "  <tbody>\n",
       "    <tr>\n",
       "      <th>0</th>\n",
       "      <td>0</td>\n",
       "      <td>You do know west teams play against west teams...</td>\n",
       "      <td>1</td>\n",
       "      <td>1</td>\n",
       "      <td>-4</td>\n",
       "      <td>-1</td>\n",
       "      <td>-1</td>\n",
       "      <td>2016-11</td>\n",
       "      <td>2016-11-01 00:24:10</td>\n",
       "      <td>The blazers and Mavericks (The wests 5 and 6 s...</td>\n",
       "      <td>Вы ведь знаете, что западные команды играют пр...</td>\n",
       "      <td>Блейзеры и (5-е и 6-е место на Западе) даже не...</td>\n",
       "      <td>0</td>\n",
       "      <td>1</td>\n",
       "      <td>0</td>\n",
       "      <td>0</td>\n",
       "      <td>0</td>\n",
       "      <td>0</td>\n",
       "    </tr>\n",
       "    <tr>\n",
       "      <th>1</th>\n",
       "      <td>0</td>\n",
       "      <td>They were underdogs earlier today, but since G...</td>\n",
       "      <td>2</td>\n",
       "      <td>2</td>\n",
       "      <td>3</td>\n",
       "      <td>3</td>\n",
       "      <td>0</td>\n",
       "      <td>2016-09</td>\n",
       "      <td>2016-09-22 21:45:37</td>\n",
       "      <td>They're favored to win.</td>\n",
       "      <td>Раньше они были аутсайдерами, но после того, к...</td>\n",
       "      <td>Они хотят побеждать.</td>\n",
       "      <td>0</td>\n",
       "      <td>0</td>\n",
       "      <td>0</td>\n",
       "      <td>0</td>\n",
       "      <td>0</td>\n",
       "      <td>0</td>\n",
       "    </tr>\n",
       "    <tr>\n",
       "      <th>2</th>\n",
       "      <td>0</td>\n",
       "      <td>This meme isn't funny none of the \"new york ni...</td>\n",
       "      <td>3</td>\n",
       "      <td>3</td>\n",
       "      <td>-8</td>\n",
       "      <td>-1</td>\n",
       "      <td>-1</td>\n",
       "      <td>2016-10</td>\n",
       "      <td>2016-10-18 21:03:47</td>\n",
       "      <td>deadass don't kill my buzz</td>\n",
       "      <td>Этот мем не смешной, как и ниггер из Нью-Йорка.</td>\n",
       "      <td>ублюдок, не убивай мой кайф</td>\n",
       "      <td>0</td>\n",
       "      <td>0</td>\n",
       "      <td>0</td>\n",
       "      <td>0</td>\n",
       "      <td>0</td>\n",
       "      <td>0</td>\n",
       "    </tr>\n",
       "    <tr>\n",
       "      <th>3</th>\n",
       "      <td>0</td>\n",
       "      <td>I could use one of those tools.</td>\n",
       "      <td>4</td>\n",
       "      <td>4</td>\n",
       "      <td>6</td>\n",
       "      <td>-1</td>\n",
       "      <td>-1</td>\n",
       "      <td>2016-12</td>\n",
       "      <td>2016-12-30 17:00:13</td>\n",
       "      <td>Yep can confirm I saw the tool they use for th...</td>\n",
       "      <td>Я мог бы использовать один из этих инструментов.</td>\n",
       "      <td>Да, могу подтвердить, что видел инструмент, ко...</td>\n",
       "      <td>0</td>\n",
       "      <td>0</td>\n",
       "      <td>0</td>\n",
       "      <td>0</td>\n",
       "      <td>0</td>\n",
       "      <td>0</td>\n",
       "    </tr>\n",
       "    <tr>\n",
       "      <th>4</th>\n",
       "      <td>0</td>\n",
       "      <td>I don't pay attention to her, but as long as s...</td>\n",
       "      <td>5</td>\n",
       "      <td>5</td>\n",
       "      <td>0</td>\n",
       "      <td>0</td>\n",
       "      <td>0</td>\n",
       "      <td>2016-09</td>\n",
       "      <td>2016-09-02 10:35:08</td>\n",
       "      <td>do you find ariana grande sexy ?</td>\n",
       "      <td>Я не обращаю на нее внимания, но пока она зако...</td>\n",
       "      <td>ты находишь Ариану Гранде сексуальной?</td>\n",
       "      <td>0</td>\n",
       "      <td>0</td>\n",
       "      <td>0</td>\n",
       "      <td>0</td>\n",
       "      <td>0</td>\n",
       "      <td>0</td>\n",
       "    </tr>\n",
       "  </tbody>\n",
       "</table>\n",
       "</div>"
      ],
      "text/plain": [
       "   label                                            comment  author  \\\n",
       "0      0  You do know west teams play against west teams...       1   \n",
       "1      0  They were underdogs earlier today, but since G...       2   \n",
       "2      0  This meme isn't funny none of the \"new york ni...       3   \n",
       "3      0                    I could use one of those tools.       4   \n",
       "4      0  I don't pay attention to her, but as long as s...       5   \n",
       "\n",
       "   subreddit  score  ups  downs     date          created_utc  \\\n",
       "0          1     -4   -1     -1  2016-11  2016-11-01 00:24:10   \n",
       "1          2      3    3      0  2016-09  2016-09-22 21:45:37   \n",
       "2          3     -8   -1     -1  2016-10  2016-10-18 21:03:47   \n",
       "3          4      6   -1     -1  2016-12  2016-12-30 17:00:13   \n",
       "4          5      0    0      0  2016-09  2016-09-02 10:35:08   \n",
       "\n",
       "                                      parent_comment  \\\n",
       "0  The blazers and Mavericks (The wests 5 and 6 s...   \n",
       "1                            They're favored to win.   \n",
       "2                         deadass don't kill my buzz   \n",
       "3  Yep can confirm I saw the tool they use for th...   \n",
       "4                   do you find ariana grande sexy ?   \n",
       "\n",
       "                                         rus_comment  \\\n",
       "0  Вы ведь знаете, что западные команды играют пр...   \n",
       "1  Раньше они были аутсайдерами, но после того, к...   \n",
       "2    Этот мем не смешной, как и ниггер из Нью-Йорка.   \n",
       "3   Я мог бы использовать один из этих инструментов.   \n",
       "4  Я не обращаю на нее внимания, но пока она зако...   \n",
       "\n",
       "                                  rus_parent_comment  exclamation  question  \\\n",
       "0  Блейзеры и (5-е и 6-е место на Западе) даже не...            0         1   \n",
       "1                               Они хотят побеждать.            0         0   \n",
       "2                        ублюдок, не убивай мой кайф            0         0   \n",
       "3  Да, могу подтвердить, что видел инструмент, ко...            0         0   \n",
       "4             ты находишь Ариану Гранде сексуальной?            0         0   \n",
       "\n",
       "   dotes  quotes  funny_mark  interjections  \n",
       "0      0       0           0              0  \n",
       "1      0       0           0              0  \n",
       "2      0       0           0              0  \n",
       "3      0       0           0              0  \n",
       "4      0       0           0              0  "
      ]
     },
     "execution_count": 8,
     "metadata": {},
     "output_type": "execute_result"
    }
   ],
   "source": [
    "df.head()"
   ]
  },
  {
   "cell_type": "markdown",
   "metadata": {},
   "source": [
    "### Choose Features"
   ]
  },
  {
   "cell_type": "code",
   "execution_count": 9,
   "metadata": {},
   "outputs": [],
   "source": [
    "dft = df[[\n",
    "    'label', 'author', 'subreddit', 'score', 'ups', 'downs', \n",
    "    'exclamation', 'question', 'quotes', 'dotes', 'funny_mark', 'interjections'\n",
    "]]"
   ]
  },
  {
   "cell_type": "code",
   "execution_count": 10,
   "metadata": {},
   "outputs": [
    {
     "data": {
      "image/png": "[encoded data removed]",
      "text/plain": [
       "<Figure size 504x360 with 2 Axes>"
      ]
     },
     "metadata": {
      "needs_background": "light"
     },
     "output_type": "display_data"
    }
   ],
   "source": [
    "plt.figure(figsize=(7, 5))\n",
    "cor = dft.corr()\n",
    "sns.heatmap(cor, cmap=plt.cm.Reds)\n",
    "plt.show()"
   ]
  },
  {
   "cell_type": "markdown",
   "metadata": {},
   "source": [
    "### Remove highly correlated features"
   ]
  },
  {
   "cell_type": "code",
   "execution_count": 11,
   "metadata": {},
   "outputs": [],
   "source": [
    "corr_matrix = df.corr().abs()\n",
    "upper = corr_matrix.where(np.triu(np.ones(corr_matrix.shape), k=1).astype(np.bool))\n",
    "to_drop = [column for column in upper.columns if any(upper[column] > 0.3)]\n",
    "df.drop(to_drop, axis=1, inplace=True)"
   ]
  },
  {
   "cell_type": "markdown",
   "metadata": {},
   "source": [
    "### Save dataset"
   ]
  },
  {
   "cell_type": "code",
   "execution_count": 12,
   "metadata": {},
   "outputs": [],
   "source": [
    "df.to_pickle(os.path.join(data_path, 'rus-train-balanced-sarcasm-ling_feat.pkl'))"
   ]
  }
 ],
 "metadata": {
  "kernelspec": {
   "display_name": "Python 3",
   "language": "python",
   "name": "python3"
  },
  "language_info": {
   "codemirror_mode": {
    "name": "ipython",
    "version": 3
   },
   "file_extension": ".py",
   "mimetype": "text/x-python",
   "name": "python",
   "nbconvert_exporter": "python",
   "pygments_lexer": "ipython3",
   "version": "3.6.9"
  }
 },
 "nbformat": 4,
 "nbformat_minor": 4
}
