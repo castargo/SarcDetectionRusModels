{
 "cells": [
  {
   "cell_type": "markdown",
   "metadata": {
    "id": "2zryfXsLIy5K"
   },
   "source": [
    "# Google Colab Init"
   ]
  },
  {
   "cell_type": "code",
   "execution_count": 1,
   "metadata": {
    "colab": {
     "base_uri": "https://localhost:8080/"
    },
    "id": "g0WcdKV8IYZJ",
    "outputId": "8ece52fc-07c8-4c2e-fdb4-73131ba3ee38"
   },
   "outputs": [
    {
     "name": "stdout",
     "output_type": "stream",
     "text": [
      "Drive already mounted at /content/drive; to attempt to forcibly remount, call drive.mount(\"/content/drive\", force_remount=True).\n"
     ]
    }
   ],
   "source": [
    "from google.colab import drive\n",
    "drive.mount('/content/drive')"
   ]
  },
  {
   "cell_type": "code",
   "execution_count": null,
   "metadata": {
    "id": "VmQnw4j9ItAP"
   },
   "outputs": [],
   "source": [
    "# !pip install transformers==2.8.0 \n",
    "# !pip install deeppavlov\n",
    "\n",
    "# !pip uninstall -y tensorflow tensorflow-gpu\n",
    "# !pip install tensorflow-gpu==1.15.2\n",
    "\n",
    "# !python -m deeppavlov install squad_bert\n",
    "\n",
    "# !pip uninstall -y scikit-learn\n",
    "# !pip install scikit-learn\n",
    "\n",
    "# !pip install pandas"
   ]
  },
  {
   "cell_type": "markdown",
   "metadata": {
    "id": "rIUJWPJPI3iJ"
   },
   "source": [
    "# RuBert DeepPavlov"
   ]
  },
  {
   "cell_type": "code",
   "execution_count": 2,
   "metadata": {
    "colab": {
     "base_uri": "https://localhost:8080/"
    },
    "id": "LtCq92DkHtq-",
    "outputId": "4182a772-eafd-4092-f244-2cfc4d5d9f44"
   },
   "outputs": [
    {
     "name": "stderr",
     "output_type": "stream",
     "text": [
      "[nltk_data] Downloading package punkt to /root/nltk_data...\n",
      "[nltk_data]   Package punkt is already up-to-date!\n",
      "[nltk_data] Downloading package stopwords to /root/nltk_data...\n",
      "[nltk_data]   Package stopwords is already up-to-date!\n",
      "[nltk_data] Downloading package perluniprops to /root/nltk_data...\n",
      "[nltk_data]   Package perluniprops is already up-to-date!\n",
      "[nltk_data] Downloading package nonbreaking_prefixes to\n",
      "[nltk_data]     /root/nltk_data...\n",
      "[nltk_data]   Package nonbreaking_prefixes is already up-to-date!\n"
     ]
    }
   ],
   "source": [
    "import os\n",
    "import pickle\n",
    "import warnings\n",
    "import numpy as np\n",
    "import matplotlib.pyplot as plt\n",
    "import pandas as pd\n",
    "from deeppavlov.core.common.file import read_json\n",
    "from deeppavlov import build_model, configs, train_model\n",
    "from deeppavlov.models.torch_bert.torch_transformers_classifier import TorchTransformersClassifierModel\n",
    "from deeppavlov.models.preprocessors.torch_transformers_preprocessor import TorchTransformersPreprocessor\n",
    "from sklearn.metrics import (f1_score, precision_score, average_precision_score, roc_auc_score,\n",
    "                             classification_report, plot_roc_curve, accuracy_score, make_scorer,\n",
    "                             plot_precision_recall_curve, precision_recall_curve, recall_score)\n",
    "from sklearn.model_selection import train_test_split\n",
    "from sklearn.utils import shuffle\n",
    "from tqdm.auto import tqdm"
   ]
  },
  {
   "cell_type": "code",
   "execution_count": 3,
   "metadata": {
    "id": "uVlusDL3HtrC"
   },
   "outputs": [],
   "source": [
    "warnings.filterwarnings('ignore')"
   ]
  },
  {
   "cell_type": "markdown",
   "metadata": {
    "id": "sDTFpZkX-dRM"
   },
   "source": [
    "## Get data"
   ]
  },
  {
   "cell_type": "code",
   "execution_count": 4,
   "metadata": {
    "id": "ATVSP0gHHtrF"
   },
   "outputs": [],
   "source": [
    "data_path = '/content/drive/MyDrive/SarcasmDetection/data/Quotes'\n",
    "dataname = 'rus-train-balanced-sarcasm-ling_feat.pkl'\n",
    "\n",
    "with open(os.path.join(data_path, dataname), 'rb') as f:\n",
    "    df = shuffle(pickle.load(f), random_state=8)"
   ]
  },
  {
   "cell_type": "code",
   "execution_count": 5,
   "metadata": {
    "id": "iMEBR4LDHtrG"
   },
   "outputs": [],
   "source": [
    "train_df, test_df = train_test_split(df, test_size=0.3, random_state=8)\n",
    "train_df, valid_df = train_test_split(train_df, test_size=0.1, random_state=8)"
   ]
  },
  {
   "cell_type": "code",
   "execution_count": 6,
   "metadata": {
    "id": "GxvLCbrsg1Pu"
   },
   "outputs": [],
   "source": [
    "train_df = train_df.groupby(\n",
    "    'label', group_keys=False\n",
    ").apply(lambda x: x.sample(n=(train_df.label == 0).sum())).sample(frac=1).reset_index(drop=True)"
   ]
  },
  {
   "cell_type": "code",
   "execution_count": 7,
   "metadata": {
    "id": "Y0GR7NfqXcIF"
   },
   "outputs": [],
   "source": [
    "train_df[['rus_comment', 'label']].to_csv('train.csv', index=False)\n",
    "valid_df[['rus_comment', 'label']].to_csv('valid.csv', index=False)\n",
    "test_df[['rus_comment', 'label']].to_csv('test.csv', index=False)"
   ]
  },
  {
   "cell_type": "markdown",
   "metadata": {
    "id": "6QZsj_pV-dRO"
   },
   "source": [
    "## RuBert"
   ]
  },
  {
   "cell_type": "code",
   "execution_count": 8,
   "metadata": {
    "id": "QHeOIIOHHtrH"
   },
   "outputs": [],
   "source": [
    "def chunks(list_like, n):\n",
    "    for i in range(0, len(list_like), n):\n",
    "        yield list_like[i:i + n]"
   ]
  },
  {
   "cell_type": "code",
   "execution_count": 9,
   "metadata": {
    "id": "NKjHXmmr8uOd"
   },
   "outputs": [],
   "source": [
    "def show_test_classification_metrics(y_test, y_pred, y_pred_prob, X_test=None, classifier=None):\n",
    "    print(f\"F1: {f1_score(y_test, y_pred):.5}\")\n",
    "    print(f\"PREC: {precision_score(y_test, y_pred):.5}\")\n",
    "    print(f\"PR-AUC: {average_precision_score(y_test, y_pred_prob):.5}\")\n",
    "    print(f\"ROC-AUC: {roc_auc_score(y_test, y_pred_prob):.5}\")\n",
    "    print('-------------------------------------------------------')\n",
    "    print(classification_report(y_test, y_pred, labels=[0, 1]))\n",
    "    print('-------------------------------------------------------')\n",
    "    if classifier:\n",
    "        fig, ax = plt.subplots(1, 2, figsize=(15, 5))\n",
    "        ax[0].set_title('Precision-Recall curve')\n",
    "        plot_precision_recall_curve(classifier, X_test, y_test, ax=ax[0])\n",
    "        ax[1].set_title('ROC-AUC curve')\n",
    "        plot_roc_curve(classifier, X_test, y_test, ax=ax[1])\n",
    "        plt.show()\n",
    "        "
   ]
  },
  {
   "cell_type": "code",
   "execution_count": 10,
   "metadata": {
    "colab": {
     "base_uri": "https://localhost:8080/"
    },
    "collapsed": true,
    "id": "-AgJR3vJn2UD",
    "jupyter": {
     "outputs_hidden": true
    },
    "outputId": "79b61f44-2e2c-4f26-a9d0-618ab281d082"
   },
   "outputs": [
    {
     "name": "stdout",
     "output_type": "stream",
     "text": [
      "2021-04-13 20:51:19.614 INFO in 'deeppavlov.core.common.file'['file'] at line 32: Interpreting 'paraphraser_rubert' as '/usr/local/lib/python3.7/dist-packages/deeppavlov/configs/classifiers/paraphraser_rubert.json'\n",
      "2021-04-13 20:51:21.117 INFO in 'deeppavlov.core.data.utils'['utils'] at line 94: Downloading from http://files.deeppavlov.ai/datasets/paraphraser_gold.zip?config=paraphraser_rubert to /root/.deeppavlov/downloads/paraphraser_gold.zip\n",
      "100% 119k/119k [00:00<00:00, 342kB/s] \n",
      "2021-04-13 20:51:22.732 INFO in 'deeppavlov.core.data.utils'['utils'] at line 268: Extracting /root/.deeppavlov/downloads/paraphraser_gold.zip archive into /root/.deeppavlov/downloads/paraphraser_data\n",
      "2021-04-13 20:51:23.830 INFO in 'deeppavlov.core.data.utils'['utils'] at line 94: Downloading from http://files.deeppavlov.ai/deeppavlov_data/bert/rubert_cased_L-12_H-768_A-12_v1.tar.gz?config=paraphraser_rubert to /root/.deeppavlov/downloads/rubert_cased_L-12_H-768_A-12_v1.tar.gz\n",
      "100% 666M/666M [09:02<00:00, 1.23MB/s]\n",
      "2021-04-13 21:00:27.814 INFO in 'deeppavlov.core.data.utils'['utils'] at line 268: Extracting /root/.deeppavlov/downloads/rubert_cased_L-12_H-768_A-12_v1.tar.gz archive into /root/.deeppavlov/downloads/bert_models\n",
      "2021-04-13 21:00:35.612 INFO in 'deeppavlov.core.data.utils'['utils'] at line 94: Downloading from http://files.deeppavlov.ai/datasets/paraphraser.zip?config=paraphraser_rubert to /root/.deeppavlov/downloads/paraphraser.zip\n",
      "100% 1.16M/1.16M [00:01<00:00, 1.09MB/s]\n",
      "2021-04-13 21:00:37.931 INFO in 'deeppavlov.core.data.utils'['utils'] at line 268: Extracting /root/.deeppavlov/downloads/paraphraser.zip archive into /root/.deeppavlov/downloads/paraphraser_data\n",
      "2021-04-13 21:00:39.62 INFO in 'deeppavlov.core.data.utils'['utils'] at line 94: Downloading from http://files.deeppavlov.ai/deeppavlov_data/classifiers/paraphraser_rubert_v0.tar.gz?config=paraphraser_rubert to /root/.deeppavlov/paraphraser_rubert_v0.tar.gz\n",
      "100% 659M/659M [09:39<00:00, 1.14MB/s]\n",
      "2021-04-13 21:10:19.606 INFO in 'deeppavlov.core.data.utils'['utils'] at line 268: Extracting /root/.deeppavlov/paraphraser_rubert_v0.tar.gz archive into /root/.deeppavlov/models\n"
     ]
    }
   ],
   "source": [
    "!python -m deeppavlov download paraphraser_rubert"
   ]
  },
  {
   "cell_type": "code",
   "execution_count": 11,
   "metadata": {
    "id": "0Z0JAhsfYB1q"
   },
   "outputs": [],
   "source": [
    "bert_config = read_json(configs.classifiers.rusentiment_bert)\n",
    "\n",
    "bert_config['dataset_reader']['x'] = 'rus_comment'\n",
    "bert_config['dataset_reader']['y'] = 'label'\n",
    "bert_config['dataset_reader']['data_path'] = './'\n",
    "bert_config['dataset_reader']['train'] = 'train.csv'\n",
    "bert_config['dataset_reader']['valid'] = 'valid.csv'\n",
    "bert_config['dataset_reader']['test'] = 'test.csv'\n",
    "\n",
    "del bert_config['dataset_iterator']['split_seed']\n",
    "del bert_config['dataset_iterator']['field_to_split']\n",
    "del bert_config['dataset_iterator']['split_fields']\n",
    "del bert_config['dataset_iterator']['split_proportions']\n",
    "\n",
    "bert_config['metadata']['variables']['MODEL_PATH'] = '/content/drive/MyDrive/SarcasmDetection/data/Models/classifiers/bert_classifier_rus_comment_ling_feat/'\n",
    "\n",
    "del bert_config['chainer']['pipe'][-2:]\n",
    "del bert_config['chainer']['pipe'][1]\n",
    "bert_config['chainer']['pipe'][1]['in'] = 'y'\n",
    "bert_config['chainer']['pipe'][1]['depth'] = 2\n",
    "bert_config['chainer']['pipe'][2]['n_classes'] = 2\n",
    "bert_config['train']['metrics'] = [bert_config['train']['metrics'][-1]]\n",
    "bert_config['chainer']['out'] = ['y_pred_probas']\n",
    "bert_config['train']['epochs'] = 2\n",
    "bert_config['train']['batch_size'] = 32\n",
    "bert_config['train']['show_examples'] = True\n",
    "\n",
    "vocab_file = '{DOWNLOADS_PATH}/bert_models/rubert_cased_L-12_H-768_A-12_v1/vocab.txt'\n",
    "bert_config_file = \"{DOWNLOADS_PATH}/bert_models/rubert_cased_L-12_H-768_A-12_v1/bert_config.json\"\n",
    "pretrained_bert = \"{DOWNLOADS_PATH}/bert_models/rubert_cased_L-12_H-768_A-12_v1/bert_model.ckpt\"\n",
    "\n",
    "bert_config['chainer']['pipe'][0]['vocab_file'] = vocab_file\n",
    "bert_config['chainer']['pipe'][1]['bert_config_file'] = bert_config_file\n",
    "bert_config['chainer']['pipe'][1]['pretrained_bert'] = pretrained_bert\n",
    "\n",
    "bert_config['chainer']['pipe'][2]['bert_config_file'] = bert_config_file\n",
    "bert_config['chainer']['pipe'][2]['pretrained_bert'] = pretrained_bert"
   ]
  },
  {
   "cell_type": "code",
   "execution_count": 12,
   "metadata": {
    "colab": {
     "base_uri": "https://localhost:8080/"
    },
    "collapsed": true,
    "id": "dqK6tXdzcbI4",
    "jupyter": {
     "outputs_hidden": true
    },
    "outputId": "59bf1321-eff7-4774-ff94-70b3d4d69da2"
   },
   "outputs": [
    {
     "name": "stderr",
     "output_type": "stream",
     "text": [
      "2021-04-13 21:11:34.20 INFO in 'deeppavlov.core.trainers.fit_trainer'['fit_trainer'] at line 68: NNTrainer got additional init parameters ['pytest_max_batches'] that will be ignored:\n"
     ]
    },
    {
     "name": "stdout",
     "output_type": "stream",
     "text": [
      "WARNING:tensorflow:From /usr/local/lib/python3.7/dist-packages/deeppavlov/core/trainers/nn_trainer.py:150: The name tf.summary.FileWriter is deprecated. Please use tf.compat.v1.summary.FileWriter instead.\n",
      "\n",
      "WARNING:tensorflow:From /usr/local/lib/python3.7/dist-packages/bert_dp/tokenization.py:125: The name tf.gfile.GFile is deprecated. Please use tf.io.gfile.GFile instead.\n",
      "\n",
      "WARNING:tensorflow:From /usr/local/lib/python3.7/dist-packages/deeppavlov/core/models/tf_model.py:37: The name tf.Session is deprecated. Please use tf.compat.v1.Session instead.\n",
      "\n",
      "WARNING:tensorflow:From /usr/local/lib/python3.7/dist-packages/deeppavlov/core/models/tf_model.py:222: The name tf.placeholder is deprecated. Please use tf.compat.v1.placeholder instead.\n",
      "\n",
      "WARNING:tensorflow:From /usr/local/lib/python3.7/dist-packages/deeppavlov/core/models/tf_model.py:222: The name tf.train.Optimizer is deprecated. Please use tf.compat.v1.train.Optimizer instead.\n",
      "\n",
      "WARNING:tensorflow:From /usr/local/lib/python3.7/dist-packages/deeppavlov/core/models/tf_model.py:193: The name tf.train.AdamOptimizer is deprecated. Please use tf.compat.v1.train.AdamOptimizer instead.\n",
      "\n",
      "WARNING:tensorflow:From /usr/local/lib/python3.7/dist-packages/deeppavlov/models/bert/bert_classifier.py:84: The name tf.ConfigProto is deprecated. Please use tf.compat.v1.ConfigProto instead.\n",
      "\n",
      "WARNING:tensorflow:From /usr/local/lib/python3.7/dist-packages/deeppavlov/models/bert/bert_classifier.py:161: The name tf.placeholder_with_default is deprecated. Please use tf.compat.v1.placeholder_with_default instead.\n",
      "\n",
      "WARNING:tensorflow:From /usr/local/lib/python3.7/dist-packages/bert_dp/modeling.py:178: The name tf.variable_scope is deprecated. Please use tf.compat.v1.variable_scope instead.\n",
      "\n",
      "WARNING:tensorflow:From /usr/local/lib/python3.7/dist-packages/bert_dp/modeling.py:418: The name tf.get_variable is deprecated. Please use tf.compat.v1.get_variable instead.\n",
      "\n",
      "WARNING:tensorflow:From /usr/local/lib/python3.7/dist-packages/bert_dp/modeling.py:499: The name tf.assert_less_equal is deprecated. Please use tf.compat.v1.assert_less_equal instead.\n",
      "\n",
      "WARNING:tensorflow:\n",
      "The TensorFlow contrib module will not be included in TensorFlow 2.0.\n",
      "For more information, please see:\n",
      "  * https://github.com/tensorflow/community/blob/master/rfcs/20180907-contrib-sunset.md\n",
      "  * https://github.com/tensorflow/addons\n",
      "  * https://github.com/tensorflow/io (for I/O related ops)\n",
      "If you depend on functionality not listed there, please file an issue.\n",
      "\n",
      "WARNING:tensorflow:From /usr/local/lib/python3.7/dist-packages/bert_dp/modeling.py:366: calling dropout (from tensorflow.python.ops.nn_ops) with keep_prob is deprecated and will be removed in a future version.\n",
      "Instructions for updating:\n",
      "Please use `rate` instead of `keep_prob`. Rate should be set to `rate = 1 - keep_prob`.\n",
      "WARNING:tensorflow:From /usr/local/lib/python3.7/dist-packages/bert_dp/modeling.py:680: dense (from tensorflow.python.layers.core) is deprecated and will be removed in a future version.\n",
      "Instructions for updating:\n",
      "Use keras.layers.Dense instead.\n",
      "WARNING:tensorflow:From /usr/local/lib/python3.7/dist-packages/tensorflow_core/python/layers/core.py:187: Layer.apply (from tensorflow.python.keras.engine.base_layer) is deprecated and will be removed in a future version.\n",
      "Instructions for updating:\n",
      "Please use `layer.__call__` method instead.\n",
      "WARNING:tensorflow:From /usr/local/lib/python3.7/dist-packages/bert_dp/modeling.py:283: The name tf.erf is deprecated. Please use tf.math.erf instead.\n",
      "\n",
      "WARNING:tensorflow:From /usr/local/lib/python3.7/dist-packages/deeppavlov/core/models/tf_model.py:234: The name tf.train.AdadeltaOptimizer is deprecated. Please use tf.compat.v1.train.AdadeltaOptimizer instead.\n",
      "\n",
      "WARNING:tensorflow:From /usr/local/lib/python3.7/dist-packages/deeppavlov/core/models/tf_model.py:127: The name tf.get_collection is deprecated. Please use tf.compat.v1.get_collection instead.\n",
      "\n",
      "WARNING:tensorflow:From /usr/local/lib/python3.7/dist-packages/deeppavlov/core/models/tf_model.py:127: The name tf.GraphKeys is deprecated. Please use tf.compat.v1.GraphKeys instead.\n",
      "\n",
      "WARNING:tensorflow:From /usr/local/lib/python3.7/dist-packages/deeppavlov/models/bert/bert_classifier.py:92: The name tf.global_variables_initializer is deprecated. Please use tf.compat.v1.global_variables_initializer instead.\n",
      "\n",
      "WARNING:tensorflow:From /usr/local/lib/python3.7/dist-packages/deeppavlov/models/bert/bert_classifier.py:97: checkpoint_exists (from tensorflow.python.training.checkpoint_management) is deprecated and will be removed in a future version.\n",
      "Instructions for updating:\n",
      "Use standard file APIs to check for files with this prefix.\n"
     ]
    },
    {
     "name": "stderr",
     "output_type": "stream",
     "text": [
      "2021-04-13 21:12:00.835 INFO in 'deeppavlov.models.bert.bert_classifier'['bert_classifier'] at line 99: [initializing model with Bert from /root/.deeppavlov/downloads/bert_models/rubert_cased_L-12_H-768_A-12_v1/bert_model.ckpt]\n"
     ]
    },
    {
     "name": "stdout",
     "output_type": "stream",
     "text": [
      "WARNING:tensorflow:From /usr/local/lib/python3.7/dist-packages/deeppavlov/models/bert/bert_classifier.py:103: The name tf.train.Saver is deprecated. Please use tf.compat.v1.train.Saver instead.\n",
      "\n",
      "INFO:tensorflow:Restoring parameters from /root/.deeppavlov/downloads/bert_models/rubert_cased_L-12_H-768_A-12_v1/bert_model.ckpt\n"
     ]
    },
    {
     "name": "stderr",
     "output_type": "stream",
     "text": [
      "2021-04-13 21:16:09.104 INFO in 'deeppavlov.core.trainers.nn_trainer'['nn_trainer'] at line 199: Initial best roc_auc of 0.4888\n"
     ]
    },
    {
     "name": "stdout",
     "output_type": "stream",
     "text": [
      "{\"valid\": {\"eval_examples_count\": 58035, \"metrics\": {\"roc_auc\": 0.4888}, \"time_spent\": \"0:04:07\", \"examples\": [{\"x\": \"Пока не сделает этого, продолжайте использовать :)\", \"y_predicted\": [0.5681143403053284, 0.4318857192993164], \"y_true\": \"0\"}, {\"x\": \"Понимание прочитанного затруднено.\", \"y_predicted\": [0.5857866406440735, 0.4142133593559265], \"y_true\": \"1\"}, {\"x\": \"Ах да, Франция это заслужила.\", \"y_predicted\": [0.5963402390480042, 0.40365976095199585], \"y_true\": \"1\"}, {\"x\": \"Да, все, что ей нужно было сделать, это построить быстрый навес, не такой уж трудный для двухлетнего ребенка.\", \"y_predicted\": [0.575062096118927, 0.424937903881073], \"y_true\": \"1\"}, {\"x\": \"Ты о чём хрен?\", \"y_predicted\": [0.5978941321372986, 0.4021058976650238], \"y_true\": \"0\"}, {\"x\": \"Христианство предшествовало католицизму.\", \"y_predicted\": [0.5743672847747803, 0.4256327450275421], \"y_true\": \"0\"}, {\"x\": \"Да, иногда они действительно надоедают!\", \"y_predicted\": [0.5849998593330383, 0.41500017046928406], \"y_true\": \"0\"}, {\"x\": \"Да, меня тоже зовут.\", \"y_predicted\": [0.5848168134689331, 0.4151831269264221], \"y_true\": \"1\"}, {\"x\": \"Мы в области технического обслуживания автомобилей используем технический термин для описания этой ситуации.\", \"y_predicted\": [0.5698726177215576, 0.43012741208076477], \"y_true\": \"0\"}, {\"x\": \"Разве это не статуя свободы\", \"y_predicted\": [0.5869803428649902, 0.413019597530365], \"y_true\": \"1\"}, {\"x\": \"Говорит серебряная 1 сука\", \"y_predicted\": [0.5996742248535156, 0.40032580494880676], \"y_true\": \"1\"}, {\"x\": \"Если бы вы провели сравнительный тест с туалетной бумагой ... Думаю, вы сломали бы Интернет.\", \"y_predicted\": [0.6028416752815247, 0.39715829491615295], \"y_true\": \"0\"}, {\"x\": \"Но где мы сможем избавиться от нашей ненависти к 343?\", \"y_predicted\": [0.5644829869270325, 0.43551701307296753], \"y_true\": \"1\"}, {\"x\": \"Вы что-то уронили:\", \"y_predicted\": [0.5777837038040161, 0.4222162961959839], \"y_true\": \"1\"}, {\"x\": \"Канада свободна от всех интернет-монополий.\", \"y_predicted\": [0.601439893245697, 0.39856016635894775], \"y_true\": \"1\"}, {\"x\": \"Нет, я говорю о том, что перевод в общественный колледж обычно немного лучше, чем у юниоров, которые начинали как первокурсники.\", \"y_predicted\": [0.5594098567962646, 0.44059017300605774], \"y_true\": \"0\"}, {\"x\": \"Французский.\", \"y_predicted\": [0.5923815369606018, 0.40761852264404297], \"y_true\": \"1\"}, {\"x\": \"Это всякий военный чувак.\", \"y_predicted\": [0.5809916257858276, 0.41900834441185], \"y_true\": \"0\"}, {\"x\": \"Что ж, копы знают, что их снимают ... не так ли граждане?\", \"y_predicted\": [0.5961100459098816, 0.4038899838924408], \"y_true\": \"0\"}], \"epochs_done\": 0, \"batches_seen\": 0, \"train_examples_seen\": 0, \"impatience\": 0, \"patience_limit\": 5}}\n",
      "WARNING:tensorflow:From /usr/local/lib/python3.7/dist-packages/deeppavlov/core/trainers/nn_trainer.py:250: The name tf.Summary is deprecated. Please use tf.compat.v1.Summary instead.\n",
      "\n",
      "{\"train\": {\"eval_examples_count\": 32, \"metrics\": {\"roc_auc\": 0.9136}, \"time_spent\": \"2:07:25\", \"examples\": [{\"x\": \"Гражданская защита Патриотов от Гуделла так же эффективна, как и защита Кольтов от Патриотов.\", \"y_predicted\": [0.6829505562782288, 0.31704944372177124], \"y_true\": \"0\"}, {\"x\": \"Много рыбы и т.д ...\", \"y_predicted\": [0.8597330451011658, 0.14026691019535065], \"y_true\": \"0\"}, {\"x\": \"Я кры еврытым\", \"y_predicted\": [0.699029266834259, 0.3009707033634186], \"y_true\": \"0\"}, {\"x\": \"Потому что вы травляете.\", \"y_predicted\": [0.4240764081478119, 0.5759235620498657], \"y_true\": \"0\"}, {\"x\": \"со сверхспособностями и пришельцами?\", \"y_predicted\": [0.6971967220306396, 0.30280330777168274], \"y_true\": \"0\"}, {\"x\": \"Такое случается со мной, только когда я слишком далеко отхожу от телефона, но, тем не менее, это невероятно раздражает\", \"y_predicted\": [0.9398953318595886, 0.06010470911860466], \"y_true\": \"0\"}, {\"x\": \"Вы уверены, что не загружали вместо?\", \"y_predicted\": [0.4636791944503784, 0.5363208055496216], \"y_true\": \"1\"}, {\"x\": \"Опорожнение посудомоечной машины\", \"y_predicted\": [0.7157912850379944, 0.2842086851596832], \"y_true\": \"0\"}, {\"x\": \"Фууууууу ... ;-)\", \"y_predicted\": [0.7460715770721436, 0.25392836332321167], \"y_true\": \"0\"}, {\"x\": \"Это было снято во время песчаной бури или в каком-то дерьме?\", \"y_predicted\": [0.8731312155723572, 0.1268688589334488], \"y_true\": \"0\"}, {\"x\": \"Да, это, так что ему определенно нужна какая-то фрезеровка\", \"y_predicted\": [0.11366695165634155, 0.8863330483436584], \"y_true\": \"1\"}, {\"x\": \"Крокодайл дважды победил Луффи, если только ... Крокодил Крок - Крокодайл подтвердил Хаки Завоевателя!\", \"y_predicted\": [0.3875393271446228, 0.6124606728553772], \"y_true\": \"1\"}, {\"x\": \"Прекратите это, в Израиле/ Палестине нет места для логики!\", \"y_predicted\": [0.09417226910591125, 0.9058277606964111], \"y_true\": \"1\"}, {\"x\": \"Господи, это написал дядя Ремус?\", \"y_predicted\": [0.7670891880989075, 0.23291079699993134], \"y_true\": \"0\"}, {\"x\": \"Темные лорды не могут растопить магические обереги!\", \"y_predicted\": [0.4185090959072113, 0.5814908742904663], \"y_true\": \"0\"}, {\"x\": \"У моего 7-летнего ребенка тоже есть блестящий значок :)\", \"y_predicted\": [0.8881989121437073, 0.11180105805397034], \"y_true\": \"0\"}, {\"x\": \"Но не забывайте, Дьюи победил Трумэна.\", \"y_predicted\": [0.30297181010246277, 0.6970281600952148], \"y_true\": \"1\"}, {\"x\": \"Эх, что самое худшее, что может случиться.\", \"y_predicted\": [0.6345072984695435, 0.36549267172813416], \"y_true\": \"1\"}, {\"x\": \"Я немец для ваших записей.\", \"y_predicted\": [0.8037875294685364, 0.196212500333786], \"y_true\": \"0\"}, {\"x\": \"Я не знаю ... Мы говорим о.\", \"y_predicted\": [0.5405855774879456, 0.45941445231437683], \"y_true\": \"1\"}, {\"x\": \"Играйте в эти игры до того, как игровые компании будут вынуждены смягчить свой контент, чтобы обезопасить детей Америки от насилия с применением огнестрельного оружия или подобной чепухи.\", \"y_predicted\": [0.6161901354789734, 0.383809894323349], \"y_true\": \"0\"}, {\"x\": \"Совсем не отвечает ...\", \"y_predicted\": [0.40067145228385925, 0.5993285179138184], \"y_true\": \"0\"}, {\"x\": \"Если бы только дал вам способы исцеления после получения повреждений или, может быть, включил методы для устранения повреждений при падении ... О, подождите ...\", \"y_predicted\": [0.5627814531326294, 0.4372185170650482], \"y_true\": \"1\"}, {\"x\": \"Это должно было случиться раньше, чем позже.\", \"y_predicted\": [0.8146282434463501, 0.18537180125713348], \"y_true\": \"0\"}, {\"x\": \"Все млекопитающие ** становятся непереносимыми к лактозе в младенчестве, когда они отлучаются от груди и начинают есть твердую пищу; люди - единственное исключение, где толерантность к лактозе может сохраняться вплоть до взрослого возраста и в период полового созревания.\", \"y_predicted\": [0.6740245819091797, 0.3259754478931427], \"y_true\": \"0\"}, {\"x\": \"невмешательство нечестно по отношению к ленивым\", \"y_predicted\": [0.36143559217453003, 0.6385644674301147], \"y_true\": \"1\"}, {\"x\": \"Если официальный стрим когда-нибудь остановится, я могу поспорить, что другой стрим в любом случае просто запустит то же самое, что еще больше разделит фанбазу.\", \"y_predicted\": [0.9453232884407043, 0.05467664822936058], \"y_true\": \"0\"}, {\"x\": \"Кикерам тоже нужна любовь\", \"y_predicted\": [0.6593928337097168, 0.3406071364879608], \"y_true\": \"0\"}, {\"x\": \"Такой позор, что он казался довольно милым человеком\", \"y_predicted\": [0.3327672779560089, 0.6672326922416687], \"y_true\": \"1\"}, {\"x\": \"Не уверен, что у меня есть фаворит, но если бы вернулись к своему звучанию/ , они снова стали бы моими фаворитами.\", \"y_predicted\": [0.9830758571624756, 0.016924161463975906], \"y_true\": \"0\"}, {\"x\": \"Приношу извинения за мое невежество, но означает ли это, что государству брать взаймы еще дешевле?\", \"y_predicted\": [0.665652334690094, 0.334347665309906], \"y_true\": \"0\"}, {\"x\": \"Нет, я не делал - []\", \"y_predicted\": [0.3418324589729309, 0.6581675410270691], \"y_true\": \"0\"}], \"epochs_done\": 1, \"batches_seen\": 15687, \"train_examples_seen\": 501968, \"learning_rate\": 1e-05, \"loss\": 0.5428734983864878}}\n"
     ]
    },
    {
     "name": "stderr",
     "output_type": "stream",
     "text": [
      "2021-04-13 23:23:36.90 INFO in 'deeppavlov.core.trainers.nn_trainer'['nn_trainer'] at line 207: Improved best roc_auc of 0.825\n",
      "2021-04-13 23:23:36.91 INFO in 'deeppavlov.core.trainers.nn_trainer'['nn_trainer'] at line 209: Saving model\n",
      "2021-04-13 23:23:36.93 INFO in 'deeppavlov.core.models.tf_model'['tf_model'] at line 75: [saving model to /content/drive/MyDrive/SarcasmDetection/data/Models/classifiers/bert_classifier_rus_comment_ling_feat/model]\n"
     ]
    },
    {
     "name": "stdout",
     "output_type": "stream",
     "text": [
      "{\"valid\": {\"eval_examples_count\": 58035, \"metrics\": {\"roc_auc\": 0.825}, \"time_spent\": \"2:11:34\", \"examples\": [{\"x\": \"Пока не сделает этого, продолжайте использовать :)\", \"y_predicted\": [0.8868727087974548, 0.11312723159790039], \"y_true\": \"0\"}, {\"x\": \"Понимание прочитанного затруднено.\", \"y_predicted\": [0.8316699862480164, 0.16832995414733887], \"y_true\": \"1\"}, {\"x\": \"Ах да, Франция это заслужила.\", \"y_predicted\": [0.2389296293258667, 0.7610704302787781], \"y_true\": \"1\"}, {\"x\": \"Да, все, что ей нужно было сделать, это построить быстрый навес, не такой уж трудный для двухлетнего ребенка.\", \"y_predicted\": [0.14246276021003723, 0.8575372695922852], \"y_true\": \"1\"}, {\"x\": \"Ты о чём хрен?\", \"y_predicted\": [0.8077859282493591, 0.1922140270471573], \"y_true\": \"0\"}, {\"x\": \"Христианство предшествовало католицизму.\", \"y_predicted\": [0.6026341915130615, 0.3973657786846161], \"y_true\": \"0\"}, {\"x\": \"Да, иногда они действительно надоедают!\", \"y_predicted\": [0.19981873035430908, 0.8001812100410461], \"y_true\": \"0\"}, {\"x\": \"Да, меня тоже зовут.\", \"y_predicted\": [0.6328800320625305, 0.36711999773979187], \"y_true\": \"1\"}, {\"x\": \"Мы в области технического обслуживания автомобилей используем технический термин для описания этой ситуации.\", \"y_predicted\": [0.7412009835243225, 0.2587990164756775], \"y_true\": \"0\"}, {\"x\": \"Разве это не статуя свободы\", \"y_predicted\": [0.3350314497947693, 0.6649686098098755], \"y_true\": \"1\"}, {\"x\": \"Говорит серебряная 1 сука\", \"y_predicted\": [0.4304174780845642, 0.569582462310791], \"y_true\": \"1\"}, {\"x\": \"Если бы вы провели сравнительный тест с туалетной бумагой ... Думаю, вы сломали бы Интернет.\", \"y_predicted\": [0.6571550369262695, 0.34284499287605286], \"y_true\": \"0\"}, {\"x\": \"Но где мы сможем избавиться от нашей ненависти к 343?\", \"y_predicted\": [0.08892250806093216, 0.9110774397850037], \"y_true\": \"1\"}, {\"x\": \"Вы что-то уронили:\", \"y_predicted\": [0.0029899149667471647, 0.9970101118087769], \"y_true\": \"1\"}, {\"x\": \"Канада свободна от всех интернет-монополий.\", \"y_predicted\": [0.3230348825454712, 0.6769651174545288], \"y_true\": \"1\"}, {\"x\": \"Нет, я говорю о том, что перевод в общественный колледж обычно немного лучше, чем у юниоров, которые начинали как первокурсники.\", \"y_predicted\": [0.884631335735321, 0.11536859720945358], \"y_true\": \"0\"}, {\"x\": \"Французский.\", \"y_predicted\": [0.8322358131408691, 0.16776424646377563], \"y_true\": \"1\"}, {\"x\": \"Это всякий военный чувак.\", \"y_predicted\": [0.5921663045883179, 0.40783366560935974], \"y_true\": \"0\"}, {\"x\": \"Что ж, копы знают, что их снимают ... не так ли граждане?\", \"y_predicted\": [0.2447608858346939, 0.7552391290664673], \"y_true\": \"0\"}], \"epochs_done\": 1, \"batches_seen\": 15687, \"train_examples_seen\": 501968, \"impatience\": 0, \"patience_limit\": 5}}\n",
      "WARNING:tensorflow:From /usr/local/lib/python3.7/dist-packages/deeppavlov/core/models/tf_model.py:211: The name tf.assign is deprecated. Please use tf.compat.v1.assign instead.\n",
      "\n",
      "{\"train\": {\"eval_examples_count\": 32, \"metrics\": {\"roc_auc\": 0.9804}, \"time_spent\": \"4:14:51\", \"examples\": [{\"x\": \"У вас, должно быть, так много всего, что нужно для рок-н-ролла, вроде этих!\", \"y_predicted\": [0.10494217276573181, 0.8950577974319458], \"y_true\": \"1\"}, {\"x\": \"Давайте дадим ** всем ** чемпионам сбросы за их мигание/\", \"y_predicted\": [0.17660817503929138, 0.8233917951583862], \"y_true\": \"1\"}, {\"x\": \"Люди с коричневой кожей - недочеловек, разве вы не знаете?\", \"y_predicted\": [0.015576341189444065, 0.9844236969947815], \"y_true\": \"1\"}, {\"x\": \"Нет ... налогов?\", \"y_predicted\": [0.7858470678329468, 0.21415288746356964], \"y_true\": \"0\"}, {\"x\": \"Сезон 5 Шейн был бы чертовски супер сайяном\", \"y_predicted\": [0.9187198877334595, 0.08128015697002411], \"y_true\": \"0\"}, {\"x\": \"Как вы смеете сравнивать этих недочеловеков с обезьянами?\", \"y_predicted\": [0.05231567472219467, 0.9476843476295471], \"y_true\": \"1\"}, {\"x\": \"Потому что законы шариата известны тем, что придают большое значение свободе выбора и минимизируют участие государства в нравственности.\", \"y_predicted\": [0.021657250821590424, 0.9783427119255066], \"y_true\": \"1\"}, {\"x\": \"Так разве не только я?\", \"y_predicted\": [0.8193230032920837, 0.18067704141139984], \"y_true\": \"0\"}, {\"x\": \"Вы знаете парней и их неконтролируемое желание все когда-либо изнасиловать.\", \"y_predicted\": [0.4034614562988281, 0.5965386033058167], \"y_true\": \"1\"}, {\"x\": \"На что Норман ответил, немедленно ударив его коленом по голове, когда упал.\", \"y_predicted\": [0.7644596099853516, 0.23554034531116486], \"y_true\": \"0\"}, {\"x\": \"Этим утром он дал интервью филадельфийскому спортивному радио, и он сказал много правильных вещей, определенно заставив город подогреть идею о том, что он будет тренером.\", \"y_predicted\": [0.8374037742614746, 0.1625962257385254], \"y_true\": \"0\"}, {\"x\": \"Наконец, функция, которую мы все ждали.\", \"y_predicted\": [0.1707211434841156, 0.829278826713562], \"y_true\": \"1\"}, {\"x\": \"Сойдет ли ЛНП с рук за международные преступления так же, как у них есть полный пропуск здесь, в Австралии, потому что они владеют полицией и судьями?\", \"y_predicted\": [0.7971752882003784, 0.20282471179962158], \"y_true\": \"0\"}, {\"x\": \"Его поражение было не более чем действием\", \"y_predicted\": [0.9439380764961243, 0.05606187507510185], \"y_true\": \"0\"}, {\"x\": \"Я помню, что в какой-то момент метро перешло\", \"y_predicted\": [0.7815796136856079, 0.21842043101787567], \"y_true\": \"0\"}, {\"x\": \"Но ... но ... его спрей был плохим! 11\", \"y_predicted\": [0.04963921383023262, 0.9503607153892517], \"y_true\": \"1\"}, {\"x\": \"Нет проблем, просто добавьте небольшой листок бумаги с указанием для использования с мощностью 3 Вт или ниже.\", \"y_predicted\": [0.6419676542282104, 0.35803237557411194], \"y_true\": \"1\"}, {\"x\": \"Я уверен, что в Бостоне прошел мирный парад\", \"y_predicted\": [0.04434889182448387, 0.9556511044502258], \"y_true\": \"1\"}, {\"x\": \"Думаю, им руководит Эрик Салазар.\", \"y_predicted\": [0.6325783729553223, 0.3674216568470001], \"y_true\": \"0\"}, {\"x\": \"Может ты просто засранец\", \"y_predicted\": [0.5225667953491211, 0.4774331748485565], \"y_true\": \"0\"}, {\"x\": \"Что ж, он видит что-то негативное и сразу пытается это отразить на СЦ ... хватается за соломинку до отчаяния :)\", \"y_predicted\": [0.7489774227142334, 0.2510225474834442], \"y_true\": \"0\"}, {\"x\": \"Как он мог пропустить одно из самых важных событий в американской истории - 11 сентября - день, когда мы действительно узнали, как много других, выродившихся людей ненавидят наши великие свободы и нашу святую, благословенную Конституцию.\", \"y_predicted\": [0.09212248027324677, 0.9078775644302368], \"y_true\": \"1\"}, {\"x\": \"Нет, это был бы грустный человечек с грустными ручонками\", \"y_predicted\": [0.6295813322067261, 0.37041863799095154], \"y_true\": \"0\"}, {\"x\": \"я обычно каждые выходные в стримах\", \"y_predicted\": [0.9235546588897705, 0.0764453113079071], \"y_true\": \"0\"}, {\"x\": \"у тебя есть менеджер\", \"y_predicted\": [0.6569684743881226, 0.34303149580955505], \"y_true\": \"0\"}, {\"x\": \"Удачи, пытаясь вернуть их\", \"y_predicted\": [0.5283707976341248, 0.47162923216819763], \"y_true\": \"1\"}, {\"x\": \"Ссылка вроде бы пропала ...\", \"y_predicted\": [0.9613263607025146, 0.03867365047335625], \"y_true\": \"0\"}, {\"x\": \"Кассиопея - это мусор\", \"y_predicted\": [0.6322015523910522, 0.36779841780662537], \"y_true\": \"0\"}, {\"x\": \"Я думал, что это название новой надежды.\", \"y_predicted\": [0.6521610617637634, 0.34783899784088135], \"y_true\": \"0\"}, {\"x\": \"Это заговор с целью увеличения доходов почтовой службы.\", \"y_predicted\": [0.22246743738651276, 0.7775325179100037], \"y_true\": \"1\"}, {\"x\": \"Потому что, конечно, ничто другое, кроме сахара, не могло иметь такого эффекта.\", \"y_predicted\": [0.017994262278079987, 0.9820057153701782], \"y_true\": \"1\"}, {\"x\": \"позвольте мне сказать прямо, вы думаете, что изображение слишком яркое?\", \"y_predicted\": [0.4132053554058075, 0.5867946147918701], \"y_true\": \"1\"}], \"epochs_done\": 2, \"batches_seen\": 31374, \"train_examples_seen\": 1003936, \"learning_rate\": 1e-05, \"loss\": 0.48415061986783786}}\n"
     ]
    },
    {
     "name": "stderr",
     "output_type": "stream",
     "text": [
      "2021-04-14 01:31:02.574 INFO in 'deeppavlov.core.trainers.nn_trainer'['nn_trainer'] at line 207: Improved best roc_auc of 0.8286\n",
      "2021-04-14 01:31:02.577 INFO in 'deeppavlov.core.trainers.nn_trainer'['nn_trainer'] at line 209: Saving model\n",
      "2021-04-14 01:31:02.586 INFO in 'deeppavlov.core.models.tf_model'['tf_model'] at line 75: [saving model to /content/drive/MyDrive/SarcasmDetection/data/Models/classifiers/bert_classifier_rus_comment_ling_feat/model]\n"
     ]
    },
    {
     "name": "stdout",
     "output_type": "stream",
     "text": [
      "{\"valid\": {\"eval_examples_count\": 58035, \"metrics\": {\"roc_auc\": 0.8286}, \"time_spent\": \"4:19:01\", \"examples\": [{\"x\": \"Пока не сделает этого, продолжайте использовать :)\", \"y_predicted\": [0.9018629789352417, 0.09813708811998367], \"y_true\": \"0\"}, {\"x\": \"Понимание прочитанного затруднено.\", \"y_predicted\": [0.851266622543335, 0.14873331785202026], \"y_true\": \"1\"}, {\"x\": \"Ах да, Франция это заслужила.\", \"y_predicted\": [0.26253488659858704, 0.7374650835990906], \"y_true\": \"1\"}, {\"x\": \"Да, все, что ей нужно было сделать, это построить быстрый навес, не такой уж трудный для двухлетнего ребенка.\", \"y_predicted\": [0.10847938805818558, 0.891520619392395], \"y_true\": \"1\"}, {\"x\": \"Ты о чём хрен?\", \"y_predicted\": [0.923386812210083, 0.07661320269107819], \"y_true\": \"0\"}, {\"x\": \"Христианство предшествовало католицизму.\", \"y_predicted\": [0.6410895586013794, 0.3589105010032654], \"y_true\": \"0\"}, {\"x\": \"Да, иногда они действительно надоедают!\", \"y_predicted\": [0.09134109318256378, 0.9086588621139526], \"y_true\": \"0\"}, {\"x\": \"Да, меня тоже зовут.\", \"y_predicted\": [0.7744564414024353, 0.22554351389408112], \"y_true\": \"1\"}, {\"x\": \"Мы в области технического обслуживания автомобилей используем технический термин для описания этой ситуации.\", \"y_predicted\": [0.8809148073196411, 0.1190851554274559], \"y_true\": \"0\"}, {\"x\": \"Разве это не статуя свободы\", \"y_predicted\": [0.4688645303249359, 0.5311354398727417], \"y_true\": \"1\"}, {\"x\": \"Говорит серебряная 1 сука\", \"y_predicted\": [0.30060842633247375, 0.6993915438652039], \"y_true\": \"1\"}, {\"x\": \"Если бы вы провели сравнительный тест с туалетной бумагой ... Думаю, вы сломали бы Интернет.\", \"y_predicted\": [0.5931083559989929, 0.4068916440010071], \"y_true\": \"0\"}, {\"x\": \"Но где мы сможем избавиться от нашей ненависти к 343?\", \"y_predicted\": [0.039127595722675323, 0.9608723521232605], \"y_true\": \"1\"}, {\"x\": \"Вы что-то уронили:\", \"y_predicted\": [0.0021840492263436317, 0.9978159666061401], \"y_true\": \"1\"}, {\"x\": \"Канада свободна от всех интернет-монополий.\", \"y_predicted\": [0.21745987236499786, 0.7825401425361633], \"y_true\": \"1\"}, {\"x\": \"Нет, я говорю о том, что перевод в общественный колледж обычно немного лучше, чем у юниоров, которые начинали как первокурсники.\", \"y_predicted\": [0.9818062782287598, 0.0181936863809824], \"y_true\": \"0\"}, {\"x\": \"Французский.\", \"y_predicted\": [0.9311085939407349, 0.06889139860868454], \"y_true\": \"1\"}, {\"x\": \"Это всякий военный чувак.\", \"y_predicted\": [0.6686659455299377, 0.33133408427238464], \"y_true\": \"0\"}, {\"x\": \"Что ж, копы знают, что их снимают ... не так ли граждане?\", \"y_predicted\": [0.20526565611362457, 0.7947342991828918], \"y_true\": \"0\"}], \"epochs_done\": 2, \"batches_seen\": 31374, \"train_examples_seen\": 1003936, \"impatience\": 0, \"patience_limit\": 5}}\n"
     ]
    },
    {
     "name": "stderr",
     "output_type": "stream",
     "text": [
      "2021-04-14 01:31:26.45 INFO in 'deeppavlov.core.models.tf_model'['tf_model'] at line 51: [loading model from /content/drive/MyDrive/SarcasmDetection/data/Models/classifiers/bert_classifier_rus_comment_ling_feat/model]\n"
     ]
    },
    {
     "name": "stdout",
     "output_type": "stream",
     "text": [
      "INFO:tensorflow:Restoring parameters from /content/drive/MyDrive/SarcasmDetection/data/Models/classifiers/bert_classifier_rus_comment_ling_feat/model\n",
      "{\"train\": {\"eval_examples_count\": 501968, \"metrics\": {\"roc_auc\": 0.896}, \"time_spent\": \"0:36:09\", \"examples\": [{\"x\": \"Значит, это вопрос поведения, а не политики?\", \"y_predicted\": [0.9038836359977722, 0.09611629694700241], \"y_true\": \"0\"}, {\"x\": \"Английский второй язык?\", \"y_predicted\": [0.6564089059829712, 0.3435910642147064], \"y_true\": \"1\"}, {\"x\": \"Они были как дерьмо в 7,3\", \"y_predicted\": [0.8667333126068115, 0.13326674699783325], \"y_true\": \"0\"}, {\"x\": \"Думаю, это доказывает, что они больше не лучшие друзья\", \"y_predicted\": [0.31043121218681335, 0.689568817615509], \"y_true\": \"1\"}, {\"x\": \"Может, тебе стоит выбраться из гребаного подвала Алреди?\", \"y_predicted\": [0.35400623083114624, 0.6459937691688538], \"y_true\": \"1\"}, {\"x\": \"Это БМД, БТР-Д и НОНА, а не танки.\", \"y_predicted\": [0.5736340284347534, 0.42636603116989136], \"y_true\": \"0\"}, {\"x\": \"Кто тогда будет населять мир, кроме?\", \"y_predicted\": [0.6076887845993042, 0.3923112452030182], \"y_true\": \"1\"}, {\"x\": \"Снорлакс развивается\", \"y_predicted\": [0.733762800693512, 0.26623716950416565], \"y_true\": \"0\"}, {\"x\": \"Очевидно, что представляет цифры, которые, как они знают, ошибочны, потому что они хотят защитить, хотя знают, что все это ненавидят.\", \"y_predicted\": [0.03928319737315178, 0.9607167840003967], \"y_true\": \"1\"}, {\"x\": \"Он может внести свой вклад в мою благотворительность \\\"Проститутки и минет\\\".\", \"y_predicted\": [0.6151789426803589, 0.3848211169242859], \"y_true\": \"1\"}, {\"x\": \"Просто потому, что 95% людей натуралы, не означает, что у вас может быть Шерлок!\", \"y_predicted\": [0.05598302558064461, 0.9440170526504517], \"y_true\": \"1\"}, {\"x\": \"Я думаю, вы имеете в виду игорную корпорацию.\", \"y_predicted\": [0.41750359535217285, 0.5824964046478271], \"y_true\": \"1\"}, {\"x\": \"Они скептически относятся к хорошей сделке\", \"y_predicted\": [0.7153509855270386, 0.28464898467063904], \"y_true\": \"0\"}, {\"x\": \"Вот почему Кремль помогает его кампании.\", \"y_predicted\": [0.5672751665115356, 0.43272483348846436], \"y_true\": \"0\"}, {\"x\": \"Хотя, как обычно, он доминировал на 1 уровне.\", \"y_predicted\": [0.7235629558563232, 0.27643704414367676], \"y_true\": \"0\"}, {\"x\": \"Желаю, чтобы вы были здесь, темная сторона луны Животные вмешиваются в бесконечную реку\", \"y_predicted\": [0.7230029106140137, 0.2769971191883087], \"y_true\": \"0\"}]}}\n",
      "{\"valid\": {\"eval_examples_count\": 58035, \"metrics\": {\"roc_auc\": 0.8286}, \"time_spent\": \"0:04:11\", \"examples\": [{\"x\": \"Пока не сделает этого, продолжайте использовать :)\", \"y_predicted\": [0.9018629789352417, 0.09813708811998367], \"y_true\": \"0\"}, {\"x\": \"Понимание прочитанного затруднено.\", \"y_predicted\": [0.851266622543335, 0.14873331785202026], \"y_true\": \"1\"}, {\"x\": \"Ах да, Франция это заслужила.\", \"y_predicted\": [0.26253488659858704, 0.7374650835990906], \"y_true\": \"1\"}, {\"x\": \"Да, все, что ей нужно было сделать, это построить быстрый навес, не такой уж трудный для двухлетнего ребенка.\", \"y_predicted\": [0.10847938805818558, 0.891520619392395], \"y_true\": \"1\"}, {\"x\": \"Ты о чём хрен?\", \"y_predicted\": [0.923386812210083, 0.07661320269107819], \"y_true\": \"0\"}, {\"x\": \"Христианство предшествовало католицизму.\", \"y_predicted\": [0.6410895586013794, 0.3589105010032654], \"y_true\": \"0\"}, {\"x\": \"Да, иногда они действительно надоедают!\", \"y_predicted\": [0.09134109318256378, 0.9086588621139526], \"y_true\": \"0\"}, {\"x\": \"Да, меня тоже зовут.\", \"y_predicted\": [0.7744564414024353, 0.22554351389408112], \"y_true\": \"1\"}, {\"x\": \"Мы в области технического обслуживания автомобилей используем технический термин для описания этой ситуации.\", \"y_predicted\": [0.8809148073196411, 0.1190851554274559], \"y_true\": \"0\"}, {\"x\": \"Разве это не статуя свободы\", \"y_predicted\": [0.4688645303249359, 0.5311354398727417], \"y_true\": \"1\"}, {\"x\": \"Говорит серебряная 1 сука\", \"y_predicted\": [0.30060842633247375, 0.6993915438652039], \"y_true\": \"1\"}, {\"x\": \"Если бы вы провели сравнительный тест с туалетной бумагой ... Думаю, вы сломали бы Интернет.\", \"y_predicted\": [0.5931083559989929, 0.4068916440010071], \"y_true\": \"0\"}, {\"x\": \"Но где мы сможем избавиться от нашей ненависти к 343?\", \"y_predicted\": [0.039127595722675323, 0.9608723521232605], \"y_true\": \"1\"}, {\"x\": \"Вы что-то уронили:\", \"y_predicted\": [0.0021840492263436317, 0.9978159666061401], \"y_true\": \"1\"}, {\"x\": \"Канада свободна от всех интернет-монополий.\", \"y_predicted\": [0.21745987236499786, 0.7825401425361633], \"y_true\": \"1\"}, {\"x\": \"Нет, я говорю о том, что перевод в общественный колледж обычно немного лучше, чем у юниоров, которые начинали как первокурсники.\", \"y_predicted\": [0.9818062782287598, 0.0181936863809824], \"y_true\": \"0\"}, {\"x\": \"Французский.\", \"y_predicted\": [0.9311085939407349, 0.06889139860868454], \"y_true\": \"1\"}, {\"x\": \"Это всякий военный чувак.\", \"y_predicted\": [0.6686659455299377, 0.33133408427238464], \"y_true\": \"0\"}, {\"x\": \"Что ж, копы знают, что их снимают ... не так ли граждане?\", \"y_predicted\": [0.20526565611362457, 0.7947342991828918], \"y_true\": \"0\"}]}}\n",
      "{\"test\": {\"eval_examples_count\": 248721, \"metrics\": {\"roc_auc\": 0.8252}, \"time_spent\": \"0:17:54\", \"examples\": [{\"x\": \"Из статьи: Прямо сейчас в католических и независимых частных школах на одного ученика в среднем платят меньше, чем в государственных.\", \"y_predicted\": [0.9483997225761414, 0.05160030722618103], \"y_true\": \"0\"}, {\"x\": \"я любил Оливье и Лин Яо больше всего\", \"y_predicted\": [0.8643254637718201, 0.13567455112934113], \"y_true\": \"0\"}, {\"x\": \"Вы - пизда для исправления женщины, и вам должно быть плохо.\", \"y_predicted\": [0.03365105763077736, 0.9663488864898682], \"y_true\": \"1\"}, {\"x\": \"Кто-то глупый проголосовал против вас, так что голосуйте за.\", \"y_predicted\": [0.5986796021461487, 0.40132036805152893], \"y_true\": \"0\"}, {\"x\": \"Красный Крест проливает кровь от СПИДа на гомосексуалистов.\", \"y_predicted\": [0.2576092481613159, 0.7423906922340393], \"y_true\": \"1\"}, {\"x\": \"Конечно, фанат Жары не понимает истинного фандома.\", \"y_predicted\": [0.10261175036430359, 0.8973882794380188], \"y_true\": \"1\"}, {\"x\": \"Буквально неиграбельный\", \"y_predicted\": [0.05925052613019943, 0.9407494068145752], \"y_true\": \"1\"}, {\"x\": \"Вы используете заглавные буквы, сэр, поэтому я не согласен с вами\", \"y_predicted\": [0.5614427328109741, 0.43855729699134827], \"y_true\": \"1\"}, {\"x\": \"Эндрю Виггинс, если его обменяют на.\", \"y_predicted\": [0.4477584958076477, 0.5522415041923523], \"y_true\": \"0\"}, {\"x\": \"Багет может никогда не умереть.\", \"y_predicted\": [0.8978386521339417, 0.10216133296489716], \"y_true\": \"0\"}, {\"x\": \"Будет интересно посмотреть, где окажется Микколи.\", \"y_predicted\": [0.8548616766929626, 0.14513833820819855], \"y_true\": \"0\"}, {\"x\": \"Какой отличный способ дать конструктивную критику\", \"y_predicted\": [0.019185476005077362, 0.9808144569396973], \"y_true\": \"1\"}, {\"x\": \"Держу кисть обеими руками.\", \"y_predicted\": [0.9045301675796509, 0.0954698845744133], \"y_true\": \"0\"}, {\"x\": \"Это просто для взгляда, ребята.\", \"y_predicted\": [0.4712492525577545, 0.5287507772445679], \"y_true\": \"1\"}, {\"x\": \"Не может быть, ясно, что в качестве телефонной технологии существует только, поскольку должна подать в суд на все остальное за кражу их дизайна.\", \"y_predicted\": [0.027027005329728127, 0.9729729890823364], \"y_true\": \"1\"}, {\"x\": \"Мне нравится, как он гладко гладит эти донги в противоположную сторону.\", \"y_predicted\": [0.7968258261680603, 0.20317420363426208], \"y_true\": \"0\"}, {\"x\": \"Этот клип поможет вам попасть в 9\", \"y_predicted\": [0.46542465686798096, 0.534575343132019], \"y_true\": \"1\"}]}}\n"
     ]
    },
    {
     "name": "stderr",
     "output_type": "stream",
     "text": [
      "2021-04-14 02:30:00.205 INFO in 'deeppavlov.core.models.tf_model'['tf_model'] at line 51: [loading model from /content/drive/MyDrive/SarcasmDetection/data/Models/classifiers/bert_classifier_rus_comment_ling_feat/model]\n"
     ]
    },
    {
     "name": "stdout",
     "output_type": "stream",
     "text": [
      "INFO:tensorflow:Restoring parameters from /content/drive/MyDrive/SarcasmDetection/data/Models/classifiers/bert_classifier_rus_comment_ling_feat/model\n"
     ]
    }
   ],
   "source": [
    "m = train_model(bert_config)"
   ]
  },
  {
   "cell_type": "code",
   "execution_count": 14,
   "metadata": {
    "colab": {
     "base_uri": "https://localhost:8080/",
     "height": 337,
     "referenced_widgets": [
      "6192cbe9374d4ebeb884dd828231e180",
      "473a6835b9af47bd8ecdf7d9a9e04ba7",
      "87d4d12263d04e2ab50d9e7dc28d70c6",
      "109c916dae7247f39d2700823fe644d6",
      "ea325e62798649a58597afc838ef0ee0",
      "fddad5c546e540f095dc25e2c2e08878",
      "9b8e67a261da4c29a91dc0cc965b68a1",
      "e3cd4150f6f54758b9d8b53dc8526912"
     ]
    },
    "id": "yf8Uj7EYJcI1",
    "outputId": "8fd8da8f-5872-46ec-f1d2-54533b868d1a"
   },
   "outputs": [
    {
     "data": {
      "application/vnd.jupyter.widget-view+json": {
       "model_id": "6192cbe9374d4ebeb884dd828231e180",
       "version_major": 2,
       "version_minor": 0
      },
      "text/plain": [
       "HBox(children=(FloatProgress(value=0.0, max=3886.0), HTML(value='')))"
      ]
     },
     "metadata": {
      "tags": []
     },
     "output_type": "display_data"
    },
    {
     "name": "stdout",
     "output_type": "stream",
     "text": [
      "\n",
      "F1: 0.74173\n",
      "PREC: 0.7785\n",
      "PR-AUC: 0.84328\n",
      "ROC-AUC: 0.82521\n",
      "-------------------------------------------------------\n",
      "              precision    recall  f1-score   support\n",
      "\n",
      "           0       0.71      0.78      0.75    119781\n",
      "           1       0.78      0.71      0.74    128940\n",
      "\n",
      "    accuracy                           0.74    248721\n",
      "   macro avg       0.75      0.75      0.74    248721\n",
      "weighted avg       0.75      0.74      0.74    248721\n",
      "\n",
      "-------------------------------------------------------\n"
     ]
    }
   ],
   "source": [
    "preds_proba = []\n",
    "for batch in tqdm(chunks(test_df['rus_comment'].values, 64), total=int(test_df.index.size / 64)):\n",
    "    preds_proba.append(m(batch))\n",
    "\n",
    "preds = np.concatenate(preds_proba)\n",
    "\n",
    "show_test_classification_metrics(\n",
    "    test_df.label.values, \n",
    "    (preds[:, 1] > 0.5).astype(int), \n",
    "    preds[:, 1]\n",
    ")"
   ]
  }
 ],
 "metadata": {
  "accelerator": "GPU",
  "colab": {
   "collapsed_sections": [
    "2zryfXsLIy5K",
    "LTsqvuBVQrQR",
    "bbP63enBQnlI"
   ],
   "name": "sarcasm_on_reddit_rubert.ipynb",
   "provenance": []
  },
  "kernelspec": {
   "display_name": "Python 3",
   "language": "python",
   "name": "python3"
  },
  "language_info": {
   "codemirror_mode": {
    "name": "ipython",
    "version": 3
   },
   "file_extension": ".py",
   "mimetype": "text/x-python",
   "name": "python",
   "nbconvert_exporter": "python",
   "pygments_lexer": "ipython3",
   "version": "3.6.9"
  },
  "widgets": {
   "application/vnd.jupyter.widget-state+json": {
    "109c916dae7247f39d2700823fe644d6": {
     "model_module": "@jupyter-widgets/controls",
     "model_name": "HTMLModel",
     "state": {
      "_dom_classes": [],
      "_model_module": "@jupyter-widgets/controls",
      "_model_module_version": "1.5.0",
      "_model_name": "HTMLModel",
      "_view_count": null,
      "_view_module": "@jupyter-widgets/controls",
      "_view_module_version": "1.5.0",
      "_view_name": "HTMLView",
      "description": "",
      "description_tooltip": null,
      "layout": "IPY_MODEL_e3cd4150f6f54758b9d8b53dc8526912",
      "placeholder": "​",
      "style": "IPY_MODEL_9b8e67a261da4c29a91dc0cc965b68a1",
      "value": " 3887/? [17:54&lt;00:00,  3.62it/s]"
     }
    },
    "473a6835b9af47bd8ecdf7d9a9e04ba7": {
     "model_module": "@jupyter-widgets/base",
     "model_name": "LayoutModel",
     "state": {
      "_model_module": "@jupyter-widgets/base",
      "_model_module_version": "1.2.0",
      "_model_name": "LayoutModel",
      "_view_count": null,
      "_view_module": "@jupyter-widgets/base",
      "_view_module_version": "1.2.0",
      "_view_name": "LayoutView",
      "align_content": null,
      "align_items": null,
      "align_self": null,
      "border": null,
      "bottom": null,
      "display": null,
      "flex": null,
      "flex_flow": null,
      "grid_area": null,
      "grid_auto_columns": null,
      "grid_auto_flow": null,
      "grid_auto_rows": null,
      "grid_column": null,
      "grid_gap": null,
      "grid_row": null,
      "grid_template_areas": null,
      "grid_template_columns": null,
      "grid_template_rows": null,
      "height": null,
      "justify_content": null,
      "justify_items": null,
      "left": null,
      "margin": null,
      "max_height": null,
      "max_width": null,
      "min_height": null,
      "min_width": null,
      "object_fit": null,
      "object_position": null,
      "order": null,
      "overflow": null,
      "overflow_x": null,
      "overflow_y": null,
      "padding": null,
      "right": null,
      "top": null,
      "visibility": null,
      "width": null
     }
    },
    "6192cbe9374d4ebeb884dd828231e180": {
     "model_module": "@jupyter-widgets/controls",
     "model_name": "HBoxModel",
     "state": {
      "_dom_classes": [],
      "_model_module": "@jupyter-widgets/controls",
      "_model_module_version": "1.5.0",
      "_model_name": "HBoxModel",
      "_view_count": null,
      "_view_module": "@jupyter-widgets/controls",
      "_view_module_version": "1.5.0",
      "_view_name": "HBoxView",
      "box_style": "",
      "children": [
       "IPY_MODEL_87d4d12263d04e2ab50d9e7dc28d70c6",
       "IPY_MODEL_109c916dae7247f39d2700823fe644d6"
      ],
      "layout": "IPY_MODEL_473a6835b9af47bd8ecdf7d9a9e04ba7"
     }
    },
    "87d4d12263d04e2ab50d9e7dc28d70c6": {
     "model_module": "@jupyter-widgets/controls",
     "model_name": "FloatProgressModel",
     "state": {
      "_dom_classes": [],
      "_model_module": "@jupyter-widgets/controls",
      "_model_module_version": "1.5.0",
      "_model_name": "FloatProgressModel",
      "_view_count": null,
      "_view_module": "@jupyter-widgets/controls",
      "_view_module_version": "1.5.0",
      "_view_name": "ProgressView",
      "bar_style": "success",
      "description": "",
      "description_tooltip": null,
      "layout": "IPY_MODEL_fddad5c546e540f095dc25e2c2e08878",
      "max": 3886,
      "min": 0,
      "orientation": "horizontal",
      "style": "IPY_MODEL_ea325e62798649a58597afc838ef0ee0",
      "value": 3886
     }
    },
    "9b8e67a261da4c29a91dc0cc965b68a1": {
     "model_module": "@jupyter-widgets/controls",
     "model_name": "DescriptionStyleModel",
     "state": {
      "_model_module": "@jupyter-widgets/controls",
      "_model_module_version": "1.5.0",
      "_model_name": "DescriptionStyleModel",
      "_view_count": null,
      "_view_module": "@jupyter-widgets/base",
      "_view_module_version": "1.2.0",
      "_view_name": "StyleView",
      "description_width": ""
     }
    },
    "e3cd4150f6f54758b9d8b53dc8526912": {
     "model_module": "@jupyter-widgets/base",
     "model_name": "LayoutModel",
     "state": {
      "_model_module": "@jupyter-widgets/base",
      "_model_module_version": "1.2.0",
      "_model_name": "LayoutModel",
      "_view_count": null,
      "_view_module": "@jupyter-widgets/base",
      "_view_module_version": "1.2.0",
      "_view_name": "LayoutView",
      "align_content": null,
      "align_items": null,
      "align_self": null,
      "border": null,
      "bottom": null,
      "display": null,
      "flex": null,
      "flex_flow": null,
      "grid_area": null,
      "grid_auto_columns": null,
      "grid_auto_flow": null,
      "grid_auto_rows": null,
      "grid_column": null,
      "grid_gap": null,
      "grid_row": null,
      "grid_template_areas": null,
      "grid_template_columns": null,
      "grid_template_rows": null,
      "height": null,
      "justify_content": null,
      "justify_items": null,
      "left": null,
      "margin": null,
      "max_height": null,
      "max_width": null,
      "min_height": null,
      "min_width": null,
      "object_fit": null,
      "object_position": null,
      "order": null,
      "overflow": null,
      "overflow_x": null,
      "overflow_y": null,
      "padding": null,
      "right": null,
      "top": null,
      "visibility": null,
      "width": null
     }
    },
    "ea325e62798649a58597afc838ef0ee0": {
     "model_module": "@jupyter-widgets/controls",
     "model_name": "ProgressStyleModel",
     "state": {
      "_model_module": "@jupyter-widgets/controls",
      "_model_module_version": "1.5.0",
      "_model_name": "ProgressStyleModel",
      "_view_count": null,
      "_view_module": "@jupyter-widgets/base",
      "_view_module_version": "1.2.0",
      "_view_name": "StyleView",
      "bar_color": null,
      "description_width": "initial"
     }
    },
    "fddad5c546e540f095dc25e2c2e08878": {
     "model_module": "@jupyter-widgets/base",
     "model_name": "LayoutModel",
     "state": {
      "_model_module": "@jupyter-widgets/base",
      "_model_module_version": "1.2.0",
      "_model_name": "LayoutModel",
      "_view_count": null,
      "_view_module": "@jupyter-widgets/base",
      "_view_module_version": "1.2.0",
      "_view_name": "LayoutView",
      "align_content": null,
      "align_items": null,
      "align_self": null,
      "border": null,
      "bottom": null,
      "display": null,
      "flex": null,
      "flex_flow": null,
      "grid_area": null,
      "grid_auto_columns": null,
      "grid_auto_flow": null,
      "grid_auto_rows": null,
      "grid_column": null,
      "grid_gap": null,
      "grid_row": null,
      "grid_template_areas": null,
      "grid_template_columns": null,
      "grid_template_rows": null,
      "height": null,
      "justify_content": null,
      "justify_items": null,
      "left": null,
      "margin": null,
      "max_height": null,
      "max_width": null,
      "min_height": null,
      "min_width": null,
      "object_fit": null,
      "object_position": null,
      "order": null,
      "overflow": null,
      "overflow_x": null,
      "overflow_y": null,
      "padding": null,
      "right": null,
      "top": null,
      "visibility": null,
      "width": null
     }
    }
   }
  }
 },
 "nbformat": 4,
 "nbformat_minor": 4
}
