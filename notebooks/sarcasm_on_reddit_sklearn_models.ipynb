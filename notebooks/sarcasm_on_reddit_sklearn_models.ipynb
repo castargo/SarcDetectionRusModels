{
 "cells": [
  {
   "cell_type": "markdown",
   "metadata": {},
   "source": [
    "# Sklearn models for sarcasm on Reddit data"
   ]
  },
  {
   "cell_type": "code",
   "execution_count": 1,
   "metadata": {},
   "outputs": [],
   "source": [
    "import json\n",
    "import os\n",
    "import pickle\n",
    "import random\n",
    "import warnings\n",
    "\n",
    "import matplotlib.pyplot as plt\n",
    "\n",
    "from scipy.sparse import hstack\n",
    "from scipy.sparse.csr import csr_matrix\n",
    "from sklearn.feature_extraction.text import TfidfVectorizer\n",
    "from sklearn.linear_model import LogisticRegression\n",
    "from sklearn.model_selection import train_test_split, KFold, GridSearchCV, cross_val_score\n",
    "from sklearn.naive_bayes import BernoulliNB\n",
    "from sklearn.utils import shuffle\n",
    "from joblib import dump, load\n",
    "from xgboost import XGBClassifier\n",
    "\n",
    "from sarcsdet.configs.sklearn_models_config import *\n",
    "from sarcsdet.configs.sklearn_models_grid_search_params import *\n",
    "from sarcsdet.models.count_model_metrics import *"
   ]
  },
  {
   "cell_type": "code",
   "execution_count": 2,
   "metadata": {},
   "outputs": [],
   "source": [
    "warnings.filterwarnings('ignore')"
   ]
  },
  {
   "cell_type": "markdown",
   "metadata": {},
   "source": [
    "### Get data"
   ]
  },
  {
   "cell_type": "code",
   "execution_count": 3,
   "metadata": {},
   "outputs": [],
   "source": [
    "data_path = '../data/Sarcasm_on_Reddit'"
   ]
  },
  {
   "cell_type": "code",
   "execution_count": 4,
   "metadata": {},
   "outputs": [],
   "source": [
    "df = pd.read_pickle(os.path.join(data_path, 'rus-train-balanced-sarcasm-ling_feat.pkl'))"
   ]
  },
  {
   "cell_type": "code",
   "execution_count": 5,
   "metadata": {},
   "outputs": [],
   "source": [
    "# split data to train and test\n",
    "train_df, test_df = train_test_split(df, test_size=0.3, random_state=8)"
   ]
  },
  {
   "cell_type": "markdown",
   "metadata": {},
   "source": [
    "## Random"
   ]
  },
  {
   "cell_type": "code",
   "execution_count": 6,
   "metadata": {},
   "outputs": [
    {
     "name": "stdout",
     "output_type": "stream",
     "text": [
      "F1: 0.50978\n",
      "PREC: 0.51898\n",
      "PR-AUC: 0.51864\n",
      "ROC-AUC: 0.49927\n",
      "-------------------------------------------------------\n",
      "              precision    recall  f1-score   support\n",
      "\n",
      "           0       0.48      0.50      0.49    119653\n",
      "           1       0.52      0.50      0.51    129068\n",
      "\n",
      "    accuracy                           0.50    248721\n",
      "   macro avg       0.50      0.50      0.50    248721\n",
      "weighted avg       0.50      0.50      0.50    248721\n",
      "\n",
      "-------------------------------------------------------\n"
     ]
    }
   ],
   "source": [
    "y_test = test_df.label\n",
    "y_pred = [random.choice([0, 1]) for y in y_test]\n",
    "y_pred_prob = [random.random() for y in y_test]\n",
    "\n",
    "show_test_classification_metrics(y_test, y_pred, y_pred_prob)"
   ]
  },
  {
   "cell_type": "markdown",
   "metadata": {},
   "source": [
    "## Train Sklearn models"
   ]
  },
  {
   "cell_type": "code",
   "execution_count": 7,
   "metadata": {},
   "outputs": [],
   "source": [
    "result_path = '../results/reddit'"
   ]
  },
  {
   "cell_type": "code",
   "execution_count": 8,
   "metadata": {},
   "outputs": [],
   "source": [
    "unsorted_scores = []\n",
    "\n",
    "for filename in os.listdir(result_path):\n",
    "    if filename.endswith('.json'):\n",
    "        with open(os.path.join(result_path, filename)) as f:\n",
    "            unsorted_scores.append(json.loads(f.read()))"
   ]
  },
  {
   "cell_type": "code",
   "execution_count": 9,
   "metadata": {},
   "outputs": [],
   "source": [
    "scores_df = pd.io.json.json_normalize(unsorted_scores)\n",
    "scores_df.rename(columns={\n",
    "    'results.precision': 'precision', 'results.recall': 'recall', 'results.F1': 'F1', \n",
    "    'results.PR AUC': 'PR_AUC', 'results.ROC AUC': 'ROC_AUC'}, inplace=True\n",
    "    )\n",
    "scores_df.drop(columns=['seed', 'test samples'], axis=1, inplace=True)"
   ]
  },
  {
   "cell_type": "code",
   "execution_count": 10,
   "metadata": {},
   "outputs": [],
   "source": [
    "scores_df = scores_df[scores_df['recall'] > 0.5]\n",
    "scores_df = scores_df[scores_df['precision'] > 0.5]\n",
    "scores_df = scores_df[scores_df['F1'] > 0.5]\n",
    "scores_df = scores_df[scores_df['ROC_AUC'] > 0.5]"
   ]
  },
  {
   "cell_type": "code",
   "execution_count": 11,
   "metadata": {},
   "outputs": [
    {
     "data": {
      "text/html": [
       "<div>\n",
       "<style scoped>\n",
       "    .dataframe tbody tr th:only-of-type {\n",
       "        vertical-align: middle;\n",
       "    }\n",
       "\n",
       "    .dataframe tbody tr th {\n",
       "        vertical-align: top;\n",
       "    }\n",
       "\n",
       "    .dataframe thead th {\n",
       "        text-align: right;\n",
       "    }\n",
       "</style>\n",
       "<table border=\"1\" class=\"dataframe\">\n",
       "  <thead>\n",
       "    <tr style=\"text-align: right;\">\n",
       "      <th></th>\n",
       "      <th>embedding</th>\n",
       "      <th>model</th>\n",
       "      <th>extra_features</th>\n",
       "      <th>precision</th>\n",
       "      <th>recall</th>\n",
       "      <th>F1</th>\n",
       "      <th>PR_AUC</th>\n",
       "      <th>ROC_AUC</th>\n",
       "    </tr>\n",
       "  </thead>\n",
       "  <tbody>\n",
       "    <tr>\n",
       "      <th>8</th>\n",
       "      <td>TFIDF</td>\n",
       "      <td>LogisticRegression</td>\n",
       "      <td>[exclamation, question, quotes, dotes]</td>\n",
       "      <td>0.735356</td>\n",
       "      <td>0.671607</td>\n",
       "      <td>0.702037</td>\n",
       "      <td>0.793596</td>\n",
       "      <td>0.774353</td>\n",
       "    </tr>\n",
       "    <tr>\n",
       "      <th>71</th>\n",
       "      <td>TFIDF</td>\n",
       "      <td>LogisticRegression</td>\n",
       "      <td>[funny_mark]</td>\n",
       "      <td>0.729030</td>\n",
       "      <td>0.665162</td>\n",
       "      <td>0.695633</td>\n",
       "      <td>0.786521</td>\n",
       "      <td>0.767301</td>\n",
       "    </tr>\n",
       "    <tr>\n",
       "      <th>58</th>\n",
       "      <td>TFIDF</td>\n",
       "      <td>LogisticRegression</td>\n",
       "      <td>[]</td>\n",
       "      <td>0.728972</td>\n",
       "      <td>0.665154</td>\n",
       "      <td>0.695602</td>\n",
       "      <td>0.786475</td>\n",
       "      <td>0.767240</td>\n",
       "    </tr>\n",
       "    <tr>\n",
       "      <th>60</th>\n",
       "      <td>TFIDF</td>\n",
       "      <td>LogisticRegression</td>\n",
       "      <td>[interjections]</td>\n",
       "      <td>0.728721</td>\n",
       "      <td>0.664790</td>\n",
       "      <td>0.695289</td>\n",
       "      <td>0.786488</td>\n",
       "      <td>0.767280</td>\n",
       "    </tr>\n",
       "    <tr>\n",
       "      <th>41</th>\n",
       "      <td>TFIDF</td>\n",
       "      <td>BernoulliNB</td>\n",
       "      <td>[funny_mark, interjections, exclamation, question, quotes, dotes, author, subreddit, score]</td>\n",
       "      <td>0.723735</td>\n",
       "      <td>0.658911</td>\n",
       "      <td>0.689804</td>\n",
       "      <td>0.779186</td>\n",
       "      <td>0.757512</td>\n",
       "    </tr>\n",
       "    <tr>\n",
       "      <th>0</th>\n",
       "      <td>TFIDF</td>\n",
       "      <td>BernoulliNB</td>\n",
       "      <td>[exclamation, question, quotes, dotes]</td>\n",
       "      <td>0.722344</td>\n",
       "      <td>0.655157</td>\n",
       "      <td>0.687112</td>\n",
       "      <td>0.777310</td>\n",
       "      <td>0.755042</td>\n",
       "    </tr>\n",
       "    <tr>\n",
       "      <th>47</th>\n",
       "      <td>TFIDF</td>\n",
       "      <td>BernoulliNB</td>\n",
       "      <td>[author, subreddit, score]</td>\n",
       "      <td>0.720042</td>\n",
       "      <td>0.650969</td>\n",
       "      <td>0.683766</td>\n",
       "      <td>0.773785</td>\n",
       "      <td>0.751969</td>\n",
       "    </tr>\n",
       "    <tr>\n",
       "      <th>13</th>\n",
       "      <td>TFIDF</td>\n",
       "      <td>BernoulliNB</td>\n",
       "      <td>[]</td>\n",
       "      <td>0.717978</td>\n",
       "      <td>0.647216</td>\n",
       "      <td>0.680763</td>\n",
       "      <td>0.771941</td>\n",
       "      <td>0.749482</td>\n",
       "    </tr>\n",
       "    <tr>\n",
       "      <th>35</th>\n",
       "      <td>TFIDF</td>\n",
       "      <td>BernoulliNB</td>\n",
       "      <td>[funny_mark]</td>\n",
       "      <td>0.717892</td>\n",
       "      <td>0.647278</td>\n",
       "      <td>0.680759</td>\n",
       "      <td>0.772008</td>\n",
       "      <td>0.749583</td>\n",
       "    </tr>\n",
       "    <tr>\n",
       "      <th>70</th>\n",
       "      <td>TFIDF</td>\n",
       "      <td>BernoulliNB</td>\n",
       "      <td>[interjections]</td>\n",
       "      <td>0.717638</td>\n",
       "      <td>0.647510</td>\n",
       "      <td>0.680773</td>\n",
       "      <td>0.771961</td>\n",
       "      <td>0.749464</td>\n",
       "    </tr>\n",
       "    <tr>\n",
       "      <th>45</th>\n",
       "      <td>RuBERT</td>\n",
       "      <td>LogisticRegression</td>\n",
       "      <td>[exclamation, question, quotes, dotes]</td>\n",
       "      <td>0.668052</td>\n",
       "      <td>0.621971</td>\n",
       "      <td>0.644189</td>\n",
       "      <td>0.708752</td>\n",
       "      <td>0.696463</td>\n",
       "    </tr>\n",
       "    <tr>\n",
       "      <th>46</th>\n",
       "      <td>RuBERT</td>\n",
       "      <td>LogisticRegression</td>\n",
       "      <td>[funny_mark]</td>\n",
       "      <td>0.666675</td>\n",
       "      <td>0.624236</td>\n",
       "      <td>0.644758</td>\n",
       "      <td>0.705626</td>\n",
       "      <td>0.695839</td>\n",
       "    </tr>\n",
       "    <tr>\n",
       "      <th>54</th>\n",
       "      <td>RuBERT</td>\n",
       "      <td>LogisticRegression</td>\n",
       "      <td>[]</td>\n",
       "      <td>0.666289</td>\n",
       "      <td>0.624407</td>\n",
       "      <td>0.644668</td>\n",
       "      <td>0.705405</td>\n",
       "      <td>0.695439</td>\n",
       "    </tr>\n",
       "    <tr>\n",
       "      <th>63</th>\n",
       "      <td>RuBERT</td>\n",
       "      <td>LogisticRegression</td>\n",
       "      <td>[interjections]</td>\n",
       "      <td>0.664931</td>\n",
       "      <td>0.628982</td>\n",
       "      <td>0.646457</td>\n",
       "      <td>0.705394</td>\n",
       "      <td>0.695433</td>\n",
       "    </tr>\n",
       "    <tr>\n",
       "      <th>36</th>\n",
       "      <td>Word2Vec</td>\n",
       "      <td>LogisticRegression</td>\n",
       "      <td>[exclamation, question, quotes, dotes]</td>\n",
       "      <td>0.649482</td>\n",
       "      <td>0.598643</td>\n",
       "      <td>0.623027</td>\n",
       "      <td>0.691641</td>\n",
       "      <td>0.672681</td>\n",
       "    </tr>\n",
       "  </tbody>\n",
       "</table>\n",
       "</div>"
      ],
      "text/plain": [
       "   embedding               model  \\\n",
       "8      TFIDF  LogisticRegression   \n",
       "71     TFIDF  LogisticRegression   \n",
       "58     TFIDF  LogisticRegression   \n",
       "60     TFIDF  LogisticRegression   \n",
       "41     TFIDF         BernoulliNB   \n",
       "0      TFIDF         BernoulliNB   \n",
       "47     TFIDF         BernoulliNB   \n",
       "13     TFIDF         BernoulliNB   \n",
       "35     TFIDF         BernoulliNB   \n",
       "70     TFIDF         BernoulliNB   \n",
       "45    RuBERT  LogisticRegression   \n",
       "46    RuBERT  LogisticRegression   \n",
       "54    RuBERT  LogisticRegression   \n",
       "63    RuBERT  LogisticRegression   \n",
       "36  Word2Vec  LogisticRegression   \n",
       "\n",
       "                                                                                 extra_features  \\\n",
       "8                                                        [exclamation, question, quotes, dotes]   \n",
       "71                                                                                 [funny_mark]   \n",
       "58                                                                                           []   \n",
       "60                                                                              [interjections]   \n",
       "41  [funny_mark, interjections, exclamation, question, quotes, dotes, author, subreddit, score]   \n",
       "0                                                        [exclamation, question, quotes, dotes]   \n",
       "47                                                                   [author, subreddit, score]   \n",
       "13                                                                                           []   \n",
       "35                                                                                 [funny_mark]   \n",
       "70                                                                              [interjections]   \n",
       "45                                                       [exclamation, question, quotes, dotes]   \n",
       "46                                                                                 [funny_mark]   \n",
       "54                                                                                           []   \n",
       "63                                                                              [interjections]   \n",
       "36                                                       [exclamation, question, quotes, dotes]   \n",
       "\n",
       "    precision    recall        F1    PR_AUC   ROC_AUC  \n",
       "8    0.735356  0.671607  0.702037  0.793596  0.774353  \n",
       "71   0.729030  0.665162  0.695633  0.786521  0.767301  \n",
       "58   0.728972  0.665154  0.695602  0.786475  0.767240  \n",
       "60   0.728721  0.664790  0.695289  0.786488  0.767280  \n",
       "41   0.723735  0.658911  0.689804  0.779186  0.757512  \n",
       "0    0.722344  0.655157  0.687112  0.777310  0.755042  \n",
       "47   0.720042  0.650969  0.683766  0.773785  0.751969  \n",
       "13   0.717978  0.647216  0.680763  0.771941  0.749482  \n",
       "35   0.717892  0.647278  0.680759  0.772008  0.749583  \n",
       "70   0.717638  0.647510  0.680773  0.771961  0.749464  \n",
       "45   0.668052  0.621971  0.644189  0.708752  0.696463  \n",
       "46   0.666675  0.624236  0.644758  0.705626  0.695839  \n",
       "54   0.666289  0.624407  0.644668  0.705405  0.695439  \n",
       "63   0.664931  0.628982  0.646457  0.705394  0.695433  \n",
       "36   0.649482  0.598643  0.623027  0.691641  0.672681  "
      ]
     },
     "execution_count": 11,
     "metadata": {},
     "output_type": "execute_result"
    }
   ],
   "source": [
    "pd.set_option('display.max_colwidth', df.shape[0] + 1)\n",
    "scores_df.sort_values(by=['precision'], ascending=False).head(15)"
   ]
  },
  {
   "cell_type": "markdown",
   "metadata": {},
   "source": [
    "## Get parameters for best Sklearn model"
   ]
  },
  {
   "cell_type": "code",
   "execution_count": 12,
   "metadata": {},
   "outputs": [],
   "source": [
    "tfidf = TfidfVectorizer(\n",
    "    ngram_range=(1, 3), \n",
    "    max_features=50000,\n",
    "    min_df=2\n",
    ")"
   ]
  },
  {
   "cell_type": "code",
   "execution_count": 13,
   "metadata": {},
   "outputs": [],
   "source": [
    "X = tfidf.fit_transform(train_df.rus_comment)\n",
    "y = train_df.label.values"
   ]
  },
  {
   "cell_type": "code",
   "execution_count": 14,
   "metadata": {},
   "outputs": [],
   "source": [
    "current_extra_features = [\n",
    "    'funny_mark', 'interjections', \n",
    "    'exclamation', 'question', 'quotes', 'dotes'\n",
    "]\n",
    "\n",
    "extra_features_data = csr_matrix(train_df[current_extra_features].values.astype(np.float))\n",
    "X = hstack([X, extra_features_data], format='csr')"
   ]
  },
  {
   "cell_type": "code",
   "execution_count": 15,
   "metadata": {},
   "outputs": [],
   "source": [
    "cv = KFold(n_splits=5, shuffle=True)"
   ]
  },
  {
   "cell_type": "code",
   "execution_count": 16,
   "metadata": {},
   "outputs": [],
   "source": [
    "clf = LogisticRegression(**default_logit_params_rus)  # --> lr_grid\n",
    "# clf = XGBClassifier(**default_xgb_params_rus)  # --> xgb_grid\n",
    "# clf = BernoulliNB(**default_bayes_params_rus)  # --> nb_grid"
   ]
  },
  {
   "cell_type": "code",
   "execution_count": 17,
   "metadata": {},
   "outputs": [],
   "source": [
    "scoring = {\n",
    "    'PREC': 'precision',\n",
    "    'PR_AUC': 'average_precision',\n",
    "    'AUC': 'roc_auc',  \n",
    "    'F1': 'f1_weighted'\n",
    "}"
   ]
  },
  {
   "cell_type": "code",
   "execution_count": 18,
   "metadata": {},
   "outputs": [],
   "source": [
    "gs = GridSearchCV(\n",
    "    clf, lr_grid, \n",
    "    scoring=scoring, cv=cv, \n",
    "    refit='AUC',\n",
    "    verbose=10, n_jobs=6\n",
    ")"
   ]
  },
  {
   "cell_type": "code",
   "execution_count": 19,
   "metadata": {},
   "outputs": [
    {
     "name": "stdout",
     "output_type": "stream",
     "text": [
      "Fitting 5 folds for each of 49 candidates, totalling 245 fits\n"
     ]
    }
   ],
   "source": [
    "search = gs.fit(X, y)"
   ]
  },
  {
   "cell_type": "code",
   "execution_count": 20,
   "metadata": {},
   "outputs": [
    {
     "data": {
      "text/plain": [
       "LogisticRegression(C=1, class_weight='balanced', multi_class='ovr', n_jobs=-2,\n",
       "                   solver='newton-cg')"
      ]
     },
     "execution_count": 20,
     "metadata": {},
     "output_type": "execute_result"
    }
   ],
   "source": [
    "best_estimator = gs.best_estimator_\n",
    "best_estimator"
   ]
  },
  {
   "cell_type": "code",
   "execution_count": 21,
   "metadata": {},
   "outputs": [
    {
     "data": {
      "application/vnd.jupyter.widget-view+json": {
       "model_id": "226780e8a35043a38081c4c382fbfcc8",
       "version_major": 2,
       "version_minor": 0
      },
      "text/plain": [
       "HBox(children=(FloatProgress(value=0.0, max=5.0), HTML(value='')))"
      ]
     },
     "metadata": {},
     "output_type": "display_data"
    },
    {
     "name": "stdout",
     "output_type": "stream",
     "text": [
      "\n",
      "F1: 0.70074\n",
      "ROC-AUC: 0.77321\n",
      "ACCURACY: 0.7028\n",
      "PR-AUC: 0.79335\n"
     ]
    }
   ],
   "source": [
    "get_best_model_metrics(X, y, cv, best_estimator)"
   ]
  },
  {
   "cell_type": "code",
   "execution_count": 22,
   "metadata": {},
   "outputs": [
    {
     "name": "stdout",
     "output_type": "stream",
     "text": [
      "F1: 0.69972\n",
      "PREC: 0.73401\n",
      "PR-AUC: 0.79161\n",
      "ROC-AUC: 0.77215\n",
      "-------------------------------------------------------\n",
      "              precision    recall  f1-score   support\n",
      "\n",
      "           0       0.67      0.74      0.70    119653\n",
      "           1       0.73      0.67      0.70    129068\n",
      "\n",
      "    accuracy                           0.70    248721\n",
      "   macro avg       0.70      0.70      0.70    248721\n",
      "weighted avg       0.71      0.70      0.70    248721\n",
      "\n",
      "-------------------------------------------------------\n"
     ]
    },
    {
     "data": {
      "image/png": "[encoded data removed]",
      "text/plain": [
       "<Figure size 1080x360 with 2 Axes>"
      ]
     },
     "metadata": {
      "needs_background": "light"
     },
     "output_type": "display_data"
    }
   ],
   "source": [
    "X_test = tfidf.transform(test_df.rus_comment)\n",
    "\n",
    "test_extra_features_data = csr_matrix(test_df[current_extra_features].values.astype(np.float))\n",
    "X_test = hstack([X_test, test_extra_features_data], format='csr')\n",
    "\n",
    "probas = best_estimator.predict_proba(X_test)\n",
    "show_test_classification_metrics(\n",
    "    test_df.label.values, \n",
    "    best_estimator.predict(X_test), \n",
    "    probas[:, 1], \n",
    "    X_test, \n",
    "    best_estimator,\n",
    "    probas,\n",
    ")"
   ]
  },
  {
   "cell_type": "code",
   "execution_count": 23,
   "metadata": {},
   "outputs": [
    {
     "data": {
      "text/plain": [
       "['../data/Models/reddit/tfidf.joblib']"
      ]
     },
     "execution_count": 23,
     "metadata": {},
     "output_type": "execute_result"
    }
   ],
   "source": [
    "dump(tfidf, '../data/Models/reddit/tfidf.joblib')"
   ]
  },
  {
   "cell_type": "code",
   "execution_count": 24,
   "metadata": {},
   "outputs": [
    {
     "data": {
      "text/plain": [
       "['../data/Models/reddit/LogisticRegression.joblib']"
      ]
     },
     "execution_count": 24,
     "metadata": {},
     "output_type": "execute_result"
    }
   ],
   "source": [
    "dump(best_estimator, '../data/Models/reddit/LogisticRegression.joblib')"
   ]
  }
 ],
 "metadata": {
  "kernelspec": {
   "display_name": "Python 3",
   "language": "python",
   "name": "python3"
  },
  "language_info": {
   "codemirror_mode": {
    "name": "ipython",
    "version": 3
   },
   "file_extension": ".py",
   "mimetype": "text/x-python",
   "name": "python",
   "nbconvert_exporter": "python",
   "pygments_lexer": "ipython3",
   "version": "3.6.9"
  }
 },
 "nbformat": 4,
 "nbformat_minor": 4
}
