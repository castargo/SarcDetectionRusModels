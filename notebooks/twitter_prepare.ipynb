{
 "cells": [
  {
   "cell_type": "markdown",
   "metadata": {},
   "source": [
    "# Dataset preprocessing"
   ]
  },
  {
   "cell_type": "code",
   "execution_count": 1,
   "metadata": {},
   "outputs": [],
   "source": [
    "import os\n",
    "\n",
    "import pandas as pd\n",
    "\n",
    "from sarcsdet.utils.mark_ling_feat import (\n",
    "    funny_marks_feature, interjections_feature, get_popular_items\n",
    ")\n",
    "from sarcsdet.utils.preprocess_data import Preprocessor"
   ]
  },
  {
   "cell_type": "markdown",
   "metadata": {},
   "source": [
    "### Get data"
   ]
  },
  {
   "cell_type": "code",
   "execution_count": 2,
   "metadata": {},
   "outputs": [],
   "source": [
    "data_path = '../data/Twitter'"
   ]
  },
  {
   "cell_type": "code",
   "execution_count": 3,
   "metadata": {},
   "outputs": [],
   "source": [
    "df = pd.read_csv(os.path.join(data_path, 'twitter.csv'), index_col='id')"
   ]
  },
  {
   "cell_type": "code",
   "execution_count": 4,
   "metadata": {},
   "outputs": [],
   "source": [
    "# source: twitter = 40000\n",
    "df['source'] = 40000\n",
    "\n",
    "# submitted_by: twitter = 16000\n",
    "df['submitted_by'] = 16000\n",
    "\n",
    "# target: twitter = all sarcastic/ironic\n",
    "df['target'] = 1"
   ]
  },
  {
   "cell_type": "code",
   "execution_count": 5,
   "metadata": {},
   "outputs": [
    {
     "data": {
      "text/html": [
       "<div>\n",
       "<style scoped>\n",
       "    .dataframe tbody tr th:only-of-type {\n",
       "        vertical-align: middle;\n",
       "    }\n",
       "\n",
       "    .dataframe tbody tr th {\n",
       "        vertical-align: top;\n",
       "    }\n",
       "\n",
       "    .dataframe thead th {\n",
       "        text-align: right;\n",
       "    }\n",
       "</style>\n",
       "<table border=\"1\" class=\"dataframe\">\n",
       "  <thead>\n",
       "    <tr style=\"text-align: right;\">\n",
       "      <th></th>\n",
       "      <th>tweet</th>\n",
       "      <th>rating</th>\n",
       "      <th>comments</th>\n",
       "      <th>source</th>\n",
       "      <th>submitted_by</th>\n",
       "      <th>target</th>\n",
       "    </tr>\n",
       "    <tr>\n",
       "      <th>id</th>\n",
       "      <th></th>\n",
       "      <th></th>\n",
       "      <th></th>\n",
       "      <th></th>\n",
       "      <th></th>\n",
       "      <th></th>\n",
       "    </tr>\n",
       "  </thead>\n",
       "  <tbody>\n",
       "    <tr>\n",
       "      <th>1369000399764619271</th>\n",
       "      <td>А уже можно высказываться о песне Манижи? Или надо подождать официальную рецензию Никсель Пиксель?</td>\n",
       "      <td>4724</td>\n",
       "      <td>81</td>\n",
       "      <td>40000</td>\n",
       "      <td>16000</td>\n",
       "      <td>1</td>\n",
       "    </tr>\n",
       "    <tr>\n",
       "      <th>1381504875444498435</th>\n",
       "      <td>Выигрышеая стратегия для мужика при высоком возрасте. дожития - в 47 лет завести 100 детей. А лучше - 200. У женщины такой стратегии, правда, нет, ...</td>\n",
       "      <td>0</td>\n",
       "      <td>0</td>\n",
       "      <td>40000</td>\n",
       "      <td>16000</td>\n",
       "      <td>1</td>\n",
       "    </tr>\n",
       "    <tr>\n",
       "      <th>1384538174861492228</th>\n",
       "      <td>А в итоге окажется, что экономика лженаука и всё это время правда можно было напечатать столько денег, чтобы всем хватило</td>\n",
       "      <td>9324</td>\n",
       "      <td>51</td>\n",
       "      <td>40000</td>\n",
       "      <td>16000</td>\n",
       "      <td>1</td>\n",
       "    </tr>\n",
       "    <tr>\n",
       "      <th>1383607877219151882</th>\n",
       "      <td>Дружба между коллегами невозможна. Кто-то кому-то точно хочет подсунуть работу.</td>\n",
       "      <td>4606</td>\n",
       "      <td>15</td>\n",
       "      <td>40000</td>\n",
       "      <td>16000</td>\n",
       "      <td>1</td>\n",
       "    </tr>\n",
       "    <tr>\n",
       "      <th>1382490754468184068</th>\n",
       "      <td>Майор Гром такой классный. Он за справедливость и пытает только плохих :) А анонимность это плохо, ведь она нужна террористам :( А народ кровожадны...</td>\n",
       "      <td>1553</td>\n",
       "      <td>49</td>\n",
       "      <td>40000</td>\n",
       "      <td>16000</td>\n",
       "      <td>1</td>\n",
       "    </tr>\n",
       "  </tbody>\n",
       "</table>\n",
       "</div>"
      ],
      "text/plain": [
       "                                                                                                                                                                      tweet  \\\n",
       "id                                                                                                                                                                            \n",
       "1369000399764619271                                                      А уже можно высказываться о песне Манижи? Или надо подождать официальную рецензию Никсель Пиксель?   \n",
       "1381504875444498435  Выигрышеая стратегия для мужика при высоком возрасте. дожития - в 47 лет завести 100 детей. А лучше - 200. У женщины такой стратегии, правда, нет, ...   \n",
       "1384538174861492228                               А в итоге окажется, что экономика лженаука и всё это время правда можно было напечатать столько денег, чтобы всем хватило   \n",
       "1383607877219151882                                                                         Дружба между коллегами невозможна. Кто-то кому-то точно хочет подсунуть работу.   \n",
       "1382490754468184068  Майор Гром такой классный. Он за справедливость и пытает только плохих :) А анонимность это плохо, ведь она нужна террористам :( А народ кровожадны...   \n",
       "\n",
       "                     rating  comments  source  submitted_by  target  \n",
       "id                                                                   \n",
       "1369000399764619271    4724        81   40000         16000       1  \n",
       "1381504875444498435       0         0   40000         16000       1  \n",
       "1384538174861492228    9324        51   40000         16000       1  \n",
       "1383607877219151882    4606        15   40000         16000       1  \n",
       "1382490754468184068    1553        49   40000         16000       1  "
      ]
     },
     "execution_count": 5,
     "metadata": {},
     "output_type": "execute_result"
    }
   ],
   "source": [
    "pd.set_option('display.max_colwidth', df.shape[0] + 1)\n",
    "df.head()"
   ]
  },
  {
   "cell_type": "markdown",
   "metadata": {},
   "source": [
    "### Text tokenization"
   ]
  },
  {
   "cell_type": "code",
   "execution_count": 6,
   "metadata": {},
   "outputs": [
    {
     "name": "stderr",
     "output_type": "stream",
     "text": [
      "[nltk_data] Downloading package stopwords to /home/kate/nltk_data...\n",
      "[nltk_data]   Package stopwords is already up-to-date!\n"
     ]
    }
   ],
   "source": [
    "preprocessor = Preprocessor('ru')"
   ]
  },
  {
   "cell_type": "code",
   "execution_count": 7,
   "metadata": {},
   "outputs": [],
   "source": [
    "df['tweet_tokenized'] = df.tweet.apply(preprocessor.preprocess_text)"
   ]
  },
  {
   "cell_type": "code",
   "execution_count": 8,
   "metadata": {},
   "outputs": [],
   "source": [
    "df = df[df['tweet_tokenized'].apply(lambda x: len(x) > 10)]"
   ]
  },
  {
   "cell_type": "markdown",
   "metadata": {},
   "source": [
    "### Extract linguistic features"
   ]
  },
  {
   "cell_type": "code",
   "execution_count": 9,
   "metadata": {},
   "outputs": [],
   "source": [
    "df['tweet'] = pd.Series(df['tweet'], dtype='str')\n",
    "df['tweet_tokenized'] = pd.Series(df['tweet_tokenized'], dtype='str')\n",
    "\n",
    "df['rating'] = pd.Series(df['rating'], dtype='int')\n",
    "df['comments'] = pd.Series(df['comments'], dtype='int')\n",
    "df['source'] = pd.Series(df['source'], dtype='int')\n",
    "df['submitted_by'] = pd.Series(df['submitted_by'], dtype='int')\n",
    "df['target'] = pd.Series(df['target'], dtype='int')"
   ]
  },
  {
   "cell_type": "markdown",
   "metadata": {},
   "source": [
    "### Add Linguistic Features"
   ]
  },
  {
   "cell_type": "code",
   "execution_count": 10,
   "metadata": {},
   "outputs": [],
   "source": [
    "df['exclamation'] = df.tweet.apply(lambda s: s.count('!'))\n",
    "df['question'] = df.tweet.apply(lambda s: s.count('?'))\n",
    "df['dotes'] = df.tweet.apply(lambda s: s.count('...'))\n",
    "df['quotes'] = df.tweet.apply(lambda s: s.count(\"\\\"\") + s.count(\"\\'\"))"
   ]
  },
  {
   "cell_type": "code",
   "execution_count": 11,
   "metadata": {},
   "outputs": [],
   "source": [
    "df['funny_mark'] = df.tweet.apply(funny_marks_feature)"
   ]
  },
  {
   "cell_type": "code",
   "execution_count": 12,
   "metadata": {},
   "outputs": [],
   "source": [
    "df['interjections'] = df.tweet.apply(interjections_feature)"
   ]
  },
  {
   "cell_type": "markdown",
   "metadata": {},
   "source": [
    "### Rename columns"
   ]
  },
  {
   "cell_type": "code",
   "execution_count": 13,
   "metadata": {},
   "outputs": [],
   "source": [
    "df.rename(\n",
    "    columns={\n",
    "        'tweet': 'quote', 'tweet_tokenized': 'quote_tokenized', \n",
    "        'comments': 'comments_count'\n",
    "    }, inplace=True\n",
    ")"
   ]
  },
  {
   "cell_type": "markdown",
   "metadata": {},
   "source": [
    "### Save dataset"
   ]
  },
  {
   "cell_type": "code",
   "execution_count": 14,
   "metadata": {},
   "outputs": [],
   "source": [
    "df.to_csv(os.path.join(data_path, 'twitter_tokenized.csv'))"
   ]
  }
 ],
 "metadata": {
  "kernelspec": {
   "display_name": "Python 3",
   "language": "python",
   "name": "python3"
  },
  "language_info": {
   "codemirror_mode": {
    "name": "ipython",
    "version": 3
   },
   "file_extension": ".py",
   "mimetype": "text/x-python",
   "name": "python",
   "nbconvert_exporter": "python",
   "pygments_lexer": "ipython3",
   "version": "3.6.9"
  }
 },
 "nbformat": 4,
 "nbformat_minor": 4
}
